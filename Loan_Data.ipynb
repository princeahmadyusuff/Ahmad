{
 "cells": [
  {
   "cell_type": "code",
   "execution_count": 1,
   "metadata": {},
   "outputs": [
    {
     "data": {
      "text/html": [
       "<div>\n",
       "<style scoped>\n",
       "    .dataframe tbody tr th:only-of-type {\n",
       "        vertical-align: middle;\n",
       "    }\n",
       "\n",
       "    .dataframe tbody tr th {\n",
       "        vertical-align: top;\n",
       "    }\n",
       "\n",
       "    .dataframe thead th {\n",
       "        text-align: right;\n",
       "    }\n",
       "</style>\n",
       "<table border=\"1\" class=\"dataframe\">\n",
       "  <thead>\n",
       "    <tr style=\"text-align: right;\">\n",
       "      <th></th>\n",
       "      <th>Loan_ID</th>\n",
       "      <th>Gender</th>\n",
       "      <th>Married</th>\n",
       "      <th>Dependents</th>\n",
       "      <th>Education</th>\n",
       "      <th>Self_Employed</th>\n",
       "      <th>ApplicantIncome</th>\n",
       "      <th>CoapplicantIncome</th>\n",
       "      <th>LoanAmount</th>\n",
       "      <th>Loan_Amount_Term</th>\n",
       "      <th>Credit_History</th>\n",
       "      <th>Property_Area</th>\n",
       "      <th>Loan_Status</th>\n",
       "    </tr>\n",
       "  </thead>\n",
       "  <tbody>\n",
       "    <tr>\n",
       "      <th>0</th>\n",
       "      <td>LP001002</td>\n",
       "      <td>Male</td>\n",
       "      <td>No</td>\n",
       "      <td>0</td>\n",
       "      <td>Graduate</td>\n",
       "      <td>No</td>\n",
       "      <td>5849</td>\n",
       "      <td>0.0</td>\n",
       "      <td>NaN</td>\n",
       "      <td>360.0</td>\n",
       "      <td>1.0</td>\n",
       "      <td>Urban</td>\n",
       "      <td>Y</td>\n",
       "    </tr>\n",
       "    <tr>\n",
       "      <th>1</th>\n",
       "      <td>LP001003</td>\n",
       "      <td>Male</td>\n",
       "      <td>Yes</td>\n",
       "      <td>1</td>\n",
       "      <td>Graduate</td>\n",
       "      <td>No</td>\n",
       "      <td>4583</td>\n",
       "      <td>1508.0</td>\n",
       "      <td>128.0</td>\n",
       "      <td>360.0</td>\n",
       "      <td>1.0</td>\n",
       "      <td>Rural</td>\n",
       "      <td>N</td>\n",
       "    </tr>\n",
       "    <tr>\n",
       "      <th>2</th>\n",
       "      <td>LP001005</td>\n",
       "      <td>Male</td>\n",
       "      <td>Yes</td>\n",
       "      <td>0</td>\n",
       "      <td>Graduate</td>\n",
       "      <td>Yes</td>\n",
       "      <td>3000</td>\n",
       "      <td>0.0</td>\n",
       "      <td>66.0</td>\n",
       "      <td>360.0</td>\n",
       "      <td>1.0</td>\n",
       "      <td>Urban</td>\n",
       "      <td>Y</td>\n",
       "    </tr>\n",
       "    <tr>\n",
       "      <th>3</th>\n",
       "      <td>LP001006</td>\n",
       "      <td>Male</td>\n",
       "      <td>Yes</td>\n",
       "      <td>0</td>\n",
       "      <td>Not Graduate</td>\n",
       "      <td>No</td>\n",
       "      <td>2583</td>\n",
       "      <td>2358.0</td>\n",
       "      <td>120.0</td>\n",
       "      <td>360.0</td>\n",
       "      <td>1.0</td>\n",
       "      <td>Urban</td>\n",
       "      <td>Y</td>\n",
       "    </tr>\n",
       "    <tr>\n",
       "      <th>4</th>\n",
       "      <td>LP001008</td>\n",
       "      <td>Male</td>\n",
       "      <td>No</td>\n",
       "      <td>0</td>\n",
       "      <td>Graduate</td>\n",
       "      <td>No</td>\n",
       "      <td>6000</td>\n",
       "      <td>0.0</td>\n",
       "      <td>141.0</td>\n",
       "      <td>360.0</td>\n",
       "      <td>1.0</td>\n",
       "      <td>Urban</td>\n",
       "      <td>Y</td>\n",
       "    </tr>\n",
       "    <tr>\n",
       "      <th>...</th>\n",
       "      <td>...</td>\n",
       "      <td>...</td>\n",
       "      <td>...</td>\n",
       "      <td>...</td>\n",
       "      <td>...</td>\n",
       "      <td>...</td>\n",
       "      <td>...</td>\n",
       "      <td>...</td>\n",
       "      <td>...</td>\n",
       "      <td>...</td>\n",
       "      <td>...</td>\n",
       "      <td>...</td>\n",
       "      <td>...</td>\n",
       "    </tr>\n",
       "    <tr>\n",
       "      <th>609</th>\n",
       "      <td>LP002978</td>\n",
       "      <td>Female</td>\n",
       "      <td>No</td>\n",
       "      <td>0</td>\n",
       "      <td>Graduate</td>\n",
       "      <td>No</td>\n",
       "      <td>2900</td>\n",
       "      <td>0.0</td>\n",
       "      <td>71.0</td>\n",
       "      <td>360.0</td>\n",
       "      <td>1.0</td>\n",
       "      <td>Rural</td>\n",
       "      <td>Y</td>\n",
       "    </tr>\n",
       "    <tr>\n",
       "      <th>610</th>\n",
       "      <td>LP002979</td>\n",
       "      <td>Male</td>\n",
       "      <td>Yes</td>\n",
       "      <td>3+</td>\n",
       "      <td>Graduate</td>\n",
       "      <td>No</td>\n",
       "      <td>4106</td>\n",
       "      <td>0.0</td>\n",
       "      <td>40.0</td>\n",
       "      <td>180.0</td>\n",
       "      <td>1.0</td>\n",
       "      <td>Rural</td>\n",
       "      <td>Y</td>\n",
       "    </tr>\n",
       "    <tr>\n",
       "      <th>611</th>\n",
       "      <td>LP002983</td>\n",
       "      <td>Male</td>\n",
       "      <td>Yes</td>\n",
       "      <td>1</td>\n",
       "      <td>Graduate</td>\n",
       "      <td>No</td>\n",
       "      <td>8072</td>\n",
       "      <td>240.0</td>\n",
       "      <td>253.0</td>\n",
       "      <td>360.0</td>\n",
       "      <td>1.0</td>\n",
       "      <td>Urban</td>\n",
       "      <td>Y</td>\n",
       "    </tr>\n",
       "    <tr>\n",
       "      <th>612</th>\n",
       "      <td>LP002984</td>\n",
       "      <td>Male</td>\n",
       "      <td>Yes</td>\n",
       "      <td>2</td>\n",
       "      <td>Graduate</td>\n",
       "      <td>No</td>\n",
       "      <td>7583</td>\n",
       "      <td>0.0</td>\n",
       "      <td>187.0</td>\n",
       "      <td>360.0</td>\n",
       "      <td>1.0</td>\n",
       "      <td>Urban</td>\n",
       "      <td>Y</td>\n",
       "    </tr>\n",
       "    <tr>\n",
       "      <th>613</th>\n",
       "      <td>LP002990</td>\n",
       "      <td>Female</td>\n",
       "      <td>No</td>\n",
       "      <td>0</td>\n",
       "      <td>Graduate</td>\n",
       "      <td>Yes</td>\n",
       "      <td>4583</td>\n",
       "      <td>0.0</td>\n",
       "      <td>133.0</td>\n",
       "      <td>360.0</td>\n",
       "      <td>0.0</td>\n",
       "      <td>Semiurban</td>\n",
       "      <td>N</td>\n",
       "    </tr>\n",
       "  </tbody>\n",
       "</table>\n",
       "<p>614 rows × 13 columns</p>\n",
       "</div>"
      ],
      "text/plain": [
       "      Loan_ID  Gender Married Dependents     Education Self_Employed  \\\n",
       "0    LP001002    Male      No          0      Graduate            No   \n",
       "1    LP001003    Male     Yes          1      Graduate            No   \n",
       "2    LP001005    Male     Yes          0      Graduate           Yes   \n",
       "3    LP001006    Male     Yes          0  Not Graduate            No   \n",
       "4    LP001008    Male      No          0      Graduate            No   \n",
       "..        ...     ...     ...        ...           ...           ...   \n",
       "609  LP002978  Female      No          0      Graduate            No   \n",
       "610  LP002979    Male     Yes         3+      Graduate            No   \n",
       "611  LP002983    Male     Yes          1      Graduate            No   \n",
       "612  LP002984    Male     Yes          2      Graduate            No   \n",
       "613  LP002990  Female      No          0      Graduate           Yes   \n",
       "\n",
       "     ApplicantIncome  CoapplicantIncome  LoanAmount  Loan_Amount_Term  \\\n",
       "0               5849                0.0         NaN             360.0   \n",
       "1               4583             1508.0       128.0             360.0   \n",
       "2               3000                0.0        66.0             360.0   \n",
       "3               2583             2358.0       120.0             360.0   \n",
       "4               6000                0.0       141.0             360.0   \n",
       "..               ...                ...         ...               ...   \n",
       "609             2900                0.0        71.0             360.0   \n",
       "610             4106                0.0        40.0             180.0   \n",
       "611             8072              240.0       253.0             360.0   \n",
       "612             7583                0.0       187.0             360.0   \n",
       "613             4583                0.0       133.0             360.0   \n",
       "\n",
       "     Credit_History Property_Area Loan_Status  \n",
       "0               1.0         Urban           Y  \n",
       "1               1.0         Rural           N  \n",
       "2               1.0         Urban           Y  \n",
       "3               1.0         Urban           Y  \n",
       "4               1.0         Urban           Y  \n",
       "..              ...           ...         ...  \n",
       "609             1.0         Rural           Y  \n",
       "610             1.0         Rural           Y  \n",
       "611             1.0         Urban           Y  \n",
       "612             1.0         Urban           Y  \n",
       "613             0.0     Semiurban           N  \n",
       "\n",
       "[614 rows x 13 columns]"
      ]
     },
     "execution_count": 1,
     "metadata": {},
     "output_type": "execute_result"
    }
   ],
   "source": [
    "import pandas as pd\n",
    "\n",
    "loan_data = pd.read_csv('Loan_prediction_dataset.csv')\n",
    "loan_data"
   ]
  },
  {
   "cell_type": "code",
   "execution_count": 3,
   "metadata": {},
   "outputs": [
    {
     "data": {
      "text/plain": [
       "Loan_ID               0\n",
       "Gender               13\n",
       "Married               3\n",
       "Dependents           15\n",
       "Education             0\n",
       "Self_Employed        32\n",
       "ApplicantIncome       0\n",
       "CoapplicantIncome     0\n",
       "LoanAmount           22\n",
       "Loan_Amount_Term     14\n",
       "Credit_History       50\n",
       "Property_Area         0\n",
       "Loan_Status           0\n",
       "dtype: int64"
      ]
     },
     "execution_count": 3,
     "metadata": {},
     "output_type": "execute_result"
    }
   ],
   "source": [
    "loan_data.isnull().sum()"
   ]
  },
  {
   "cell_type": "code",
   "execution_count": 7,
   "metadata": {},
   "outputs": [],
   "source": [
    "loan_data['Gender'].fillna(loan_data['Gender'] == 'Male', inplace=True)"
   ]
  },
  {
   "cell_type": "code",
   "execution_count": 15,
   "metadata": {},
   "outputs": [
    {
     "name": "stdout",
     "output_type": "stream",
     "text": [
      "<class 'pandas.core.frame.DataFrame'>\n",
      "RangeIndex: 614 entries, 0 to 613\n",
      "Data columns (total 13 columns):\n",
      " #   Column             Non-Null Count  Dtype  \n",
      "---  ------             --------------  -----  \n",
      " 0   Loan_ID            614 non-null    object \n",
      " 1   Gender             614 non-null    object \n",
      " 2   Married            614 non-null    object \n",
      " 3   Dependents         599 non-null    object \n",
      " 4   Education          614 non-null    object \n",
      " 5   Self_Employed      582 non-null    object \n",
      " 6   ApplicantIncome    614 non-null    int64  \n",
      " 7   CoapplicantIncome  614 non-null    float64\n",
      " 8   LoanAmount         592 non-null    float64\n",
      " 9   Loan_Amount_Term   600 non-null    float64\n",
      " 10  Credit_History     564 non-null    float64\n",
      " 11  Property_Area      614 non-null    object \n",
      " 12  Loan_Status        614 non-null    object \n",
      "dtypes: float64(4), int64(1), object(8)\n",
      "memory usage: 62.5+ KB\n"
     ]
    }
   ],
   "source": [
    "loan_data.info()"
   ]
  },
  {
   "cell_type": "code",
   "execution_count": 31,
   "metadata": {},
   "outputs": [
    {
     "data": {
      "text/plain": [
       "Loan_ID              0\n",
       "Gender               0\n",
       "Married              0\n",
       "Dependents           0\n",
       "Education            0\n",
       "Self_Employed        0\n",
       "ApplicantIncome      0\n",
       "CoapplicantIncome    0\n",
       "LoanAmount           0\n",
       "Loan_Amount_Term     0\n",
       "Credit_History       0\n",
       "Property_Area        0\n",
       "Loan_Status          0\n",
       "dtype: int64"
      ]
     },
     "execution_count": 31,
     "metadata": {},
     "output_type": "execute_result"
    }
   ],
   "source": [
    "loan_data.isnull().sum()"
   ]
  },
  {
   "cell_type": "code",
   "execution_count": 9,
   "metadata": {},
   "outputs": [],
   "source": [
    "loan_data['Married'].fillna(loan_data['Married'].mode()[0], inplace=True)"
   ]
  },
  {
   "cell_type": "code",
   "execution_count": 17,
   "metadata": {},
   "outputs": [],
   "source": [
    "loan_data['Dependents'].fillna(loan_data['Dependents'].mode()[0], inplace=True)"
   ]
  },
  {
   "cell_type": "code",
   "execution_count": 20,
   "metadata": {},
   "outputs": [],
   "source": [
    "loan_data['Self_Employed'].fillna(loan_data['Self_Employed'].mode()[0], inplace=True)"
   ]
  },
  {
   "cell_type": "code",
   "execution_count": 26,
   "metadata": {},
   "outputs": [],
   "source": [
    "loan_data['LoanAmount'].fillna(loan_data['LoanAmount'].mean(), inplace=True)"
   ]
  },
  {
   "cell_type": "code",
   "execution_count": 28,
   "metadata": {},
   "outputs": [],
   "source": [
    "loan_data['Loan_Amount_Term'].fillna(loan_data['Loan_Amount_Term'].mean(), inplace=True)"
   ]
  },
  {
   "cell_type": "code",
   "execution_count": 30,
   "metadata": {},
   "outputs": [],
   "source": [
    "loan_data['Credit_History'].fillna(loan_data['Credit_History'].mean(), inplace=True)"
   ]
  },
  {
   "cell_type": "code",
   "execution_count": 42,
   "metadata": {},
   "outputs": [],
   "source": [
    "import plotly.express as px\n",
    "\n",
    "loan_bar = px.bar(loan_data, x = 'Property_Area', y = 'Loan_Amount_Term', color='Property_Area', title='Loan Amount Term by Property Area', height = 600, width= 800)"
   ]
  },
  {
   "cell_type": "code",
   "execution_count": 43,
   "metadata": {},
   "outputs": [
    {
     "data": {
      "application/vnd.plotly.v1+json": {
       "config": {
        "plotlyServerURL": "https://plot.ly"
       },
       "data": [
        {
         "alignmentgroup": "True",
         "hovertemplate": "Property_Area=%{x}<br>Loan_Amount_Term=%{y}<extra></extra>",
         "legendgroup": "Urban",
         "marker": {
          "color": "#636efa",
          "pattern": {
           "shape": ""
          }
         },
         "name": "Urban",
         "offsetgroup": "Urban",
         "orientation": "v",
         "showlegend": true,
         "textposition": "auto",
         "type": "bar",
         "x": [
          "Urban",
          "Urban",
          "Urban",
          "Urban",
          "Urban",
          "Urban",
          "Urban",
          "Urban",
          "Urban",
          "Urban",
          "Urban",
          "Urban",
          "Urban",
          "Urban",
          "Urban",
          "Urban",
          "Urban",
          "Urban",
          "Urban",
          "Urban",
          "Urban",
          "Urban",
          "Urban",
          "Urban",
          "Urban",
          "Urban",
          "Urban",
          "Urban",
          "Urban",
          "Urban",
          "Urban",
          "Urban",
          "Urban",
          "Urban",
          "Urban",
          "Urban",
          "Urban",
          "Urban",
          "Urban",
          "Urban",
          "Urban",
          "Urban",
          "Urban",
          "Urban",
          "Urban",
          "Urban",
          "Urban",
          "Urban",
          "Urban",
          "Urban",
          "Urban",
          "Urban",
          "Urban",
          "Urban",
          "Urban",
          "Urban",
          "Urban",
          "Urban",
          "Urban",
          "Urban",
          "Urban",
          "Urban",
          "Urban",
          "Urban",
          "Urban",
          "Urban",
          "Urban",
          "Urban",
          "Urban",
          "Urban",
          "Urban",
          "Urban",
          "Urban",
          "Urban",
          "Urban",
          "Urban",
          "Urban",
          "Urban",
          "Urban",
          "Urban",
          "Urban",
          "Urban",
          "Urban",
          "Urban",
          "Urban",
          "Urban",
          "Urban",
          "Urban",
          "Urban",
          "Urban",
          "Urban",
          "Urban",
          "Urban",
          "Urban",
          "Urban",
          "Urban",
          "Urban",
          "Urban",
          "Urban",
          "Urban",
          "Urban",
          "Urban",
          "Urban",
          "Urban",
          "Urban",
          "Urban",
          "Urban",
          "Urban",
          "Urban",
          "Urban",
          "Urban",
          "Urban",
          "Urban",
          "Urban",
          "Urban",
          "Urban",
          "Urban",
          "Urban",
          "Urban",
          "Urban",
          "Urban",
          "Urban",
          "Urban",
          "Urban",
          "Urban",
          "Urban",
          "Urban",
          "Urban",
          "Urban",
          "Urban",
          "Urban",
          "Urban",
          "Urban",
          "Urban",
          "Urban",
          "Urban",
          "Urban",
          "Urban",
          "Urban",
          "Urban",
          "Urban",
          "Urban",
          "Urban",
          "Urban",
          "Urban",
          "Urban",
          "Urban",
          "Urban",
          "Urban",
          "Urban",
          "Urban",
          "Urban",
          "Urban",
          "Urban",
          "Urban",
          "Urban",
          "Urban",
          "Urban",
          "Urban",
          "Urban",
          "Urban",
          "Urban",
          "Urban",
          "Urban",
          "Urban",
          "Urban",
          "Urban",
          "Urban",
          "Urban",
          "Urban",
          "Urban",
          "Urban",
          "Urban",
          "Urban",
          "Urban",
          "Urban",
          "Urban",
          "Urban",
          "Urban",
          "Urban",
          "Urban",
          "Urban",
          "Urban",
          "Urban",
          "Urban",
          "Urban",
          "Urban",
          "Urban",
          "Urban",
          "Urban",
          "Urban",
          "Urban",
          "Urban",
          "Urban",
          "Urban",
          "Urban",
          "Urban",
          "Urban",
          "Urban",
          "Urban",
          "Urban",
          "Urban"
         ],
         "xaxis": "x",
         "y": [
          360,
          360,
          360,
          360,
          360,
          360,
          360,
          360,
          360,
          360,
          120,
          360,
          240,
          360,
          342,
          360,
          360,
          360,
          360,
          360,
          360,
          360,
          342,
          360,
          360,
          360,
          360,
          342,
          342,
          360,
          360,
          360,
          360,
          360,
          360,
          360,
          360,
          360,
          180,
          360,
          60,
          360,
          480,
          360,
          360,
          360,
          240,
          360,
          360,
          360,
          180,
          360,
          360,
          360,
          360,
          360,
          360,
          360,
          360,
          180,
          480,
          360,
          360,
          360,
          180,
          360,
          360,
          360,
          360,
          360,
          360,
          180,
          300,
          480,
          360,
          360,
          342,
          360,
          180,
          360,
          360,
          360,
          360,
          360,
          360,
          360,
          360,
          360,
          180,
          60,
          180,
          360,
          180,
          360,
          360,
          360,
          360,
          360,
          360,
          360,
          360,
          360,
          360,
          360,
          180,
          360,
          360,
          480,
          360,
          360,
          360,
          360,
          360,
          360,
          360,
          180,
          360,
          360,
          360,
          360,
          360,
          180,
          180,
          360,
          360,
          360,
          180,
          360,
          480,
          360,
          300,
          180,
          360,
          180,
          480,
          360,
          360,
          360,
          360,
          180,
          360,
          360,
          360,
          360,
          360,
          360,
          180,
          360,
          360,
          360,
          360,
          360,
          342,
          360,
          342,
          180,
          360,
          360,
          360,
          300,
          360,
          360,
          180,
          180,
          360,
          360,
          360,
          360,
          360,
          360,
          12,
          360,
          360,
          360,
          360,
          360,
          360,
          360,
          360,
          360,
          360,
          360,
          360,
          360,
          360,
          360,
          360,
          360,
          360,
          360,
          84,
          360,
          360,
          360,
          360,
          360,
          360,
          180,
          360,
          180,
          360,
          360
         ],
         "yaxis": "y"
        },
        {
         "alignmentgroup": "True",
         "hovertemplate": "Property_Area=%{x}<br>Loan_Amount_Term=%{y}<extra></extra>",
         "legendgroup": "Rural",
         "marker": {
          "color": "#EF553B",
          "pattern": {
           "shape": ""
          }
         },
         "name": "Rural",
         "offsetgroup": "Rural",
         "orientation": "v",
         "showlegend": true,
         "textposition": "auto",
         "type": "bar",
         "x": [
          "Rural",
          "Rural",
          "Rural",
          "Rural",
          "Rural",
          "Rural",
          "Rural",
          "Rural",
          "Rural",
          "Rural",
          "Rural",
          "Rural",
          "Rural",
          "Rural",
          "Rural",
          "Rural",
          "Rural",
          "Rural",
          "Rural",
          "Rural",
          "Rural",
          "Rural",
          "Rural",
          "Rural",
          "Rural",
          "Rural",
          "Rural",
          "Rural",
          "Rural",
          "Rural",
          "Rural",
          "Rural",
          "Rural",
          "Rural",
          "Rural",
          "Rural",
          "Rural",
          "Rural",
          "Rural",
          "Rural",
          "Rural",
          "Rural",
          "Rural",
          "Rural",
          "Rural",
          "Rural",
          "Rural",
          "Rural",
          "Rural",
          "Rural",
          "Rural",
          "Rural",
          "Rural",
          "Rural",
          "Rural",
          "Rural",
          "Rural",
          "Rural",
          "Rural",
          "Rural",
          "Rural",
          "Rural",
          "Rural",
          "Rural",
          "Rural",
          "Rural",
          "Rural",
          "Rural",
          "Rural",
          "Rural",
          "Rural",
          "Rural",
          "Rural",
          "Rural",
          "Rural",
          "Rural",
          "Rural",
          "Rural",
          "Rural",
          "Rural",
          "Rural",
          "Rural",
          "Rural",
          "Rural",
          "Rural",
          "Rural",
          "Rural",
          "Rural",
          "Rural",
          "Rural",
          "Rural",
          "Rural",
          "Rural",
          "Rural",
          "Rural",
          "Rural",
          "Rural",
          "Rural",
          "Rural",
          "Rural",
          "Rural",
          "Rural",
          "Rural",
          "Rural",
          "Rural",
          "Rural",
          "Rural",
          "Rural",
          "Rural",
          "Rural",
          "Rural",
          "Rural",
          "Rural",
          "Rural",
          "Rural",
          "Rural",
          "Rural",
          "Rural",
          "Rural",
          "Rural",
          "Rural",
          "Rural",
          "Rural",
          "Rural",
          "Rural",
          "Rural",
          "Rural",
          "Rural",
          "Rural",
          "Rural",
          "Rural",
          "Rural",
          "Rural",
          "Rural",
          "Rural",
          "Rural",
          "Rural",
          "Rural",
          "Rural",
          "Rural",
          "Rural",
          "Rural",
          "Rural",
          "Rural",
          "Rural",
          "Rural",
          "Rural",
          "Rural",
          "Rural",
          "Rural",
          "Rural",
          "Rural",
          "Rural",
          "Rural",
          "Rural",
          "Rural",
          "Rural",
          "Rural",
          "Rural",
          "Rural",
          "Rural",
          "Rural",
          "Rural",
          "Rural",
          "Rural",
          "Rural",
          "Rural",
          "Rural",
          "Rural",
          "Rural",
          "Rural",
          "Rural",
          "Rural",
          "Rural",
          "Rural",
          "Rural",
          "Rural",
          "Rural",
          "Rural"
         ],
         "xaxis": "x",
         "y": [
          360,
          360,
          360,
          360,
          360,
          360,
          360,
          180,
          360,
          360,
          342,
          180,
          360,
          360,
          360,
          360,
          360,
          360,
          360,
          360,
          360,
          360,
          360,
          360,
          360,
          360,
          360,
          360,
          360,
          342,
          360,
          360,
          360,
          180,
          360,
          360,
          360,
          300,
          360,
          360,
          180,
          360,
          360,
          360,
          360,
          360,
          360,
          360,
          360,
          180,
          342,
          360,
          360,
          360,
          360,
          360,
          360,
          360,
          360,
          360,
          360,
          360,
          360,
          360,
          360,
          360,
          360,
          360,
          360,
          480,
          360,
          360,
          360,
          360,
          360,
          360,
          84,
          360,
          360,
          360,
          360,
          360,
          360,
          360,
          360,
          360,
          360,
          360,
          360,
          360,
          360,
          360,
          360,
          360,
          360,
          360,
          360,
          342,
          360,
          300,
          360,
          360,
          360,
          360,
          360,
          300,
          360,
          360,
          360,
          360,
          360,
          360,
          360,
          360,
          360,
          360,
          360,
          360,
          360,
          300,
          360,
          360,
          360,
          360,
          360,
          360,
          180,
          360,
          360,
          360,
          180,
          360,
          360,
          360,
          360,
          360,
          360,
          360,
          360,
          360,
          360,
          480,
          360,
          360,
          360,
          360,
          360,
          360,
          360,
          360,
          360,
          360,
          360,
          360,
          360,
          180,
          360,
          360,
          360,
          360,
          360,
          180,
          360,
          360,
          360,
          360,
          360,
          360,
          84,
          180,
          360,
          360,
          360,
          360,
          360,
          360,
          360,
          360,
          180
         ],
         "yaxis": "y"
        },
        {
         "alignmentgroup": "True",
         "hovertemplate": "Property_Area=%{x}<br>Loan_Amount_Term=%{y}<extra></extra>",
         "legendgroup": "Semiurban",
         "marker": {
          "color": "#00cc96",
          "pattern": {
           "shape": ""
          }
         },
         "name": "Semiurban",
         "offsetgroup": "Semiurban",
         "orientation": "v",
         "showlegend": true,
         "textposition": "auto",
         "type": "bar",
         "x": [
          "Semiurban",
          "Semiurban",
          "Semiurban",
          "Semiurban",
          "Semiurban",
          "Semiurban",
          "Semiurban",
          "Semiurban",
          "Semiurban",
          "Semiurban",
          "Semiurban",
          "Semiurban",
          "Semiurban",
          "Semiurban",
          "Semiurban",
          "Semiurban",
          "Semiurban",
          "Semiurban",
          "Semiurban",
          "Semiurban",
          "Semiurban",
          "Semiurban",
          "Semiurban",
          "Semiurban",
          "Semiurban",
          "Semiurban",
          "Semiurban",
          "Semiurban",
          "Semiurban",
          "Semiurban",
          "Semiurban",
          "Semiurban",
          "Semiurban",
          "Semiurban",
          "Semiurban",
          "Semiurban",
          "Semiurban",
          "Semiurban",
          "Semiurban",
          "Semiurban",
          "Semiurban",
          "Semiurban",
          "Semiurban",
          "Semiurban",
          "Semiurban",
          "Semiurban",
          "Semiurban",
          "Semiurban",
          "Semiurban",
          "Semiurban",
          "Semiurban",
          "Semiurban",
          "Semiurban",
          "Semiurban",
          "Semiurban",
          "Semiurban",
          "Semiurban",
          "Semiurban",
          "Semiurban",
          "Semiurban",
          "Semiurban",
          "Semiurban",
          "Semiurban",
          "Semiurban",
          "Semiurban",
          "Semiurban",
          "Semiurban",
          "Semiurban",
          "Semiurban",
          "Semiurban",
          "Semiurban",
          "Semiurban",
          "Semiurban",
          "Semiurban",
          "Semiurban",
          "Semiurban",
          "Semiurban",
          "Semiurban",
          "Semiurban",
          "Semiurban",
          "Semiurban",
          "Semiurban",
          "Semiurban",
          "Semiurban",
          "Semiurban",
          "Semiurban",
          "Semiurban",
          "Semiurban",
          "Semiurban",
          "Semiurban",
          "Semiurban",
          "Semiurban",
          "Semiurban",
          "Semiurban",
          "Semiurban",
          "Semiurban",
          "Semiurban",
          "Semiurban",
          "Semiurban",
          "Semiurban",
          "Semiurban",
          "Semiurban",
          "Semiurban",
          "Semiurban",
          "Semiurban",
          "Semiurban",
          "Semiurban",
          "Semiurban",
          "Semiurban",
          "Semiurban",
          "Semiurban",
          "Semiurban",
          "Semiurban",
          "Semiurban",
          "Semiurban",
          "Semiurban",
          "Semiurban",
          "Semiurban",
          "Semiurban",
          "Semiurban",
          "Semiurban",
          "Semiurban",
          "Semiurban",
          "Semiurban",
          "Semiurban",
          "Semiurban",
          "Semiurban",
          "Semiurban",
          "Semiurban",
          "Semiurban",
          "Semiurban",
          "Semiurban",
          "Semiurban",
          "Semiurban",
          "Semiurban",
          "Semiurban",
          "Semiurban",
          "Semiurban",
          "Semiurban",
          "Semiurban",
          "Semiurban",
          "Semiurban",
          "Semiurban",
          "Semiurban",
          "Semiurban",
          "Semiurban",
          "Semiurban",
          "Semiurban",
          "Semiurban",
          "Semiurban",
          "Semiurban",
          "Semiurban",
          "Semiurban",
          "Semiurban",
          "Semiurban",
          "Semiurban",
          "Semiurban",
          "Semiurban",
          "Semiurban",
          "Semiurban",
          "Semiurban",
          "Semiurban",
          "Semiurban",
          "Semiurban",
          "Semiurban",
          "Semiurban",
          "Semiurban",
          "Semiurban",
          "Semiurban",
          "Semiurban",
          "Semiurban",
          "Semiurban",
          "Semiurban",
          "Semiurban",
          "Semiurban",
          "Semiurban",
          "Semiurban",
          "Semiurban",
          "Semiurban",
          "Semiurban",
          "Semiurban",
          "Semiurban",
          "Semiurban",
          "Semiurban",
          "Semiurban",
          "Semiurban",
          "Semiurban",
          "Semiurban",
          "Semiurban",
          "Semiurban",
          "Semiurban",
          "Semiurban",
          "Semiurban",
          "Semiurban",
          "Semiurban",
          "Semiurban",
          "Semiurban",
          "Semiurban",
          "Semiurban",
          "Semiurban",
          "Semiurban",
          "Semiurban",
          "Semiurban",
          "Semiurban",
          "Semiurban",
          "Semiurban",
          "Semiurban",
          "Semiurban",
          "Semiurban",
          "Semiurban",
          "Semiurban",
          "Semiurban",
          "Semiurban",
          "Semiurban",
          "Semiurban",
          "Semiurban",
          "Semiurban",
          "Semiurban",
          "Semiurban",
          "Semiurban",
          "Semiurban",
          "Semiurban",
          "Semiurban",
          "Semiurban",
          "Semiurban",
          "Semiurban",
          "Semiurban",
          "Semiurban",
          "Semiurban",
          "Semiurban",
          "Semiurban",
          "Semiurban",
          "Semiurban"
         ],
         "xaxis": "x",
         "y": [
          360,
          360,
          360,
          360,
          360,
          360,
          360,
          360,
          360,
          360,
          360,
          360,
          360,
          360,
          360,
          360,
          360,
          360,
          360,
          360,
          360,
          300,
          342,
          360,
          300,
          360,
          360,
          360,
          360,
          360,
          360,
          360,
          360,
          360,
          180,
          360,
          120,
          360,
          360,
          180,
          360,
          360,
          360,
          480,
          360,
          360,
          360,
          360,
          360,
          360,
          360,
          360,
          120,
          360,
          360,
          360,
          180,
          360,
          360,
          360,
          180,
          360,
          360,
          360,
          480,
          360,
          360,
          360,
          360,
          360,
          180,
          360,
          360,
          360,
          360,
          360,
          360,
          360,
          360,
          360,
          360,
          360,
          360,
          360,
          360,
          360,
          360,
          360,
          360,
          360,
          360,
          342,
          360,
          360,
          480,
          360,
          360,
          360,
          360,
          360,
          480,
          360,
          180,
          360,
          360,
          36,
          360,
          360,
          360,
          360,
          360,
          360,
          360,
          360,
          300,
          360,
          360,
          360,
          360,
          360,
          360,
          360,
          360,
          360,
          360,
          360,
          360,
          360,
          342,
          360,
          360,
          360,
          360,
          360,
          360,
          360,
          360,
          360,
          480,
          360,
          360,
          360,
          360,
          360,
          360,
          360,
          180,
          360,
          360,
          360,
          360,
          360,
          300,
          360,
          360,
          360,
          360,
          360,
          360,
          360,
          360,
          240,
          360,
          360,
          360,
          360,
          360,
          360,
          360,
          360,
          360,
          360,
          360,
          360,
          360,
          360,
          360,
          300,
          360,
          360,
          360,
          360,
          360,
          360,
          360,
          360,
          84,
          360,
          360,
          360,
          300,
          360,
          180,
          480,
          360,
          360,
          360,
          360,
          360,
          360,
          360,
          360,
          360,
          360,
          360,
          180,
          360,
          360,
          360,
          36,
          360,
          360,
          360,
          360,
          360,
          360,
          360,
          360,
          480,
          360,
          360,
          360,
          360,
          360,
          360,
          360,
          180,
          240,
          360,
          360,
          360,
          360,
          360
         ],
         "yaxis": "y"
        }
       ],
       "layout": {
        "barmode": "relative",
        "height": 600,
        "legend": {
         "title": {
          "text": "Property_Area"
         },
         "tracegroupgap": 0
        },
        "template": {
         "data": {
          "bar": [
           {
            "error_x": {
             "color": "#2a3f5f"
            },
            "error_y": {
             "color": "#2a3f5f"
            },
            "marker": {
             "line": {
              "color": "#E5ECF6",
              "width": 0.5
             },
             "pattern": {
              "fillmode": "overlay",
              "size": 10,
              "solidity": 0.2
             }
            },
            "type": "bar"
           }
          ],
          "barpolar": [
           {
            "marker": {
             "line": {
              "color": "#E5ECF6",
              "width": 0.5
             },
             "pattern": {
              "fillmode": "overlay",
              "size": 10,
              "solidity": 0.2
             }
            },
            "type": "barpolar"
           }
          ],
          "carpet": [
           {
            "aaxis": {
             "endlinecolor": "#2a3f5f",
             "gridcolor": "white",
             "linecolor": "white",
             "minorgridcolor": "white",
             "startlinecolor": "#2a3f5f"
            },
            "baxis": {
             "endlinecolor": "#2a3f5f",
             "gridcolor": "white",
             "linecolor": "white",
             "minorgridcolor": "white",
             "startlinecolor": "#2a3f5f"
            },
            "type": "carpet"
           }
          ],
          "choropleth": [
           {
            "colorbar": {
             "outlinewidth": 0,
             "ticks": ""
            },
            "type": "choropleth"
           }
          ],
          "contour": [
           {
            "colorbar": {
             "outlinewidth": 0,
             "ticks": ""
            },
            "colorscale": [
             [
              0,
              "#0d0887"
             ],
             [
              0.1111111111111111,
              "#46039f"
             ],
             [
              0.2222222222222222,
              "#7201a8"
             ],
             [
              0.3333333333333333,
              "#9c179e"
             ],
             [
              0.4444444444444444,
              "#bd3786"
             ],
             [
              0.5555555555555556,
              "#d8576b"
             ],
             [
              0.6666666666666666,
              "#ed7953"
             ],
             [
              0.7777777777777778,
              "#fb9f3a"
             ],
             [
              0.8888888888888888,
              "#fdca26"
             ],
             [
              1,
              "#f0f921"
             ]
            ],
            "type": "contour"
           }
          ],
          "contourcarpet": [
           {
            "colorbar": {
             "outlinewidth": 0,
             "ticks": ""
            },
            "type": "contourcarpet"
           }
          ],
          "heatmap": [
           {
            "colorbar": {
             "outlinewidth": 0,
             "ticks": ""
            },
            "colorscale": [
             [
              0,
              "#0d0887"
             ],
             [
              0.1111111111111111,
              "#46039f"
             ],
             [
              0.2222222222222222,
              "#7201a8"
             ],
             [
              0.3333333333333333,
              "#9c179e"
             ],
             [
              0.4444444444444444,
              "#bd3786"
             ],
             [
              0.5555555555555556,
              "#d8576b"
             ],
             [
              0.6666666666666666,
              "#ed7953"
             ],
             [
              0.7777777777777778,
              "#fb9f3a"
             ],
             [
              0.8888888888888888,
              "#fdca26"
             ],
             [
              1,
              "#f0f921"
             ]
            ],
            "type": "heatmap"
           }
          ],
          "heatmapgl": [
           {
            "colorbar": {
             "outlinewidth": 0,
             "ticks": ""
            },
            "colorscale": [
             [
              0,
              "#0d0887"
             ],
             [
              0.1111111111111111,
              "#46039f"
             ],
             [
              0.2222222222222222,
              "#7201a8"
             ],
             [
              0.3333333333333333,
              "#9c179e"
             ],
             [
              0.4444444444444444,
              "#bd3786"
             ],
             [
              0.5555555555555556,
              "#d8576b"
             ],
             [
              0.6666666666666666,
              "#ed7953"
             ],
             [
              0.7777777777777778,
              "#fb9f3a"
             ],
             [
              0.8888888888888888,
              "#fdca26"
             ],
             [
              1,
              "#f0f921"
             ]
            ],
            "type": "heatmapgl"
           }
          ],
          "histogram": [
           {
            "marker": {
             "pattern": {
              "fillmode": "overlay",
              "size": 10,
              "solidity": 0.2
             }
            },
            "type": "histogram"
           }
          ],
          "histogram2d": [
           {
            "colorbar": {
             "outlinewidth": 0,
             "ticks": ""
            },
            "colorscale": [
             [
              0,
              "#0d0887"
             ],
             [
              0.1111111111111111,
              "#46039f"
             ],
             [
              0.2222222222222222,
              "#7201a8"
             ],
             [
              0.3333333333333333,
              "#9c179e"
             ],
             [
              0.4444444444444444,
              "#bd3786"
             ],
             [
              0.5555555555555556,
              "#d8576b"
             ],
             [
              0.6666666666666666,
              "#ed7953"
             ],
             [
              0.7777777777777778,
              "#fb9f3a"
             ],
             [
              0.8888888888888888,
              "#fdca26"
             ],
             [
              1,
              "#f0f921"
             ]
            ],
            "type": "histogram2d"
           }
          ],
          "histogram2dcontour": [
           {
            "colorbar": {
             "outlinewidth": 0,
             "ticks": ""
            },
            "colorscale": [
             [
              0,
              "#0d0887"
             ],
             [
              0.1111111111111111,
              "#46039f"
             ],
             [
              0.2222222222222222,
              "#7201a8"
             ],
             [
              0.3333333333333333,
              "#9c179e"
             ],
             [
              0.4444444444444444,
              "#bd3786"
             ],
             [
              0.5555555555555556,
              "#d8576b"
             ],
             [
              0.6666666666666666,
              "#ed7953"
             ],
             [
              0.7777777777777778,
              "#fb9f3a"
             ],
             [
              0.8888888888888888,
              "#fdca26"
             ],
             [
              1,
              "#f0f921"
             ]
            ],
            "type": "histogram2dcontour"
           }
          ],
          "mesh3d": [
           {
            "colorbar": {
             "outlinewidth": 0,
             "ticks": ""
            },
            "type": "mesh3d"
           }
          ],
          "parcoords": [
           {
            "line": {
             "colorbar": {
              "outlinewidth": 0,
              "ticks": ""
             }
            },
            "type": "parcoords"
           }
          ],
          "pie": [
           {
            "automargin": true,
            "type": "pie"
           }
          ],
          "scatter": [
           {
            "fillpattern": {
             "fillmode": "overlay",
             "size": 10,
             "solidity": 0.2
            },
            "type": "scatter"
           }
          ],
          "scatter3d": [
           {
            "line": {
             "colorbar": {
              "outlinewidth": 0,
              "ticks": ""
             }
            },
            "marker": {
             "colorbar": {
              "outlinewidth": 0,
              "ticks": ""
             }
            },
            "type": "scatter3d"
           }
          ],
          "scattercarpet": [
           {
            "marker": {
             "colorbar": {
              "outlinewidth": 0,
              "ticks": ""
             }
            },
            "type": "scattercarpet"
           }
          ],
          "scattergeo": [
           {
            "marker": {
             "colorbar": {
              "outlinewidth": 0,
              "ticks": ""
             }
            },
            "type": "scattergeo"
           }
          ],
          "scattergl": [
           {
            "marker": {
             "colorbar": {
              "outlinewidth": 0,
              "ticks": ""
             }
            },
            "type": "scattergl"
           }
          ],
          "scattermapbox": [
           {
            "marker": {
             "colorbar": {
              "outlinewidth": 0,
              "ticks": ""
             }
            },
            "type": "scattermapbox"
           }
          ],
          "scatterpolar": [
           {
            "marker": {
             "colorbar": {
              "outlinewidth": 0,
              "ticks": ""
             }
            },
            "type": "scatterpolar"
           }
          ],
          "scatterpolargl": [
           {
            "marker": {
             "colorbar": {
              "outlinewidth": 0,
              "ticks": ""
             }
            },
            "type": "scatterpolargl"
           }
          ],
          "scatterternary": [
           {
            "marker": {
             "colorbar": {
              "outlinewidth": 0,
              "ticks": ""
             }
            },
            "type": "scatterternary"
           }
          ],
          "surface": [
           {
            "colorbar": {
             "outlinewidth": 0,
             "ticks": ""
            },
            "colorscale": [
             [
              0,
              "#0d0887"
             ],
             [
              0.1111111111111111,
              "#46039f"
             ],
             [
              0.2222222222222222,
              "#7201a8"
             ],
             [
              0.3333333333333333,
              "#9c179e"
             ],
             [
              0.4444444444444444,
              "#bd3786"
             ],
             [
              0.5555555555555556,
              "#d8576b"
             ],
             [
              0.6666666666666666,
              "#ed7953"
             ],
             [
              0.7777777777777778,
              "#fb9f3a"
             ],
             [
              0.8888888888888888,
              "#fdca26"
             ],
             [
              1,
              "#f0f921"
             ]
            ],
            "type": "surface"
           }
          ],
          "table": [
           {
            "cells": {
             "fill": {
              "color": "#EBF0F8"
             },
             "line": {
              "color": "white"
             }
            },
            "header": {
             "fill": {
              "color": "#C8D4E3"
             },
             "line": {
              "color": "white"
             }
            },
            "type": "table"
           }
          ]
         },
         "layout": {
          "annotationdefaults": {
           "arrowcolor": "#2a3f5f",
           "arrowhead": 0,
           "arrowwidth": 1
          },
          "autotypenumbers": "strict",
          "coloraxis": {
           "colorbar": {
            "outlinewidth": 0,
            "ticks": ""
           }
          },
          "colorscale": {
           "diverging": [
            [
             0,
             "#8e0152"
            ],
            [
             0.1,
             "#c51b7d"
            ],
            [
             0.2,
             "#de77ae"
            ],
            [
             0.3,
             "#f1b6da"
            ],
            [
             0.4,
             "#fde0ef"
            ],
            [
             0.5,
             "#f7f7f7"
            ],
            [
             0.6,
             "#e6f5d0"
            ],
            [
             0.7,
             "#b8e186"
            ],
            [
             0.8,
             "#7fbc41"
            ],
            [
             0.9,
             "#4d9221"
            ],
            [
             1,
             "#276419"
            ]
           ],
           "sequential": [
            [
             0,
             "#0d0887"
            ],
            [
             0.1111111111111111,
             "#46039f"
            ],
            [
             0.2222222222222222,
             "#7201a8"
            ],
            [
             0.3333333333333333,
             "#9c179e"
            ],
            [
             0.4444444444444444,
             "#bd3786"
            ],
            [
             0.5555555555555556,
             "#d8576b"
            ],
            [
             0.6666666666666666,
             "#ed7953"
            ],
            [
             0.7777777777777778,
             "#fb9f3a"
            ],
            [
             0.8888888888888888,
             "#fdca26"
            ],
            [
             1,
             "#f0f921"
            ]
           ],
           "sequentialminus": [
            [
             0,
             "#0d0887"
            ],
            [
             0.1111111111111111,
             "#46039f"
            ],
            [
             0.2222222222222222,
             "#7201a8"
            ],
            [
             0.3333333333333333,
             "#9c179e"
            ],
            [
             0.4444444444444444,
             "#bd3786"
            ],
            [
             0.5555555555555556,
             "#d8576b"
            ],
            [
             0.6666666666666666,
             "#ed7953"
            ],
            [
             0.7777777777777778,
             "#fb9f3a"
            ],
            [
             0.8888888888888888,
             "#fdca26"
            ],
            [
             1,
             "#f0f921"
            ]
           ]
          },
          "colorway": [
           "#636efa",
           "#EF553B",
           "#00cc96",
           "#ab63fa",
           "#FFA15A",
           "#19d3f3",
           "#FF6692",
           "#B6E880",
           "#FF97FF",
           "#FECB52"
          ],
          "font": {
           "color": "#2a3f5f"
          },
          "geo": {
           "bgcolor": "white",
           "lakecolor": "white",
           "landcolor": "#E5ECF6",
           "showlakes": true,
           "showland": true,
           "subunitcolor": "white"
          },
          "hoverlabel": {
           "align": "left"
          },
          "hovermode": "closest",
          "mapbox": {
           "style": "light"
          },
          "paper_bgcolor": "white",
          "plot_bgcolor": "#E5ECF6",
          "polar": {
           "angularaxis": {
            "gridcolor": "white",
            "linecolor": "white",
            "ticks": ""
           },
           "bgcolor": "#E5ECF6",
           "radialaxis": {
            "gridcolor": "white",
            "linecolor": "white",
            "ticks": ""
           }
          },
          "scene": {
           "xaxis": {
            "backgroundcolor": "#E5ECF6",
            "gridcolor": "white",
            "gridwidth": 2,
            "linecolor": "white",
            "showbackground": true,
            "ticks": "",
            "zerolinecolor": "white"
           },
           "yaxis": {
            "backgroundcolor": "#E5ECF6",
            "gridcolor": "white",
            "gridwidth": 2,
            "linecolor": "white",
            "showbackground": true,
            "ticks": "",
            "zerolinecolor": "white"
           },
           "zaxis": {
            "backgroundcolor": "#E5ECF6",
            "gridcolor": "white",
            "gridwidth": 2,
            "linecolor": "white",
            "showbackground": true,
            "ticks": "",
            "zerolinecolor": "white"
           }
          },
          "shapedefaults": {
           "line": {
            "color": "#2a3f5f"
           }
          },
          "ternary": {
           "aaxis": {
            "gridcolor": "white",
            "linecolor": "white",
            "ticks": ""
           },
           "baxis": {
            "gridcolor": "white",
            "linecolor": "white",
            "ticks": ""
           },
           "bgcolor": "#E5ECF6",
           "caxis": {
            "gridcolor": "white",
            "linecolor": "white",
            "ticks": ""
           }
          },
          "title": {
           "x": 0.05
          },
          "xaxis": {
           "automargin": true,
           "gridcolor": "white",
           "linecolor": "white",
           "ticks": "",
           "title": {
            "standoff": 15
           },
           "zerolinecolor": "white",
           "zerolinewidth": 2
          },
          "yaxis": {
           "automargin": true,
           "gridcolor": "white",
           "linecolor": "white",
           "ticks": "",
           "title": {
            "standoff": 15
           },
           "zerolinecolor": "white",
           "zerolinewidth": 2
          }
         }
        },
        "title": {
         "text": "Loan Amount Term by Property Area"
        },
        "width": 800,
        "xaxis": {
         "anchor": "y",
         "categoryarray": [
          "Urban",
          "Rural",
          "Semiurban"
         ],
         "categoryorder": "array",
         "domain": [
          0,
          1
         ],
         "title": {
          "text": "Property_Area"
         }
        },
        "yaxis": {
         "anchor": "x",
         "domain": [
          0,
          1
         ],
         "title": {
          "text": "Loan_Amount_Term"
         }
        }
       }
      }
     },
     "metadata": {},
     "output_type": "display_data"
    }
   ],
   "source": [
    "loan_bar.show()"
   ]
  },
  {
   "cell_type": "code",
   "execution_count": 69,
   "metadata": {},
   "outputs": [
    {
     "data": {
      "application/vnd.plotly.v1+json": {
       "config": {
        "plotlyServerURL": "https://plot.ly"
       },
       "data": [
        {
         "customdata": [
          [
           "Graduate"
          ],
          [
           "Graduate"
          ],
          [
           "Graduate"
          ],
          [
           "Not Graduate"
          ],
          [
           "Graduate"
          ],
          [
           "Graduate"
          ],
          [
           "Not Graduate"
          ],
          [
           "Graduate"
          ],
          [
           "Graduate"
          ],
          [
           "Graduate"
          ],
          [
           "Graduate"
          ],
          [
           "Graduate"
          ],
          [
           "Graduate"
          ],
          [
           "Graduate"
          ],
          [
           "Graduate"
          ],
          [
           "Graduate"
          ],
          [
           "Not Graduate"
          ],
          [
           "Graduate"
          ],
          [
           "Not Graduate"
          ],
          [
           "Graduate"
          ],
          [
           "Not Graduate"
          ],
          [
           "Graduate"
          ],
          [
           "Not Graduate"
          ],
          [
           "Not Graduate"
          ],
          [
           "Graduate"
          ],
          [
           "Graduate"
          ],
          [
           "Graduate"
          ],
          [
           "Not Graduate"
          ],
          [
           "Not Graduate"
          ],
          [
           "Graduate"
          ],
          [
           "Graduate"
          ],
          [
           "Graduate"
          ],
          [
           "Graduate"
          ],
          [
           "Graduate"
          ],
          [
           "Graduate"
          ],
          [
           "Graduate"
          ],
          [
           "Graduate"
          ],
          [
           "Graduate"
          ],
          [
           "Graduate"
          ],
          [
           "Not Graduate"
          ],
          [
           "Graduate"
          ],
          [
           "Graduate"
          ],
          [
           "Graduate"
          ],
          [
           "Graduate"
          ],
          [
           "Not Graduate"
          ],
          [
           "Graduate"
          ],
          [
           "Graduate"
          ],
          [
           "Graduate"
          ],
          [
           "Graduate"
          ],
          [
           "Graduate"
          ],
          [
           "Not Graduate"
          ],
          [
           "Graduate"
          ],
          [
           "Graduate"
          ],
          [
           "Graduate"
          ],
          [
           "Graduate"
          ],
          [
           "Graduate"
          ],
          [
           "Graduate"
          ],
          [
           "Graduate"
          ],
          [
           "Graduate"
          ],
          [
           "Not Graduate"
          ],
          [
           "Graduate"
          ],
          [
           "Graduate"
          ],
          [
           "Not Graduate"
          ],
          [
           "Graduate"
          ],
          [
           "Graduate"
          ],
          [
           "Graduate"
          ],
          [
           "Not Graduate"
          ],
          [
           "Graduate"
          ],
          [
           "Not Graduate"
          ],
          [
           "Graduate"
          ],
          [
           "Graduate"
          ],
          [
           "Not Graduate"
          ],
          [
           "Graduate"
          ],
          [
           "Not Graduate"
          ],
          [
           "Graduate"
          ],
          [
           "Graduate"
          ],
          [
           "Graduate"
          ],
          [
           "Graduate"
          ],
          [
           "Graduate"
          ],
          [
           "Not Graduate"
          ],
          [
           "Graduate"
          ],
          [
           "Graduate"
          ],
          [
           "Graduate"
          ],
          [
           "Graduate"
          ],
          [
           "Graduate"
          ],
          [
           "Graduate"
          ],
          [
           "Not Graduate"
          ],
          [
           "Graduate"
          ],
          [
           "Graduate"
          ],
          [
           "Graduate"
          ],
          [
           "Graduate"
          ],
          [
           "Graduate"
          ],
          [
           "Not Graduate"
          ],
          [
           "Graduate"
          ],
          [
           "Not Graduate"
          ],
          [
           "Graduate"
          ],
          [
           "Graduate"
          ],
          [
           "Graduate"
          ],
          [
           "Not Graduate"
          ],
          [
           "Graduate"
          ],
          [
           "Not Graduate"
          ],
          [
           "Graduate"
          ],
          [
           "Graduate"
          ],
          [
           "Graduate"
          ],
          [
           "Graduate"
          ],
          [
           "Graduate"
          ],
          [
           "Graduate"
          ],
          [
           "Not Graduate"
          ],
          [
           "Graduate"
          ],
          [
           "Not Graduate"
          ],
          [
           "Graduate"
          ],
          [
           "Graduate"
          ],
          [
           "Not Graduate"
          ],
          [
           "Graduate"
          ],
          [
           "Graduate"
          ],
          [
           "Graduate"
          ],
          [
           "Graduate"
          ],
          [
           "Graduate"
          ],
          [
           "Graduate"
          ],
          [
           "Graduate"
          ],
          [
           "Graduate"
          ],
          [
           "Graduate"
          ],
          [
           "Graduate"
          ],
          [
           "Graduate"
          ],
          [
           "Not Graduate"
          ],
          [
           "Graduate"
          ],
          [
           "Graduate"
          ],
          [
           "Graduate"
          ],
          [
           "Graduate"
          ],
          [
           "Graduate"
          ],
          [
           "Graduate"
          ],
          [
           "Graduate"
          ],
          [
           "Graduate"
          ],
          [
           "Graduate"
          ],
          [
           "Graduate"
          ],
          [
           "Graduate"
          ],
          [
           "Graduate"
          ],
          [
           "Graduate"
          ],
          [
           "Graduate"
          ],
          [
           "Not Graduate"
          ],
          [
           "Graduate"
          ],
          [
           "Graduate"
          ],
          [
           "Graduate"
          ],
          [
           "Graduate"
          ],
          [
           "Graduate"
          ],
          [
           "Graduate"
          ],
          [
           "Graduate"
          ],
          [
           "Graduate"
          ],
          [
           "Graduate"
          ],
          [
           "Graduate"
          ],
          [
           "Graduate"
          ],
          [
           "Graduate"
          ],
          [
           "Graduate"
          ],
          [
           "Not Graduate"
          ],
          [
           "Graduate"
          ],
          [
           "Graduate"
          ],
          [
           "Graduate"
          ],
          [
           "Graduate"
          ],
          [
           "Graduate"
          ],
          [
           "Graduate"
          ],
          [
           "Not Graduate"
          ],
          [
           "Graduate"
          ],
          [
           "Graduate"
          ],
          [
           "Graduate"
          ],
          [
           "Graduate"
          ],
          [
           "Graduate"
          ],
          [
           "Graduate"
          ],
          [
           "Graduate"
          ],
          [
           "Graduate"
          ],
          [
           "Graduate"
          ],
          [
           "Not Graduate"
          ],
          [
           "Graduate"
          ],
          [
           "Not Graduate"
          ],
          [
           "Graduate"
          ],
          [
           "Not Graduate"
          ],
          [
           "Graduate"
          ],
          [
           "Graduate"
          ],
          [
           "Graduate"
          ],
          [
           "Graduate"
          ],
          [
           "Not Graduate"
          ],
          [
           "Graduate"
          ],
          [
           "Graduate"
          ],
          [
           "Graduate"
          ],
          [
           "Graduate"
          ],
          [
           "Graduate"
          ],
          [
           "Graduate"
          ],
          [
           "Graduate"
          ],
          [
           "Graduate"
          ],
          [
           "Graduate"
          ],
          [
           "Graduate"
          ],
          [
           "Not Graduate"
          ],
          [
           "Graduate"
          ],
          [
           "Not Graduate"
          ],
          [
           "Graduate"
          ],
          [
           "Graduate"
          ],
          [
           "Graduate"
          ],
          [
           "Graduate"
          ],
          [
           "Not Graduate"
          ],
          [
           "Graduate"
          ],
          [
           "Graduate"
          ],
          [
           "Not Graduate"
          ],
          [
           "Graduate"
          ],
          [
           "Not Graduate"
          ],
          [
           "Not Graduate"
          ],
          [
           "Not Graduate"
          ],
          [
           "Not Graduate"
          ],
          [
           "Graduate"
          ],
          [
           "Not Graduate"
          ],
          [
           "Graduate"
          ],
          [
           "Graduate"
          ],
          [
           "Graduate"
          ],
          [
           "Graduate"
          ],
          [
           "Graduate"
          ],
          [
           "Not Graduate"
          ],
          [
           "Graduate"
          ],
          [
           "Not Graduate"
          ],
          [
           "Graduate"
          ],
          [
           "Graduate"
          ],
          [
           "Graduate"
          ],
          [
           "Graduate"
          ],
          [
           "Graduate"
          ],
          [
           "Graduate"
          ],
          [
           "Graduate"
          ],
          [
           "Graduate"
          ],
          [
           "Graduate"
          ],
          [
           "Graduate"
          ],
          [
           "Not Graduate"
          ],
          [
           "Graduate"
          ],
          [
           "Graduate"
          ],
          [
           "Graduate"
          ],
          [
           "Graduate"
          ],
          [
           "Graduate"
          ],
          [
           "Not Graduate"
          ],
          [
           "Graduate"
          ],
          [
           "Graduate"
          ],
          [
           "Graduate"
          ],
          [
           "Graduate"
          ],
          [
           "Graduate"
          ],
          [
           "Graduate"
          ],
          [
           "Graduate"
          ],
          [
           "Graduate"
          ],
          [
           "Not Graduate"
          ],
          [
           "Graduate"
          ],
          [
           "Graduate"
          ],
          [
           "Not Graduate"
          ],
          [
           "Graduate"
          ],
          [
           "Graduate"
          ],
          [
           "Not Graduate"
          ],
          [
           "Graduate"
          ],
          [
           "Graduate"
          ],
          [
           "Not Graduate"
          ],
          [
           "Graduate"
          ],
          [
           "Not Graduate"
          ],
          [
           "Not Graduate"
          ],
          [
           "Graduate"
          ],
          [
           "Graduate"
          ],
          [
           "Not Graduate"
          ],
          [
           "Graduate"
          ],
          [
           "Graduate"
          ],
          [
           "Not Graduate"
          ],
          [
           "Graduate"
          ],
          [
           "Graduate"
          ],
          [
           "Graduate"
          ],
          [
           "Graduate"
          ],
          [
           "Graduate"
          ],
          [
           "Graduate"
          ],
          [
           "Graduate"
          ],
          [
           "Graduate"
          ],
          [
           "Graduate"
          ],
          [
           "Graduate"
          ],
          [
           "Graduate"
          ],
          [
           "Graduate"
          ],
          [
           "Graduate"
          ],
          [
           "Graduate"
          ],
          [
           "Graduate"
          ],
          [
           "Graduate"
          ],
          [
           "Graduate"
          ],
          [
           "Graduate"
          ],
          [
           "Graduate"
          ],
          [
           "Not Graduate"
          ],
          [
           "Not Graduate"
          ],
          [
           "Graduate"
          ],
          [
           "Graduate"
          ],
          [
           "Graduate"
          ],
          [
           "Graduate"
          ],
          [
           "Graduate"
          ],
          [
           "Graduate"
          ],
          [
           "Graduate"
          ],
          [
           "Graduate"
          ],
          [
           "Graduate"
          ],
          [
           "Graduate"
          ],
          [
           "Graduate"
          ],
          [
           "Graduate"
          ],
          [
           "Graduate"
          ],
          [
           "Graduate"
          ],
          [
           "Graduate"
          ],
          [
           "Graduate"
          ],
          [
           "Graduate"
          ],
          [
           "Graduate"
          ],
          [
           "Graduate"
          ],
          [
           "Not Graduate"
          ],
          [
           "Not Graduate"
          ],
          [
           "Graduate"
          ],
          [
           "Graduate"
          ],
          [
           "Graduate"
          ],
          [
           "Not Graduate"
          ],
          [
           "Graduate"
          ],
          [
           "Graduate"
          ],
          [
           "Graduate"
          ],
          [
           "Not Graduate"
          ],
          [
           "Graduate"
          ],
          [
           "Not Graduate"
          ],
          [
           "Graduate"
          ],
          [
           "Graduate"
          ],
          [
           "Graduate"
          ],
          [
           "Not Graduate"
          ],
          [
           "Graduate"
          ],
          [
           "Graduate"
          ],
          [
           "Graduate"
          ],
          [
           "Graduate"
          ],
          [
           "Graduate"
          ],
          [
           "Graduate"
          ],
          [
           "Not Graduate"
          ],
          [
           "Graduate"
          ],
          [
           "Graduate"
          ],
          [
           "Graduate"
          ],
          [
           "Graduate"
          ],
          [
           "Graduate"
          ],
          [
           "Graduate"
          ],
          [
           "Graduate"
          ],
          [
           "Graduate"
          ],
          [
           "Graduate"
          ],
          [
           "Graduate"
          ],
          [
           "Graduate"
          ],
          [
           "Graduate"
          ],
          [
           "Graduate"
          ],
          [
           "Graduate"
          ],
          [
           "Graduate"
          ],
          [
           "Not Graduate"
          ],
          [
           "Graduate"
          ],
          [
           "Not Graduate"
          ],
          [
           "Graduate"
          ],
          [
           "Not Graduate"
          ],
          [
           "Not Graduate"
          ],
          [
           "Graduate"
          ],
          [
           "Graduate"
          ],
          [
           "Not Graduate"
          ],
          [
           "Not Graduate"
          ],
          [
           "Graduate"
          ],
          [
           "Graduate"
          ],
          [
           "Graduate"
          ],
          [
           "Graduate"
          ],
          [
           "Graduate"
          ],
          [
           "Graduate"
          ],
          [
           "Graduate"
          ],
          [
           "Graduate"
          ],
          [
           "Graduate"
          ],
          [
           "Graduate"
          ],
          [
           "Not Graduate"
          ],
          [
           "Graduate"
          ],
          [
           "Graduate"
          ],
          [
           "Graduate"
          ],
          [
           "Graduate"
          ],
          [
           "Graduate"
          ],
          [
           "Graduate"
          ],
          [
           "Not Graduate"
          ],
          [
           "Graduate"
          ],
          [
           "Graduate"
          ],
          [
           "Graduate"
          ],
          [
           "Graduate"
          ],
          [
           "Graduate"
          ],
          [
           "Graduate"
          ],
          [
           "Graduate"
          ],
          [
           "Graduate"
          ],
          [
           "Graduate"
          ],
          [
           "Graduate"
          ],
          [
           "Graduate"
          ],
          [
           "Graduate"
          ],
          [
           "Graduate"
          ],
          [
           "Graduate"
          ],
          [
           "Graduate"
          ],
          [
           "Graduate"
          ],
          [
           "Graduate"
          ],
          [
           "Graduate"
          ],
          [
           "Graduate"
          ],
          [
           "Graduate"
          ],
          [
           "Not Graduate"
          ],
          [
           "Not Graduate"
          ],
          [
           "Graduate"
          ],
          [
           "Graduate"
          ],
          [
           "Graduate"
          ],
          [
           "Graduate"
          ],
          [
           "Graduate"
          ],
          [
           "Not Graduate"
          ],
          [
           "Graduate"
          ],
          [
           "Graduate"
          ],
          [
           "Graduate"
          ],
          [
           "Graduate"
          ],
          [
           "Not Graduate"
          ],
          [
           "Graduate"
          ],
          [
           "Not Graduate"
          ],
          [
           "Not Graduate"
          ],
          [
           "Graduate"
          ],
          [
           "Not Graduate"
          ],
          [
           "Graduate"
          ],
          [
           "Graduate"
          ],
          [
           "Not Graduate"
          ],
          [
           "Not Graduate"
          ],
          [
           "Graduate"
          ],
          [
           "Graduate"
          ],
          [
           "Not Graduate"
          ],
          [
           "Graduate"
          ],
          [
           "Not Graduate"
          ],
          [
           "Not Graduate"
          ],
          [
           "Not Graduate"
          ],
          [
           "Graduate"
          ],
          [
           "Graduate"
          ],
          [
           "Graduate"
          ],
          [
           "Graduate"
          ],
          [
           "Graduate"
          ],
          [
           "Graduate"
          ],
          [
           "Not Graduate"
          ],
          [
           "Graduate"
          ],
          [
           "Graduate"
          ],
          [
           "Graduate"
          ],
          [
           "Graduate"
          ],
          [
           "Not Graduate"
          ],
          [
           "Graduate"
          ],
          [
           "Graduate"
          ],
          [
           "Not Graduate"
          ],
          [
           "Graduate"
          ],
          [
           "Graduate"
          ],
          [
           "Graduate"
          ],
          [
           "Graduate"
          ],
          [
           "Graduate"
          ],
          [
           "Graduate"
          ],
          [
           "Graduate"
          ],
          [
           "Graduate"
          ],
          [
           "Graduate"
          ],
          [
           "Not Graduate"
          ],
          [
           "Graduate"
          ],
          [
           "Graduate"
          ],
          [
           "Not Graduate"
          ],
          [
           "Graduate"
          ],
          [
           "Graduate"
          ],
          [
           "Graduate"
          ],
          [
           "Not Graduate"
          ],
          [
           "Graduate"
          ],
          [
           "Graduate"
          ],
          [
           "Not Graduate"
          ],
          [
           "Not Graduate"
          ],
          [
           "Not Graduate"
          ],
          [
           "Graduate"
          ],
          [
           "Graduate"
          ],
          [
           "Graduate"
          ],
          [
           "Graduate"
          ],
          [
           "Graduate"
          ],
          [
           "Graduate"
          ],
          [
           "Graduate"
          ],
          [
           "Graduate"
          ],
          [
           "Graduate"
          ],
          [
           "Graduate"
          ],
          [
           "Graduate"
          ],
          [
           "Not Graduate"
          ],
          [
           "Graduate"
          ],
          [
           "Graduate"
          ],
          [
           "Not Graduate"
          ],
          [
           "Graduate"
          ],
          [
           "Not Graduate"
          ],
          [
           "Graduate"
          ],
          [
           "Graduate"
          ],
          [
           "Not Graduate"
          ],
          [
           "Graduate"
          ],
          [
           "Graduate"
          ],
          [
           "Graduate"
          ],
          [
           "Graduate"
          ],
          [
           "Graduate"
          ],
          [
           "Graduate"
          ],
          [
           "Graduate"
          ],
          [
           "Graduate"
          ],
          [
           "Not Graduate"
          ],
          [
           "Not Graduate"
          ],
          [
           "Graduate"
          ],
          [
           "Graduate"
          ],
          [
           "Graduate"
          ],
          [
           "Not Graduate"
          ],
          [
           "Graduate"
          ],
          [
           "Graduate"
          ],
          [
           "Graduate"
          ],
          [
           "Graduate"
          ],
          [
           "Not Graduate"
          ],
          [
           "Not Graduate"
          ],
          [
           "Not Graduate"
          ],
          [
           "Not Graduate"
          ],
          [
           "Graduate"
          ],
          [
           "Graduate"
          ],
          [
           "Not Graduate"
          ],
          [
           "Graduate"
          ],
          [
           "Graduate"
          ],
          [
           "Graduate"
          ],
          [
           "Graduate"
          ],
          [
           "Graduate"
          ],
          [
           "Graduate"
          ],
          [
           "Not Graduate"
          ],
          [
           "Not Graduate"
          ],
          [
           "Graduate"
          ],
          [
           "Graduate"
          ],
          [
           "Graduate"
          ],
          [
           "Graduate"
          ],
          [
           "Graduate"
          ],
          [
           "Not Graduate"
          ],
          [
           "Graduate"
          ],
          [
           "Graduate"
          ],
          [
           "Graduate"
          ],
          [
           "Graduate"
          ],
          [
           "Graduate"
          ],
          [
           "Graduate"
          ],
          [
           "Not Graduate"
          ],
          [
           "Graduate"
          ],
          [
           "Not Graduate"
          ],
          [
           "Not Graduate"
          ],
          [
           "Graduate"
          ],
          [
           "Graduate"
          ],
          [
           "Graduate"
          ],
          [
           "Graduate"
          ],
          [
           "Graduate"
          ],
          [
           "Graduate"
          ],
          [
           "Not Graduate"
          ],
          [
           "Not Graduate"
          ],
          [
           "Not Graduate"
          ],
          [
           "Graduate"
          ],
          [
           "Graduate"
          ],
          [
           "Graduate"
          ],
          [
           "Graduate"
          ],
          [
           "Not Graduate"
          ],
          [
           "Not Graduate"
          ],
          [
           "Graduate"
          ],
          [
           "Graduate"
          ],
          [
           "Not Graduate"
          ],
          [
           "Graduate"
          ],
          [
           "Graduate"
          ],
          [
           "Graduate"
          ],
          [
           "Graduate"
          ],
          [
           "Not Graduate"
          ],
          [
           "Not Graduate"
          ],
          [
           "Graduate"
          ],
          [
           "Not Graduate"
          ],
          [
           "Graduate"
          ],
          [
           "Graduate"
          ],
          [
           "Graduate"
          ],
          [
           "Graduate"
          ],
          [
           "Not Graduate"
          ],
          [
           "Graduate"
          ],
          [
           "Not Graduate"
          ],
          [
           "Graduate"
          ],
          [
           "Graduate"
          ],
          [
           "Graduate"
          ],
          [
           "Graduate"
          ],
          [
           "Graduate"
          ],
          [
           "Graduate"
          ],
          [
           "Not Graduate"
          ],
          [
           "Graduate"
          ],
          [
           "Graduate"
          ],
          [
           "Not Graduate"
          ],
          [
           "Graduate"
          ],
          [
           "Not Graduate"
          ],
          [
           "Graduate"
          ],
          [
           "Graduate"
          ],
          [
           "Graduate"
          ],
          [
           "Graduate"
          ],
          [
           "Graduate"
          ],
          [
           "Graduate"
          ],
          [
           "Graduate"
          ],
          [
           "Not Graduate"
          ],
          [
           "Graduate"
          ],
          [
           "Graduate"
          ],
          [
           "Graduate"
          ],
          [
           "Graduate"
          ],
          [
           "Graduate"
          ],
          [
           "Graduate"
          ],
          [
           "Graduate"
          ],
          [
           "Graduate"
          ],
          [
           "Graduate"
          ],
          [
           "Graduate"
          ],
          [
           "Graduate"
          ],
          [
           "Graduate"
          ],
          [
           "Graduate"
          ],
          [
           "Not Graduate"
          ],
          [
           "Graduate"
          ],
          [
           "Graduate"
          ],
          [
           "Graduate"
          ],
          [
           "Graduate"
          ],
          [
           "Graduate"
          ],
          [
           "Graduate"
          ],
          [
           "Graduate"
          ],
          [
           "Not Graduate"
          ],
          [
           "Not Graduate"
          ],
          [
           "Graduate"
          ],
          [
           "Graduate"
          ],
          [
           "Graduate"
          ],
          [
           "Graduate"
          ],
          [
           "Not Graduate"
          ],
          [
           "Graduate"
          ],
          [
           "Graduate"
          ],
          [
           "Graduate"
          ],
          [
           "Not Graduate"
          ],
          [
           "Graduate"
          ],
          [
           "Not Graduate"
          ],
          [
           "Graduate"
          ],
          [
           "Graduate"
          ],
          [
           "Graduate"
          ],
          [
           "Graduate"
          ],
          [
           "Graduate"
          ],
          [
           "Graduate"
          ]
         ],
         "domain": {
          "x": [
           0,
           1
          ],
          "y": [
           0,
           1
          ]
         },
         "hovertemplate": "Education=%{customdata[0]}<br>Loan_Amount_Term=%{value}<extra></extra>",
         "labels": [
          "Graduate",
          "Graduate",
          "Graduate",
          "Not Graduate",
          "Graduate",
          "Graduate",
          "Not Graduate",
          "Graduate",
          "Graduate",
          "Graduate",
          "Graduate",
          "Graduate",
          "Graduate",
          "Graduate",
          "Graduate",
          "Graduate",
          "Not Graduate",
          "Graduate",
          "Not Graduate",
          "Graduate",
          "Not Graduate",
          "Graduate",
          "Not Graduate",
          "Not Graduate",
          "Graduate",
          "Graduate",
          "Graduate",
          "Not Graduate",
          "Not Graduate",
          "Graduate",
          "Graduate",
          "Graduate",
          "Graduate",
          "Graduate",
          "Graduate",
          "Graduate",
          "Graduate",
          "Graduate",
          "Graduate",
          "Not Graduate",
          "Graduate",
          "Graduate",
          "Graduate",
          "Graduate",
          "Not Graduate",
          "Graduate",
          "Graduate",
          "Graduate",
          "Graduate",
          "Graduate",
          "Not Graduate",
          "Graduate",
          "Graduate",
          "Graduate",
          "Graduate",
          "Graduate",
          "Graduate",
          "Graduate",
          "Graduate",
          "Not Graduate",
          "Graduate",
          "Graduate",
          "Not Graduate",
          "Graduate",
          "Graduate",
          "Graduate",
          "Not Graduate",
          "Graduate",
          "Not Graduate",
          "Graduate",
          "Graduate",
          "Not Graduate",
          "Graduate",
          "Not Graduate",
          "Graduate",
          "Graduate",
          "Graduate",
          "Graduate",
          "Graduate",
          "Not Graduate",
          "Graduate",
          "Graduate",
          "Graduate",
          "Graduate",
          "Graduate",
          "Graduate",
          "Not Graduate",
          "Graduate",
          "Graduate",
          "Graduate",
          "Graduate",
          "Graduate",
          "Not Graduate",
          "Graduate",
          "Not Graduate",
          "Graduate",
          "Graduate",
          "Graduate",
          "Not Graduate",
          "Graduate",
          "Not Graduate",
          "Graduate",
          "Graduate",
          "Graduate",
          "Graduate",
          "Graduate",
          "Graduate",
          "Not Graduate",
          "Graduate",
          "Not Graduate",
          "Graduate",
          "Graduate",
          "Not Graduate",
          "Graduate",
          "Graduate",
          "Graduate",
          "Graduate",
          "Graduate",
          "Graduate",
          "Graduate",
          "Graduate",
          "Graduate",
          "Graduate",
          "Graduate",
          "Not Graduate",
          "Graduate",
          "Graduate",
          "Graduate",
          "Graduate",
          "Graduate",
          "Graduate",
          "Graduate",
          "Graduate",
          "Graduate",
          "Graduate",
          "Graduate",
          "Graduate",
          "Graduate",
          "Graduate",
          "Not Graduate",
          "Graduate",
          "Graduate",
          "Graduate",
          "Graduate",
          "Graduate",
          "Graduate",
          "Graduate",
          "Graduate",
          "Graduate",
          "Graduate",
          "Graduate",
          "Graduate",
          "Graduate",
          "Not Graduate",
          "Graduate",
          "Graduate",
          "Graduate",
          "Graduate",
          "Graduate",
          "Graduate",
          "Not Graduate",
          "Graduate",
          "Graduate",
          "Graduate",
          "Graduate",
          "Graduate",
          "Graduate",
          "Graduate",
          "Graduate",
          "Graduate",
          "Not Graduate",
          "Graduate",
          "Not Graduate",
          "Graduate",
          "Not Graduate",
          "Graduate",
          "Graduate",
          "Graduate",
          "Graduate",
          "Not Graduate",
          "Graduate",
          "Graduate",
          "Graduate",
          "Graduate",
          "Graduate",
          "Graduate",
          "Graduate",
          "Graduate",
          "Graduate",
          "Graduate",
          "Not Graduate",
          "Graduate",
          "Not Graduate",
          "Graduate",
          "Graduate",
          "Graduate",
          "Graduate",
          "Not Graduate",
          "Graduate",
          "Graduate",
          "Not Graduate",
          "Graduate",
          "Not Graduate",
          "Not Graduate",
          "Not Graduate",
          "Not Graduate",
          "Graduate",
          "Not Graduate",
          "Graduate",
          "Graduate",
          "Graduate",
          "Graduate",
          "Graduate",
          "Not Graduate",
          "Graduate",
          "Not Graduate",
          "Graduate",
          "Graduate",
          "Graduate",
          "Graduate",
          "Graduate",
          "Graduate",
          "Graduate",
          "Graduate",
          "Graduate",
          "Graduate",
          "Not Graduate",
          "Graduate",
          "Graduate",
          "Graduate",
          "Graduate",
          "Graduate",
          "Not Graduate",
          "Graduate",
          "Graduate",
          "Graduate",
          "Graduate",
          "Graduate",
          "Graduate",
          "Graduate",
          "Graduate",
          "Not Graduate",
          "Graduate",
          "Graduate",
          "Not Graduate",
          "Graduate",
          "Graduate",
          "Not Graduate",
          "Graduate",
          "Graduate",
          "Not Graduate",
          "Graduate",
          "Not Graduate",
          "Not Graduate",
          "Graduate",
          "Graduate",
          "Not Graduate",
          "Graduate",
          "Graduate",
          "Not Graduate",
          "Graduate",
          "Graduate",
          "Graduate",
          "Graduate",
          "Graduate",
          "Graduate",
          "Graduate",
          "Graduate",
          "Graduate",
          "Graduate",
          "Graduate",
          "Graduate",
          "Graduate",
          "Graduate",
          "Graduate",
          "Graduate",
          "Graduate",
          "Graduate",
          "Graduate",
          "Not Graduate",
          "Not Graduate",
          "Graduate",
          "Graduate",
          "Graduate",
          "Graduate",
          "Graduate",
          "Graduate",
          "Graduate",
          "Graduate",
          "Graduate",
          "Graduate",
          "Graduate",
          "Graduate",
          "Graduate",
          "Graduate",
          "Graduate",
          "Graduate",
          "Graduate",
          "Graduate",
          "Graduate",
          "Not Graduate",
          "Not Graduate",
          "Graduate",
          "Graduate",
          "Graduate",
          "Not Graduate",
          "Graduate",
          "Graduate",
          "Graduate",
          "Not Graduate",
          "Graduate",
          "Not Graduate",
          "Graduate",
          "Graduate",
          "Graduate",
          "Not Graduate",
          "Graduate",
          "Graduate",
          "Graduate",
          "Graduate",
          "Graduate",
          "Graduate",
          "Not Graduate",
          "Graduate",
          "Graduate",
          "Graduate",
          "Graduate",
          "Graduate",
          "Graduate",
          "Graduate",
          "Graduate",
          "Graduate",
          "Graduate",
          "Graduate",
          "Graduate",
          "Graduate",
          "Graduate",
          "Graduate",
          "Not Graduate",
          "Graduate",
          "Not Graduate",
          "Graduate",
          "Not Graduate",
          "Not Graduate",
          "Graduate",
          "Graduate",
          "Not Graduate",
          "Not Graduate",
          "Graduate",
          "Graduate",
          "Graduate",
          "Graduate",
          "Graduate",
          "Graduate",
          "Graduate",
          "Graduate",
          "Graduate",
          "Graduate",
          "Not Graduate",
          "Graduate",
          "Graduate",
          "Graduate",
          "Graduate",
          "Graduate",
          "Graduate",
          "Not Graduate",
          "Graduate",
          "Graduate",
          "Graduate",
          "Graduate",
          "Graduate",
          "Graduate",
          "Graduate",
          "Graduate",
          "Graduate",
          "Graduate",
          "Graduate",
          "Graduate",
          "Graduate",
          "Graduate",
          "Graduate",
          "Graduate",
          "Graduate",
          "Graduate",
          "Graduate",
          "Graduate",
          "Not Graduate",
          "Not Graduate",
          "Graduate",
          "Graduate",
          "Graduate",
          "Graduate",
          "Graduate",
          "Not Graduate",
          "Graduate",
          "Graduate",
          "Graduate",
          "Graduate",
          "Not Graduate",
          "Graduate",
          "Not Graduate",
          "Not Graduate",
          "Graduate",
          "Not Graduate",
          "Graduate",
          "Graduate",
          "Not Graduate",
          "Not Graduate",
          "Graduate",
          "Graduate",
          "Not Graduate",
          "Graduate",
          "Not Graduate",
          "Not Graduate",
          "Not Graduate",
          "Graduate",
          "Graduate",
          "Graduate",
          "Graduate",
          "Graduate",
          "Graduate",
          "Not Graduate",
          "Graduate",
          "Graduate",
          "Graduate",
          "Graduate",
          "Not Graduate",
          "Graduate",
          "Graduate",
          "Not Graduate",
          "Graduate",
          "Graduate",
          "Graduate",
          "Graduate",
          "Graduate",
          "Graduate",
          "Graduate",
          "Graduate",
          "Graduate",
          "Not Graduate",
          "Graduate",
          "Graduate",
          "Not Graduate",
          "Graduate",
          "Graduate",
          "Graduate",
          "Not Graduate",
          "Graduate",
          "Graduate",
          "Not Graduate",
          "Not Graduate",
          "Not Graduate",
          "Graduate",
          "Graduate",
          "Graduate",
          "Graduate",
          "Graduate",
          "Graduate",
          "Graduate",
          "Graduate",
          "Graduate",
          "Graduate",
          "Graduate",
          "Not Graduate",
          "Graduate",
          "Graduate",
          "Not Graduate",
          "Graduate",
          "Not Graduate",
          "Graduate",
          "Graduate",
          "Not Graduate",
          "Graduate",
          "Graduate",
          "Graduate",
          "Graduate",
          "Graduate",
          "Graduate",
          "Graduate",
          "Graduate",
          "Not Graduate",
          "Not Graduate",
          "Graduate",
          "Graduate",
          "Graduate",
          "Not Graduate",
          "Graduate",
          "Graduate",
          "Graduate",
          "Graduate",
          "Not Graduate",
          "Not Graduate",
          "Not Graduate",
          "Not Graduate",
          "Graduate",
          "Graduate",
          "Not Graduate",
          "Graduate",
          "Graduate",
          "Graduate",
          "Graduate",
          "Graduate",
          "Graduate",
          "Not Graduate",
          "Not Graduate",
          "Graduate",
          "Graduate",
          "Graduate",
          "Graduate",
          "Graduate",
          "Not Graduate",
          "Graduate",
          "Graduate",
          "Graduate",
          "Graduate",
          "Graduate",
          "Graduate",
          "Not Graduate",
          "Graduate",
          "Not Graduate",
          "Not Graduate",
          "Graduate",
          "Graduate",
          "Graduate",
          "Graduate",
          "Graduate",
          "Graduate",
          "Not Graduate",
          "Not Graduate",
          "Not Graduate",
          "Graduate",
          "Graduate",
          "Graduate",
          "Graduate",
          "Not Graduate",
          "Not Graduate",
          "Graduate",
          "Graduate",
          "Not Graduate",
          "Graduate",
          "Graduate",
          "Graduate",
          "Graduate",
          "Not Graduate",
          "Not Graduate",
          "Graduate",
          "Not Graduate",
          "Graduate",
          "Graduate",
          "Graduate",
          "Graduate",
          "Not Graduate",
          "Graduate",
          "Not Graduate",
          "Graduate",
          "Graduate",
          "Graduate",
          "Graduate",
          "Graduate",
          "Graduate",
          "Not Graduate",
          "Graduate",
          "Graduate",
          "Not Graduate",
          "Graduate",
          "Not Graduate",
          "Graduate",
          "Graduate",
          "Graduate",
          "Graduate",
          "Graduate",
          "Graduate",
          "Graduate",
          "Not Graduate",
          "Graduate",
          "Graduate",
          "Graduate",
          "Graduate",
          "Graduate",
          "Graduate",
          "Graduate",
          "Graduate",
          "Graduate",
          "Graduate",
          "Graduate",
          "Graduate",
          "Graduate",
          "Not Graduate",
          "Graduate",
          "Graduate",
          "Graduate",
          "Graduate",
          "Graduate",
          "Graduate",
          "Graduate",
          "Not Graduate",
          "Not Graduate",
          "Graduate",
          "Graduate",
          "Graduate",
          "Graduate",
          "Not Graduate",
          "Graduate",
          "Graduate",
          "Graduate",
          "Not Graduate",
          "Graduate",
          "Not Graduate",
          "Graduate",
          "Graduate",
          "Graduate",
          "Graduate",
          "Graduate",
          "Graduate"
         ],
         "legendgroup": "",
         "marker": {
          "colors": [
           "#FF3366",
           "#FF3366",
           "#FF3366",
           "#FFFF00",
           "#FF3366",
           "#FF3366",
           "#FFFF00",
           "#FF3366",
           "#FF3366",
           "#FF3366",
           "#FF3366",
           "#FF3366",
           "#FF3366",
           "#FF3366",
           "#FF3366",
           "#FF3366",
           "#FFFF00",
           "#FF3366",
           "#FFFF00",
           "#FF3366",
           "#FFFF00",
           "#FF3366",
           "#FFFF00",
           "#FFFF00",
           "#FF3366",
           "#FF3366",
           "#FF3366",
           "#FFFF00",
           "#FFFF00",
           "#FF3366",
           "#FF3366",
           "#FF3366",
           "#FF3366",
           "#FF3366",
           "#FF3366",
           "#FF3366",
           "#FF3366",
           "#FF3366",
           "#FF3366",
           "#FFFF00",
           "#FF3366",
           "#FF3366",
           "#FF3366",
           "#FF3366",
           "#FFFF00",
           "#FF3366",
           "#FF3366",
           "#FF3366",
           "#FF3366",
           "#FF3366",
           "#FFFF00",
           "#FF3366",
           "#FF3366",
           "#FF3366",
           "#FF3366",
           "#FF3366",
           "#FF3366",
           "#FF3366",
           "#FF3366",
           "#FFFF00",
           "#FF3366",
           "#FF3366",
           "#FFFF00",
           "#FF3366",
           "#FF3366",
           "#FF3366",
           "#FFFF00",
           "#FF3366",
           "#FFFF00",
           "#FF3366",
           "#FF3366",
           "#FFFF00",
           "#FF3366",
           "#FFFF00",
           "#FF3366",
           "#FF3366",
           "#FF3366",
           "#FF3366",
           "#FF3366",
           "#FFFF00",
           "#FF3366",
           "#FF3366",
           "#FF3366",
           "#FF3366",
           "#FF3366",
           "#FF3366",
           "#FFFF00",
           "#FF3366",
           "#FF3366",
           "#FF3366",
           "#FF3366",
           "#FF3366",
           "#FFFF00",
           "#FF3366",
           "#FFFF00",
           "#FF3366",
           "#FF3366",
           "#FF3366",
           "#FFFF00",
           "#FF3366",
           "#FFFF00",
           "#FF3366",
           "#FF3366",
           "#FF3366",
           "#FF3366",
           "#FF3366",
           "#FF3366",
           "#FFFF00",
           "#FF3366",
           "#FFFF00",
           "#FF3366",
           "#FF3366",
           "#FFFF00",
           "#FF3366",
           "#FF3366",
           "#FF3366",
           "#FF3366",
           "#FF3366",
           "#FF3366",
           "#FF3366",
           "#FF3366",
           "#FF3366",
           "#FF3366",
           "#FF3366",
           "#FFFF00",
           "#FF3366",
           "#FF3366",
           "#FF3366",
           "#FF3366",
           "#FF3366",
           "#FF3366",
           "#FF3366",
           "#FF3366",
           "#FF3366",
           "#FF3366",
           "#FF3366",
           "#FF3366",
           "#FF3366",
           "#FF3366",
           "#FFFF00",
           "#FF3366",
           "#FF3366",
           "#FF3366",
           "#FF3366",
           "#FF3366",
           "#FF3366",
           "#FF3366",
           "#FF3366",
           "#FF3366",
           "#FF3366",
           "#FF3366",
           "#FF3366",
           "#FF3366",
           "#FFFF00",
           "#FF3366",
           "#FF3366",
           "#FF3366",
           "#FF3366",
           "#FF3366",
           "#FF3366",
           "#FFFF00",
           "#FF3366",
           "#FF3366",
           "#FF3366",
           "#FF3366",
           "#FF3366",
           "#FF3366",
           "#FF3366",
           "#FF3366",
           "#FF3366",
           "#FFFF00",
           "#FF3366",
           "#FFFF00",
           "#FF3366",
           "#FFFF00",
           "#FF3366",
           "#FF3366",
           "#FF3366",
           "#FF3366",
           "#FFFF00",
           "#FF3366",
           "#FF3366",
           "#FF3366",
           "#FF3366",
           "#FF3366",
           "#FF3366",
           "#FF3366",
           "#FF3366",
           "#FF3366",
           "#FF3366",
           "#FFFF00",
           "#FF3366",
           "#FFFF00",
           "#FF3366",
           "#FF3366",
           "#FF3366",
           "#FF3366",
           "#FFFF00",
           "#FF3366",
           "#FF3366",
           "#FFFF00",
           "#FF3366",
           "#FFFF00",
           "#FFFF00",
           "#FFFF00",
           "#FFFF00",
           "#FF3366",
           "#FFFF00",
           "#FF3366",
           "#FF3366",
           "#FF3366",
           "#FF3366",
           "#FF3366",
           "#FFFF00",
           "#FF3366",
           "#FFFF00",
           "#FF3366",
           "#FF3366",
           "#FF3366",
           "#FF3366",
           "#FF3366",
           "#FF3366",
           "#FF3366",
           "#FF3366",
           "#FF3366",
           "#FF3366",
           "#FFFF00",
           "#FF3366",
           "#FF3366",
           "#FF3366",
           "#FF3366",
           "#FF3366",
           "#FFFF00",
           "#FF3366",
           "#FF3366",
           "#FF3366",
           "#FF3366",
           "#FF3366",
           "#FF3366",
           "#FF3366",
           "#FF3366",
           "#FFFF00",
           "#FF3366",
           "#FF3366",
           "#FFFF00",
           "#FF3366",
           "#FF3366",
           "#FFFF00",
           "#FF3366",
           "#FF3366",
           "#FFFF00",
           "#FF3366",
           "#FFFF00",
           "#FFFF00",
           "#FF3366",
           "#FF3366",
           "#FFFF00",
           "#FF3366",
           "#FF3366",
           "#FFFF00",
           "#FF3366",
           "#FF3366",
           "#FF3366",
           "#FF3366",
           "#FF3366",
           "#FF3366",
           "#FF3366",
           "#FF3366",
           "#FF3366",
           "#FF3366",
           "#FF3366",
           "#FF3366",
           "#FF3366",
           "#FF3366",
           "#FF3366",
           "#FF3366",
           "#FF3366",
           "#FF3366",
           "#FF3366",
           "#FFFF00",
           "#FFFF00",
           "#FF3366",
           "#FF3366",
           "#FF3366",
           "#FF3366",
           "#FF3366",
           "#FF3366",
           "#FF3366",
           "#FF3366",
           "#FF3366",
           "#FF3366",
           "#FF3366",
           "#FF3366",
           "#FF3366",
           "#FF3366",
           "#FF3366",
           "#FF3366",
           "#FF3366",
           "#FF3366",
           "#FF3366",
           "#FFFF00",
           "#FFFF00",
           "#FF3366",
           "#FF3366",
           "#FF3366",
           "#FFFF00",
           "#FF3366",
           "#FF3366",
           "#FF3366",
           "#FFFF00",
           "#FF3366",
           "#FFFF00",
           "#FF3366",
           "#FF3366",
           "#FF3366",
           "#FFFF00",
           "#FF3366",
           "#FF3366",
           "#FF3366",
           "#FF3366",
           "#FF3366",
           "#FF3366",
           "#FFFF00",
           "#FF3366",
           "#FF3366",
           "#FF3366",
           "#FF3366",
           "#FF3366",
           "#FF3366",
           "#FF3366",
           "#FF3366",
           "#FF3366",
           "#FF3366",
           "#FF3366",
           "#FF3366",
           "#FF3366",
           "#FF3366",
           "#FF3366",
           "#FFFF00",
           "#FF3366",
           "#FFFF00",
           "#FF3366",
           "#FFFF00",
           "#FFFF00",
           "#FF3366",
           "#FF3366",
           "#FFFF00",
           "#FFFF00",
           "#FF3366",
           "#FF3366",
           "#FF3366",
           "#FF3366",
           "#FF3366",
           "#FF3366",
           "#FF3366",
           "#FF3366",
           "#FF3366",
           "#FF3366",
           "#FFFF00",
           "#FF3366",
           "#FF3366",
           "#FF3366",
           "#FF3366",
           "#FF3366",
           "#FF3366",
           "#FFFF00",
           "#FF3366",
           "#FF3366",
           "#FF3366",
           "#FF3366",
           "#FF3366",
           "#FF3366",
           "#FF3366",
           "#FF3366",
           "#FF3366",
           "#FF3366",
           "#FF3366",
           "#FF3366",
           "#FF3366",
           "#FF3366",
           "#FF3366",
           "#FF3366",
           "#FF3366",
           "#FF3366",
           "#FF3366",
           "#FF3366",
           "#FFFF00",
           "#FFFF00",
           "#FF3366",
           "#FF3366",
           "#FF3366",
           "#FF3366",
           "#FF3366",
           "#FFFF00",
           "#FF3366",
           "#FF3366",
           "#FF3366",
           "#FF3366",
           "#FFFF00",
           "#FF3366",
           "#FFFF00",
           "#FFFF00",
           "#FF3366",
           "#FFFF00",
           "#FF3366",
           "#FF3366",
           "#FFFF00",
           "#FFFF00",
           "#FF3366",
           "#FF3366",
           "#FFFF00",
           "#FF3366",
           "#FFFF00",
           "#FFFF00",
           "#FFFF00",
           "#FF3366",
           "#FF3366",
           "#FF3366",
           "#FF3366",
           "#FF3366",
           "#FF3366",
           "#FFFF00",
           "#FF3366",
           "#FF3366",
           "#FF3366",
           "#FF3366",
           "#FFFF00",
           "#FF3366",
           "#FF3366",
           "#FFFF00",
           "#FF3366",
           "#FF3366",
           "#FF3366",
           "#FF3366",
           "#FF3366",
           "#FF3366",
           "#FF3366",
           "#FF3366",
           "#FF3366",
           "#FFFF00",
           "#FF3366",
           "#FF3366",
           "#FFFF00",
           "#FF3366",
           "#FF3366",
           "#FF3366",
           "#FFFF00",
           "#FF3366",
           "#FF3366",
           "#FFFF00",
           "#FFFF00",
           "#FFFF00",
           "#FF3366",
           "#FF3366",
           "#FF3366",
           "#FF3366",
           "#FF3366",
           "#FF3366",
           "#FF3366",
           "#FF3366",
           "#FF3366",
           "#FF3366",
           "#FF3366",
           "#FFFF00",
           "#FF3366",
           "#FF3366",
           "#FFFF00",
           "#FF3366",
           "#FFFF00",
           "#FF3366",
           "#FF3366",
           "#FFFF00",
           "#FF3366",
           "#FF3366",
           "#FF3366",
           "#FF3366",
           "#FF3366",
           "#FF3366",
           "#FF3366",
           "#FF3366",
           "#FFFF00",
           "#FFFF00",
           "#FF3366",
           "#FF3366",
           "#FF3366",
           "#FFFF00",
           "#FF3366",
           "#FF3366",
           "#FF3366",
           "#FF3366",
           "#FFFF00",
           "#FFFF00",
           "#FFFF00",
           "#FFFF00",
           "#FF3366",
           "#FF3366",
           "#FFFF00",
           "#FF3366",
           "#FF3366",
           "#FF3366",
           "#FF3366",
           "#FF3366",
           "#FF3366",
           "#FFFF00",
           "#FFFF00",
           "#FF3366",
           "#FF3366",
           "#FF3366",
           "#FF3366",
           "#FF3366",
           "#FFFF00",
           "#FF3366",
           "#FF3366",
           "#FF3366",
           "#FF3366",
           "#FF3366",
           "#FF3366",
           "#FFFF00",
           "#FF3366",
           "#FFFF00",
           "#FFFF00",
           "#FF3366",
           "#FF3366",
           "#FF3366",
           "#FF3366",
           "#FF3366",
           "#FF3366",
           "#FFFF00",
           "#FFFF00",
           "#FFFF00",
           "#FF3366",
           "#FF3366",
           "#FF3366",
           "#FF3366",
           "#FFFF00",
           "#FFFF00",
           "#FF3366",
           "#FF3366",
           "#FFFF00",
           "#FF3366",
           "#FF3366",
           "#FF3366",
           "#FF3366",
           "#FFFF00",
           "#FFFF00",
           "#FF3366",
           "#FFFF00",
           "#FF3366",
           "#FF3366",
           "#FF3366",
           "#FF3366",
           "#FFFF00",
           "#FF3366",
           "#FFFF00",
           "#FF3366",
           "#FF3366",
           "#FF3366",
           "#FF3366",
           "#FF3366",
           "#FF3366",
           "#FFFF00",
           "#FF3366",
           "#FF3366",
           "#FFFF00",
           "#FF3366",
           "#FFFF00",
           "#FF3366",
           "#FF3366",
           "#FF3366",
           "#FF3366",
           "#FF3366",
           "#FF3366",
           "#FF3366",
           "#FFFF00",
           "#FF3366",
           "#FF3366",
           "#FF3366",
           "#FF3366",
           "#FF3366",
           "#FF3366",
           "#FF3366",
           "#FF3366",
           "#FF3366",
           "#FF3366",
           "#FF3366",
           "#FF3366",
           "#FF3366",
           "#FFFF00",
           "#FF3366",
           "#FF3366",
           "#FF3366",
           "#FF3366",
           "#FF3366",
           "#FF3366",
           "#FF3366",
           "#FFFF00",
           "#FFFF00",
           "#FF3366",
           "#FF3366",
           "#FF3366",
           "#FF3366",
           "#FFFF00",
           "#FF3366",
           "#FF3366",
           "#FF3366",
           "#FFFF00",
           "#FF3366",
           "#FFFF00",
           "#FF3366",
           "#FF3366",
           "#FF3366",
           "#FF3366",
           "#FF3366",
           "#FF3366"
          ]
         },
         "name": "",
         "showlegend": true,
         "textinfo": "percent+label",
         "textposition": "inside",
         "type": "pie",
         "values": [
          360,
          360,
          360,
          360,
          360,
          360,
          360,
          360,
          360,
          360,
          360,
          360,
          360,
          360,
          120,
          360,
          240,
          360,
          360,
          342,
          360,
          360,
          360,
          360,
          360,
          360,
          360,
          360,
          360,
          360,
          360,
          360,
          360,
          360,
          360,
          360,
          342,
          360,
          360,
          360,
          360,
          360,
          360,
          360,
          342,
          342,
          360,
          360,
          360,
          360,
          360,
          360,
          360,
          360,
          360,
          360,
          360,
          360,
          360,
          360,
          360,
          360,
          180,
          360,
          360,
          360,
          180,
          360,
          60,
          360,
          360,
          360,
          300,
          342,
          360,
          480,
          360,
          360,
          300,
          360,
          360,
          360,
          360,
          360,
          240,
          360,
          360,
          360,
          360,
          360,
          360,
          180,
          360,
          360,
          120,
          360,
          360,
          360,
          180,
          360,
          180,
          360,
          360,
          360,
          360,
          360,
          360,
          360,
          360,
          480,
          360,
          360,
          342,
          360,
          360,
          180,
          360,
          360,
          360,
          360,
          360,
          360,
          360,
          360,
          360,
          360,
          360,
          360,
          180,
          360,
          480,
          360,
          360,
          120,
          360,
          360,
          360,
          360,
          360,
          360,
          360,
          360,
          180,
          360,
          180,
          360,
          360,
          360,
          360,
          360,
          360,
          360,
          360,
          360,
          360,
          180,
          360,
          360,
          360,
          360,
          360,
          360,
          360,
          360,
          180,
          342,
          360,
          360,
          480,
          360,
          360,
          300,
          180,
          360,
          360,
          360,
          360,
          360,
          360,
          480,
          360,
          360,
          180,
          360,
          360,
          360,
          300,
          360,
          360,
          180,
          360,
          360,
          360,
          360,
          360,
          360,
          360,
          342,
          360,
          360,
          360,
          360,
          180,
          360,
          360,
          360,
          360,
          360,
          360,
          360,
          360,
          360,
          360,
          360,
          360,
          360,
          360,
          360,
          360,
          360,
          360,
          360,
          360,
          342,
          360,
          360,
          360,
          360,
          480,
          360,
          360,
          180,
          342,
          360,
          360,
          360,
          360,
          360,
          360,
          360,
          360,
          180,
          60,
          360,
          360,
          180,
          360,
          180,
          480,
          360,
          360,
          360,
          360,
          180,
          360,
          360,
          360,
          360,
          360,
          360,
          360,
          360,
          36,
          360,
          360,
          360,
          360,
          360,
          360,
          360,
          360,
          360,
          360,
          360,
          360,
          360,
          360,
          360,
          360,
          360,
          360,
          360,
          180,
          360,
          360,
          360,
          300,
          360,
          360,
          360,
          360,
          360,
          360,
          480,
          360,
          360,
          360,
          360,
          480,
          360,
          360,
          360,
          360,
          360,
          360,
          360,
          360,
          360,
          360,
          360,
          360,
          360,
          360,
          84,
          360,
          180,
          360,
          360,
          360,
          360,
          360,
          360,
          360,
          360,
          360,
          360,
          360,
          360,
          360,
          360,
          360,
          360,
          360,
          180,
          180,
          342,
          360,
          360,
          360,
          360,
          360,
          360,
          360,
          360,
          360,
          360,
          360,
          360,
          360,
          360,
          360,
          360,
          360,
          360,
          360,
          180,
          360,
          360,
          480,
          360,
          360,
          360,
          360,
          300,
          360,
          360,
          480,
          342,
          360,
          360,
          360,
          360,
          300,
          180,
          360,
          180,
          360,
          360,
          480,
          360,
          360,
          360,
          360,
          360,
          360,
          180,
          360,
          360,
          360,
          360,
          360,
          360,
          360,
          180,
          360,
          360,
          360,
          360,
          360,
          360,
          180,
          300,
          360,
          360,
          360,
          360,
          360,
          360,
          300,
          360,
          360,
          360,
          360,
          360,
          360,
          360,
          360,
          360,
          360,
          360,
          360,
          342,
          360,
          342,
          360,
          360,
          360,
          360,
          360,
          180,
          360,
          360,
          360,
          360,
          360,
          240,
          360,
          360,
          360,
          360,
          360,
          360,
          360,
          360,
          300,
          360,
          360,
          360,
          360,
          360,
          360,
          300,
          360,
          180,
          360,
          360,
          360,
          360,
          360,
          360,
          360,
          180,
          360,
          360,
          360,
          360,
          180,
          360,
          360,
          360,
          360,
          180,
          360,
          360,
          360,
          360,
          300,
          360,
          360,
          360,
          360,
          360,
          360,
          360,
          360,
          360,
          360,
          360,
          360,
          360,
          360,
          360,
          360,
          360,
          360,
          84,
          360,
          12,
          360,
          360,
          480,
          360,
          360,
          360,
          300,
          360,
          360,
          360,
          360,
          360,
          360,
          360,
          360,
          180,
          360,
          360,
          480,
          360,
          360,
          360,
          360,
          360,
          360,
          360,
          360,
          360,
          360,
          360,
          360,
          360,
          360,
          360,
          360,
          360,
          360,
          360,
          360,
          360,
          360,
          180,
          180,
          360,
          360,
          360,
          360,
          360,
          36,
          360,
          360,
          360,
          360,
          360,
          360,
          360,
          180,
          360,
          360,
          360,
          360,
          360,
          360,
          360,
          360,
          360,
          360,
          360,
          360,
          360,
          360,
          360,
          360,
          360,
          360,
          480,
          360,
          84,
          360,
          360,
          360,
          360,
          360,
          360,
          360,
          360,
          360,
          84,
          360,
          360,
          360,
          360,
          180,
          240,
          360,
          180,
          360,
          360,
          360,
          360,
          360,
          360,
          180,
          360,
          360,
          360,
          360,
          180,
          360,
          360,
          360,
          360,
          180,
          360,
          360,
          360
         ]
        }
       ],
       "layout": {
        "legend": {
         "tracegroupgap": 0
        },
        "margin": {
         "t": 60
        },
        "template": {
         "data": {
          "bar": [
           {
            "error_x": {
             "color": "#2a3f5f"
            },
            "error_y": {
             "color": "#2a3f5f"
            },
            "marker": {
             "line": {
              "color": "#E5ECF6",
              "width": 0.5
             },
             "pattern": {
              "fillmode": "overlay",
              "size": 10,
              "solidity": 0.2
             }
            },
            "type": "bar"
           }
          ],
          "barpolar": [
           {
            "marker": {
             "line": {
              "color": "#E5ECF6",
              "width": 0.5
             },
             "pattern": {
              "fillmode": "overlay",
              "size": 10,
              "solidity": 0.2
             }
            },
            "type": "barpolar"
           }
          ],
          "carpet": [
           {
            "aaxis": {
             "endlinecolor": "#2a3f5f",
             "gridcolor": "white",
             "linecolor": "white",
             "minorgridcolor": "white",
             "startlinecolor": "#2a3f5f"
            },
            "baxis": {
             "endlinecolor": "#2a3f5f",
             "gridcolor": "white",
             "linecolor": "white",
             "minorgridcolor": "white",
             "startlinecolor": "#2a3f5f"
            },
            "type": "carpet"
           }
          ],
          "choropleth": [
           {
            "colorbar": {
             "outlinewidth": 0,
             "ticks": ""
            },
            "type": "choropleth"
           }
          ],
          "contour": [
           {
            "colorbar": {
             "outlinewidth": 0,
             "ticks": ""
            },
            "colorscale": [
             [
              0,
              "#0d0887"
             ],
             [
              0.1111111111111111,
              "#46039f"
             ],
             [
              0.2222222222222222,
              "#7201a8"
             ],
             [
              0.3333333333333333,
              "#9c179e"
             ],
             [
              0.4444444444444444,
              "#bd3786"
             ],
             [
              0.5555555555555556,
              "#d8576b"
             ],
             [
              0.6666666666666666,
              "#ed7953"
             ],
             [
              0.7777777777777778,
              "#fb9f3a"
             ],
             [
              0.8888888888888888,
              "#fdca26"
             ],
             [
              1,
              "#f0f921"
             ]
            ],
            "type": "contour"
           }
          ],
          "contourcarpet": [
           {
            "colorbar": {
             "outlinewidth": 0,
             "ticks": ""
            },
            "type": "contourcarpet"
           }
          ],
          "heatmap": [
           {
            "colorbar": {
             "outlinewidth": 0,
             "ticks": ""
            },
            "colorscale": [
             [
              0,
              "#0d0887"
             ],
             [
              0.1111111111111111,
              "#46039f"
             ],
             [
              0.2222222222222222,
              "#7201a8"
             ],
             [
              0.3333333333333333,
              "#9c179e"
             ],
             [
              0.4444444444444444,
              "#bd3786"
             ],
             [
              0.5555555555555556,
              "#d8576b"
             ],
             [
              0.6666666666666666,
              "#ed7953"
             ],
             [
              0.7777777777777778,
              "#fb9f3a"
             ],
             [
              0.8888888888888888,
              "#fdca26"
             ],
             [
              1,
              "#f0f921"
             ]
            ],
            "type": "heatmap"
           }
          ],
          "heatmapgl": [
           {
            "colorbar": {
             "outlinewidth": 0,
             "ticks": ""
            },
            "colorscale": [
             [
              0,
              "#0d0887"
             ],
             [
              0.1111111111111111,
              "#46039f"
             ],
             [
              0.2222222222222222,
              "#7201a8"
             ],
             [
              0.3333333333333333,
              "#9c179e"
             ],
             [
              0.4444444444444444,
              "#bd3786"
             ],
             [
              0.5555555555555556,
              "#d8576b"
             ],
             [
              0.6666666666666666,
              "#ed7953"
             ],
             [
              0.7777777777777778,
              "#fb9f3a"
             ],
             [
              0.8888888888888888,
              "#fdca26"
             ],
             [
              1,
              "#f0f921"
             ]
            ],
            "type": "heatmapgl"
           }
          ],
          "histogram": [
           {
            "marker": {
             "pattern": {
              "fillmode": "overlay",
              "size": 10,
              "solidity": 0.2
             }
            },
            "type": "histogram"
           }
          ],
          "histogram2d": [
           {
            "colorbar": {
             "outlinewidth": 0,
             "ticks": ""
            },
            "colorscale": [
             [
              0,
              "#0d0887"
             ],
             [
              0.1111111111111111,
              "#46039f"
             ],
             [
              0.2222222222222222,
              "#7201a8"
             ],
             [
              0.3333333333333333,
              "#9c179e"
             ],
             [
              0.4444444444444444,
              "#bd3786"
             ],
             [
              0.5555555555555556,
              "#d8576b"
             ],
             [
              0.6666666666666666,
              "#ed7953"
             ],
             [
              0.7777777777777778,
              "#fb9f3a"
             ],
             [
              0.8888888888888888,
              "#fdca26"
             ],
             [
              1,
              "#f0f921"
             ]
            ],
            "type": "histogram2d"
           }
          ],
          "histogram2dcontour": [
           {
            "colorbar": {
             "outlinewidth": 0,
             "ticks": ""
            },
            "colorscale": [
             [
              0,
              "#0d0887"
             ],
             [
              0.1111111111111111,
              "#46039f"
             ],
             [
              0.2222222222222222,
              "#7201a8"
             ],
             [
              0.3333333333333333,
              "#9c179e"
             ],
             [
              0.4444444444444444,
              "#bd3786"
             ],
             [
              0.5555555555555556,
              "#d8576b"
             ],
             [
              0.6666666666666666,
              "#ed7953"
             ],
             [
              0.7777777777777778,
              "#fb9f3a"
             ],
             [
              0.8888888888888888,
              "#fdca26"
             ],
             [
              1,
              "#f0f921"
             ]
            ],
            "type": "histogram2dcontour"
           }
          ],
          "mesh3d": [
           {
            "colorbar": {
             "outlinewidth": 0,
             "ticks": ""
            },
            "type": "mesh3d"
           }
          ],
          "parcoords": [
           {
            "line": {
             "colorbar": {
              "outlinewidth": 0,
              "ticks": ""
             }
            },
            "type": "parcoords"
           }
          ],
          "pie": [
           {
            "automargin": true,
            "type": "pie"
           }
          ],
          "scatter": [
           {
            "fillpattern": {
             "fillmode": "overlay",
             "size": 10,
             "solidity": 0.2
            },
            "type": "scatter"
           }
          ],
          "scatter3d": [
           {
            "line": {
             "colorbar": {
              "outlinewidth": 0,
              "ticks": ""
             }
            },
            "marker": {
             "colorbar": {
              "outlinewidth": 0,
              "ticks": ""
             }
            },
            "type": "scatter3d"
           }
          ],
          "scattercarpet": [
           {
            "marker": {
             "colorbar": {
              "outlinewidth": 0,
              "ticks": ""
             }
            },
            "type": "scattercarpet"
           }
          ],
          "scattergeo": [
           {
            "marker": {
             "colorbar": {
              "outlinewidth": 0,
              "ticks": ""
             }
            },
            "type": "scattergeo"
           }
          ],
          "scattergl": [
           {
            "marker": {
             "colorbar": {
              "outlinewidth": 0,
              "ticks": ""
             }
            },
            "type": "scattergl"
           }
          ],
          "scattermapbox": [
           {
            "marker": {
             "colorbar": {
              "outlinewidth": 0,
              "ticks": ""
             }
            },
            "type": "scattermapbox"
           }
          ],
          "scatterpolar": [
           {
            "marker": {
             "colorbar": {
              "outlinewidth": 0,
              "ticks": ""
             }
            },
            "type": "scatterpolar"
           }
          ],
          "scatterpolargl": [
           {
            "marker": {
             "colorbar": {
              "outlinewidth": 0,
              "ticks": ""
             }
            },
            "type": "scatterpolargl"
           }
          ],
          "scatterternary": [
           {
            "marker": {
             "colorbar": {
              "outlinewidth": 0,
              "ticks": ""
             }
            },
            "type": "scatterternary"
           }
          ],
          "surface": [
           {
            "colorbar": {
             "outlinewidth": 0,
             "ticks": ""
            },
            "colorscale": [
             [
              0,
              "#0d0887"
             ],
             [
              0.1111111111111111,
              "#46039f"
             ],
             [
              0.2222222222222222,
              "#7201a8"
             ],
             [
              0.3333333333333333,
              "#9c179e"
             ],
             [
              0.4444444444444444,
              "#bd3786"
             ],
             [
              0.5555555555555556,
              "#d8576b"
             ],
             [
              0.6666666666666666,
              "#ed7953"
             ],
             [
              0.7777777777777778,
              "#fb9f3a"
             ],
             [
              0.8888888888888888,
              "#fdca26"
             ],
             [
              1,
              "#f0f921"
             ]
            ],
            "type": "surface"
           }
          ],
          "table": [
           {
            "cells": {
             "fill": {
              "color": "#EBF0F8"
             },
             "line": {
              "color": "white"
             }
            },
            "header": {
             "fill": {
              "color": "#C8D4E3"
             },
             "line": {
              "color": "white"
             }
            },
            "type": "table"
           }
          ]
         },
         "layout": {
          "annotationdefaults": {
           "arrowcolor": "#2a3f5f",
           "arrowhead": 0,
           "arrowwidth": 1
          },
          "autotypenumbers": "strict",
          "coloraxis": {
           "colorbar": {
            "outlinewidth": 0,
            "ticks": ""
           }
          },
          "colorscale": {
           "diverging": [
            [
             0,
             "#8e0152"
            ],
            [
             0.1,
             "#c51b7d"
            ],
            [
             0.2,
             "#de77ae"
            ],
            [
             0.3,
             "#f1b6da"
            ],
            [
             0.4,
             "#fde0ef"
            ],
            [
             0.5,
             "#f7f7f7"
            ],
            [
             0.6,
             "#e6f5d0"
            ],
            [
             0.7,
             "#b8e186"
            ],
            [
             0.8,
             "#7fbc41"
            ],
            [
             0.9,
             "#4d9221"
            ],
            [
             1,
             "#276419"
            ]
           ],
           "sequential": [
            [
             0,
             "#0d0887"
            ],
            [
             0.1111111111111111,
             "#46039f"
            ],
            [
             0.2222222222222222,
             "#7201a8"
            ],
            [
             0.3333333333333333,
             "#9c179e"
            ],
            [
             0.4444444444444444,
             "#bd3786"
            ],
            [
             0.5555555555555556,
             "#d8576b"
            ],
            [
             0.6666666666666666,
             "#ed7953"
            ],
            [
             0.7777777777777778,
             "#fb9f3a"
            ],
            [
             0.8888888888888888,
             "#fdca26"
            ],
            [
             1,
             "#f0f921"
            ]
           ],
           "sequentialminus": [
            [
             0,
             "#0d0887"
            ],
            [
             0.1111111111111111,
             "#46039f"
            ],
            [
             0.2222222222222222,
             "#7201a8"
            ],
            [
             0.3333333333333333,
             "#9c179e"
            ],
            [
             0.4444444444444444,
             "#bd3786"
            ],
            [
             0.5555555555555556,
             "#d8576b"
            ],
            [
             0.6666666666666666,
             "#ed7953"
            ],
            [
             0.7777777777777778,
             "#fb9f3a"
            ],
            [
             0.8888888888888888,
             "#fdca26"
            ],
            [
             1,
             "#f0f921"
            ]
           ]
          },
          "colorway": [
           "#636efa",
           "#EF553B",
           "#00cc96",
           "#ab63fa",
           "#FFA15A",
           "#19d3f3",
           "#FF6692",
           "#B6E880",
           "#FF97FF",
           "#FECB52"
          ],
          "font": {
           "color": "#2a3f5f"
          },
          "geo": {
           "bgcolor": "white",
           "lakecolor": "white",
           "landcolor": "#E5ECF6",
           "showlakes": true,
           "showland": true,
           "subunitcolor": "white"
          },
          "hoverlabel": {
           "align": "left"
          },
          "hovermode": "closest",
          "mapbox": {
           "style": "light"
          },
          "paper_bgcolor": "white",
          "plot_bgcolor": "#E5ECF6",
          "polar": {
           "angularaxis": {
            "gridcolor": "white",
            "linecolor": "white",
            "ticks": ""
           },
           "bgcolor": "#E5ECF6",
           "radialaxis": {
            "gridcolor": "white",
            "linecolor": "white",
            "ticks": ""
           }
          },
          "scene": {
           "xaxis": {
            "backgroundcolor": "#E5ECF6",
            "gridcolor": "white",
            "gridwidth": 2,
            "linecolor": "white",
            "showbackground": true,
            "ticks": "",
            "zerolinecolor": "white"
           },
           "yaxis": {
            "backgroundcolor": "#E5ECF6",
            "gridcolor": "white",
            "gridwidth": 2,
            "linecolor": "white",
            "showbackground": true,
            "ticks": "",
            "zerolinecolor": "white"
           },
           "zaxis": {
            "backgroundcolor": "#E5ECF6",
            "gridcolor": "white",
            "gridwidth": 2,
            "linecolor": "white",
            "showbackground": true,
            "ticks": "",
            "zerolinecolor": "white"
           }
          },
          "shapedefaults": {
           "line": {
            "color": "#2a3f5f"
           }
          },
          "ternary": {
           "aaxis": {
            "gridcolor": "white",
            "linecolor": "white",
            "ticks": ""
           },
           "baxis": {
            "gridcolor": "white",
            "linecolor": "white",
            "ticks": ""
           },
           "bgcolor": "#E5ECF6",
           "caxis": {
            "gridcolor": "white",
            "linecolor": "white",
            "ticks": ""
           }
          },
          "title": {
           "x": 0.05
          },
          "xaxis": {
           "automargin": true,
           "gridcolor": "white",
           "linecolor": "white",
           "ticks": "",
           "title": {
            "standoff": 15
           },
           "zerolinecolor": "white",
           "zerolinewidth": 2
          },
          "yaxis": {
           "automargin": true,
           "gridcolor": "white",
           "linecolor": "white",
           "ticks": "",
           "title": {
            "standoff": 15
           },
           "zerolinecolor": "white",
           "zerolinewidth": 2
          }
         }
        }
       }
      }
     },
     "metadata": {},
     "output_type": "display_data"
    }
   ],
   "source": [
    "loan_pie = px.pie(loan_data, values='Loan_Amount_Term', names='Education', color= 'Education', color_discrete_map= {'Graduate':'#FF3366', 'Not Graduate':'#FFFF00'})\n",
    "loan_pie.update_traces(textposition='inside', textinfo='percent+label')\n",
    "loan_pie.show()"
   ]
  },
  {
   "cell_type": "code",
   "execution_count": 74,
   "metadata": {},
   "outputs": [
    {
     "data": {
      "application/vnd.plotly.v1+json": {
       "config": {
        "plotlyServerURL": "https://plot.ly"
       },
       "data": [
        {
         "hovertemplate": "Loan_ID=%{x}<br>Loan_Amount_Term=%{y}<extra></extra>",
         "legendgroup": "",
         "line": {
          "color": "#636efa",
          "dash": "solid"
         },
         "marker": {
          "symbol": "circle"
         },
         "mode": "lines",
         "name": "",
         "orientation": "v",
         "showlegend": false,
         "type": "scatter",
         "x": [
          "LP001002",
          "LP001003",
          "LP001005",
          "LP001006",
          "LP001008",
          "LP001011",
          "LP001013",
          "LP001014",
          "LP001018",
          "LP001020",
          "LP001024",
          "LP001027",
          "LP001028",
          "LP001029",
          "LP001030",
          "LP001032",
          "LP001034",
          "LP001036",
          "LP001038",
          "LP001041",
          "LP001043",
          "LP001046",
          "LP001047",
          "LP001050",
          "LP001052",
          "LP001066",
          "LP001068",
          "LP001073",
          "LP001086",
          "LP001087",
          "LP001091",
          "LP001095",
          "LP001097",
          "LP001098",
          "LP001100",
          "LP001106",
          "LP001109",
          "LP001112",
          "LP001114",
          "LP001116",
          "LP001119",
          "LP001120",
          "LP001123",
          "LP001131",
          "LP001136",
          "LP001137",
          "LP001138",
          "LP001144",
          "LP001146",
          "LP001151",
          "LP001155",
          "LP001157",
          "LP001164",
          "LP001179",
          "LP001186",
          "LP001194",
          "LP001195",
          "LP001197",
          "LP001198",
          "LP001199",
          "LP001205",
          "LP001206",
          "LP001207",
          "LP001213",
          "LP001222",
          "LP001225",
          "LP001228",
          "LP001233",
          "LP001238",
          "LP001241",
          "LP001243",
          "LP001245",
          "LP001248",
          "LP001250",
          "LP001253",
          "LP001255",
          "LP001256",
          "LP001259",
          "LP001263",
          "LP001264",
          "LP001265",
          "LP001266",
          "LP001267",
          "LP001273",
          "LP001275",
          "LP001279",
          "LP001280",
          "LP001282",
          "LP001289",
          "LP001310",
          "LP001316",
          "LP001318",
          "LP001319",
          "LP001322",
          "LP001325",
          "LP001326",
          "LP001327",
          "LP001333",
          "LP001334",
          "LP001343",
          "LP001345",
          "LP001349",
          "LP001350",
          "LP001356",
          "LP001357",
          "LP001367",
          "LP001369",
          "LP001370",
          "LP001379",
          "LP001384",
          "LP001385",
          "LP001387",
          "LP001391",
          "LP001392",
          "LP001398",
          "LP001401",
          "LP001404",
          "LP001405",
          "LP001421",
          "LP001422",
          "LP001426",
          "LP001430",
          "LP001431",
          "LP001432",
          "LP001439",
          "LP001443",
          "LP001448",
          "LP001449",
          "LP001451",
          "LP001465",
          "LP001469",
          "LP001473",
          "LP001478",
          "LP001482",
          "LP001487",
          "LP001488",
          "LP001489",
          "LP001491",
          "LP001492",
          "LP001493",
          "LP001497",
          "LP001498",
          "LP001504",
          "LP001507",
          "LP001508",
          "LP001514",
          "LP001516",
          "LP001518",
          "LP001519",
          "LP001520",
          "LP001528",
          "LP001529",
          "LP001531",
          "LP001532",
          "LP001535",
          "LP001536",
          "LP001541",
          "LP001543",
          "LP001546",
          "LP001552",
          "LP001560",
          "LP001562",
          "LP001565",
          "LP001570",
          "LP001572",
          "LP001574",
          "LP001577",
          "LP001578",
          "LP001579",
          "LP001580",
          "LP001581",
          "LP001585",
          "LP001586",
          "LP001594",
          "LP001603",
          "LP001606",
          "LP001608",
          "LP001610",
          "LP001616",
          "LP001630",
          "LP001633",
          "LP001634",
          "LP001636",
          "LP001637",
          "LP001639",
          "LP001640",
          "LP001641",
          "LP001643",
          "LP001644",
          "LP001647",
          "LP001653",
          "LP001656",
          "LP001657",
          "LP001658",
          "LP001664",
          "LP001665",
          "LP001666",
          "LP001669",
          "LP001671",
          "LP001673",
          "LP001674",
          "LP001677",
          "LP001682",
          "LP001688",
          "LP001691",
          "LP001692",
          "LP001693",
          "LP001698",
          "LP001699",
          "LP001702",
          "LP001708",
          "LP001711",
          "LP001713",
          "LP001715",
          "LP001716",
          "LP001720",
          "LP001722",
          "LP001726",
          "LP001732",
          "LP001734",
          "LP001736",
          "LP001743",
          "LP001744",
          "LP001749",
          "LP001750",
          "LP001751",
          "LP001754",
          "LP001758",
          "LP001760",
          "LP001761",
          "LP001765",
          "LP001768",
          "LP001770",
          "LP001776",
          "LP001778",
          "LP001784",
          "LP001786",
          "LP001788",
          "LP001790",
          "LP001792",
          "LP001798",
          "LP001800",
          "LP001806",
          "LP001807",
          "LP001811",
          "LP001813",
          "LP001814",
          "LP001819",
          "LP001824",
          "LP001825",
          "LP001835",
          "LP001836",
          "LP001841",
          "LP001843",
          "LP001844",
          "LP001846",
          "LP001849",
          "LP001854",
          "LP001859",
          "LP001864",
          "LP001865",
          "LP001868",
          "LP001870",
          "LP001871",
          "LP001872",
          "LP001875",
          "LP001877",
          "LP001882",
          "LP001883",
          "LP001884",
          "LP001888",
          "LP001891",
          "LP001892",
          "LP001894",
          "LP001896",
          "LP001900",
          "LP001903",
          "LP001904",
          "LP001907",
          "LP001908",
          "LP001910",
          "LP001914",
          "LP001915",
          "LP001917",
          "LP001922",
          "LP001924",
          "LP001925",
          "LP001926",
          "LP001931",
          "LP001935",
          "LP001936",
          "LP001938",
          "LP001940",
          "LP001945",
          "LP001947",
          "LP001949",
          "LP001953",
          "LP001954",
          "LP001955",
          "LP001963",
          "LP001964",
          "LP001972",
          "LP001974",
          "LP001977",
          "LP001978",
          "LP001990",
          "LP001993",
          "LP001994",
          "LP001996",
          "LP001998",
          "LP002002",
          "LP002004",
          "LP002006",
          "LP002008",
          "LP002024",
          "LP002031",
          "LP002035",
          "LP002036",
          "LP002043",
          "LP002050",
          "LP002051",
          "LP002053",
          "LP002054",
          "LP002055",
          "LP002065",
          "LP002067",
          "LP002068",
          "LP002082",
          "LP002086",
          "LP002087",
          "LP002097",
          "LP002098",
          "LP002100",
          "LP002101",
          "LP002103",
          "LP002106",
          "LP002110",
          "LP002112",
          "LP002113",
          "LP002114",
          "LP002115",
          "LP002116",
          "LP002119",
          "LP002126",
          "LP002128",
          "LP002129",
          "LP002130",
          "LP002131",
          "LP002137",
          "LP002138",
          "LP002139",
          "LP002140",
          "LP002141",
          "LP002142",
          "LP002143",
          "LP002144",
          "LP002149",
          "LP002151",
          "LP002158",
          "LP002160",
          "LP002161",
          "LP002170",
          "LP002175",
          "LP002178",
          "LP002180",
          "LP002181",
          "LP002187",
          "LP002188",
          "LP002190",
          "LP002191",
          "LP002194",
          "LP002197",
          "LP002201",
          "LP002205",
          "LP002209",
          "LP002211",
          "LP002219",
          "LP002223",
          "LP002224",
          "LP002225",
          "LP002226",
          "LP002229",
          "LP002231",
          "LP002234",
          "LP002236",
          "LP002237",
          "LP002239",
          "LP002243",
          "LP002244",
          "LP002250",
          "LP002255",
          "LP002262",
          "LP002263",
          "LP002265",
          "LP002266",
          "LP002272",
          "LP002277",
          "LP002281",
          "LP002284",
          "LP002287",
          "LP002288",
          "LP002296",
          "LP002297",
          "LP002300",
          "LP002301",
          "LP002305",
          "LP002308",
          "LP002314",
          "LP002315",
          "LP002317",
          "LP002318",
          "LP002319",
          "LP002328",
          "LP002332",
          "LP002335",
          "LP002337",
          "LP002341",
          "LP002342",
          "LP002345",
          "LP002347",
          "LP002348",
          "LP002357",
          "LP002361",
          "LP002362",
          "LP002364",
          "LP002366",
          "LP002367",
          "LP002368",
          "LP002369",
          "LP002370",
          "LP002377",
          "LP002379",
          "LP002386",
          "LP002387",
          "LP002390",
          "LP002393",
          "LP002398",
          "LP002401",
          "LP002403",
          "LP002407",
          "LP002408",
          "LP002409",
          "LP002418",
          "LP002422",
          "LP002424",
          "LP002429",
          "LP002434",
          "LP002435",
          "LP002443",
          "LP002444",
          "LP002446",
          "LP002447",
          "LP002448",
          "LP002449",
          "LP002453",
          "LP002455",
          "LP002459",
          "LP002467",
          "LP002472",
          "LP002473",
          "LP002478",
          "LP002484",
          "LP002487",
          "LP002489",
          "LP002493",
          "LP002494",
          "LP002500",
          "LP002501",
          "LP002502",
          "LP002505",
          "LP002515",
          "LP002517",
          "LP002519",
          "LP002522",
          "LP002524",
          "LP002527",
          "LP002529",
          "LP002530",
          "LP002531",
          "LP002533",
          "LP002534",
          "LP002536",
          "LP002537",
          "LP002541",
          "LP002543",
          "LP002544",
          "LP002545",
          "LP002547",
          "LP002555",
          "LP002556",
          "LP002560",
          "LP002562",
          "LP002571",
          "LP002582",
          "LP002585",
          "LP002586",
          "LP002587",
          "LP002588",
          "LP002600",
          "LP002602",
          "LP002603",
          "LP002606",
          "LP002615",
          "LP002618",
          "LP002619",
          "LP002622",
          "LP002624",
          "LP002625",
          "LP002626",
          "LP002634",
          "LP002637",
          "LP002640",
          "LP002643",
          "LP002648",
          "LP002652",
          "LP002659",
          "LP002670",
          "LP002682",
          "LP002683",
          "LP002684",
          "LP002689",
          "LP002690",
          "LP002692",
          "LP002693",
          "LP002697",
          "LP002699",
          "LP002705",
          "LP002706",
          "LP002714",
          "LP002716",
          "LP002717",
          "LP002720",
          "LP002723",
          "LP002729",
          "LP002731",
          "LP002732",
          "LP002734",
          "LP002738",
          "LP002739",
          "LP002740",
          "LP002741",
          "LP002743",
          "LP002753",
          "LP002755",
          "LP002757",
          "LP002767",
          "LP002768",
          "LP002772",
          "LP002776",
          "LP002777",
          "LP002778",
          "LP002784",
          "LP002785",
          "LP002788",
          "LP002789",
          "LP002792",
          "LP002794",
          "LP002795",
          "LP002798",
          "LP002804",
          "LP002807",
          "LP002813",
          "LP002820",
          "LP002821",
          "LP002832",
          "LP002833",
          "LP002836",
          "LP002837",
          "LP002840",
          "LP002841",
          "LP002842",
          "LP002847",
          "LP002855",
          "LP002862",
          "LP002863",
          "LP002868",
          "LP002872",
          "LP002874",
          "LP002877",
          "LP002888",
          "LP002892",
          "LP002893",
          "LP002894",
          "LP002898",
          "LP002911",
          "LP002912",
          "LP002916",
          "LP002917",
          "LP002925",
          "LP002926",
          "LP002928",
          "LP002931",
          "LP002933",
          "LP002936",
          "LP002938",
          "LP002940",
          "LP002941",
          "LP002943",
          "LP002945",
          "LP002948",
          "LP002949",
          "LP002950",
          "LP002953",
          "LP002958",
          "LP002959",
          "LP002960",
          "LP002961",
          "LP002964",
          "LP002974",
          "LP002978",
          "LP002979",
          "LP002983",
          "LP002984",
          "LP002990"
         ],
         "xaxis": "x",
         "y": [
          360,
          360,
          360,
          360,
          360,
          360,
          360,
          360,
          360,
          360,
          360,
          360,
          360,
          360,
          120,
          360,
          240,
          360,
          360,
          342,
          360,
          360,
          360,
          360,
          360,
          360,
          360,
          360,
          360,
          360,
          360,
          360,
          360,
          360,
          360,
          360,
          342,
          360,
          360,
          360,
          360,
          360,
          360,
          360,
          342,
          342,
          360,
          360,
          360,
          360,
          360,
          360,
          360,
          360,
          360,
          360,
          360,
          360,
          360,
          360,
          360,
          360,
          180,
          360,
          360,
          360,
          180,
          360,
          60,
          360,
          360,
          360,
          300,
          342,
          360,
          480,
          360,
          360,
          300,
          360,
          360,
          360,
          360,
          360,
          240,
          360,
          360,
          360,
          360,
          360,
          360,
          180,
          360,
          360,
          120,
          360,
          360,
          360,
          180,
          360,
          180,
          360,
          360,
          360,
          360,
          360,
          360,
          360,
          360,
          480,
          360,
          360,
          342,
          360,
          360,
          180,
          360,
          360,
          360,
          360,
          360,
          360,
          360,
          360,
          360,
          360,
          360,
          360,
          180,
          360,
          480,
          360,
          360,
          120,
          360,
          360,
          360,
          360,
          360,
          360,
          360,
          360,
          180,
          360,
          180,
          360,
          360,
          360,
          360,
          360,
          360,
          360,
          360,
          360,
          360,
          180,
          360,
          360,
          360,
          360,
          360,
          360,
          360,
          360,
          180,
          342,
          360,
          360,
          480,
          360,
          360,
          300,
          180,
          360,
          360,
          360,
          360,
          360,
          360,
          480,
          360,
          360,
          180,
          360,
          360,
          360,
          300,
          360,
          360,
          180,
          360,
          360,
          360,
          360,
          360,
          360,
          360,
          342,
          360,
          360,
          360,
          360,
          180,
          360,
          360,
          360,
          360,
          360,
          360,
          360,
          360,
          360,
          360,
          360,
          360,
          360,
          360,
          360,
          360,
          360,
          360,
          360,
          360,
          342,
          360,
          360,
          360,
          360,
          480,
          360,
          360,
          180,
          342,
          360,
          360,
          360,
          360,
          360,
          360,
          360,
          360,
          180,
          60,
          360,
          360,
          180,
          360,
          180,
          480,
          360,
          360,
          360,
          360,
          180,
          360,
          360,
          360,
          360,
          360,
          360,
          360,
          360,
          36,
          360,
          360,
          360,
          360,
          360,
          360,
          360,
          360,
          360,
          360,
          360,
          360,
          360,
          360,
          360,
          360,
          360,
          360,
          360,
          180,
          360,
          360,
          360,
          300,
          360,
          360,
          360,
          360,
          360,
          360,
          480,
          360,
          360,
          360,
          360,
          480,
          360,
          360,
          360,
          360,
          360,
          360,
          360,
          360,
          360,
          360,
          360,
          360,
          360,
          360,
          84,
          360,
          180,
          360,
          360,
          360,
          360,
          360,
          360,
          360,
          360,
          360,
          360,
          360,
          360,
          360,
          360,
          360,
          360,
          360,
          180,
          180,
          342,
          360,
          360,
          360,
          360,
          360,
          360,
          360,
          360,
          360,
          360,
          360,
          360,
          360,
          360,
          360,
          360,
          360,
          360,
          360,
          180,
          360,
          360,
          480,
          360,
          360,
          360,
          360,
          300,
          360,
          360,
          480,
          342,
          360,
          360,
          360,
          360,
          300,
          180,
          360,
          180,
          360,
          360,
          480,
          360,
          360,
          360,
          360,
          360,
          360,
          180,
          360,
          360,
          360,
          360,
          360,
          360,
          360,
          180,
          360,
          360,
          360,
          360,
          360,
          360,
          180,
          300,
          360,
          360,
          360,
          360,
          360,
          360,
          300,
          360,
          360,
          360,
          360,
          360,
          360,
          360,
          360,
          360,
          360,
          360,
          360,
          342,
          360,
          342,
          360,
          360,
          360,
          360,
          360,
          180,
          360,
          360,
          360,
          360,
          360,
          240,
          360,
          360,
          360,
          360,
          360,
          360,
          360,
          360,
          300,
          360,
          360,
          360,
          360,
          360,
          360,
          300,
          360,
          180,
          360,
          360,
          360,
          360,
          360,
          360,
          360,
          180,
          360,
          360,
          360,
          360,
          180,
          360,
          360,
          360,
          360,
          180,
          360,
          360,
          360,
          360,
          300,
          360,
          360,
          360,
          360,
          360,
          360,
          360,
          360,
          360,
          360,
          360,
          360,
          360,
          360,
          360,
          360,
          360,
          360,
          84,
          360,
          12,
          360,
          360,
          480,
          360,
          360,
          360,
          300,
          360,
          360,
          360,
          360,
          360,
          360,
          360,
          360,
          180,
          360,
          360,
          480,
          360,
          360,
          360,
          360,
          360,
          360,
          360,
          360,
          360,
          360,
          360,
          360,
          360,
          360,
          360,
          360,
          360,
          360,
          360,
          360,
          360,
          360,
          180,
          180,
          360,
          360,
          360,
          360,
          360,
          36,
          360,
          360,
          360,
          360,
          360,
          360,
          360,
          180,
          360,
          360,
          360,
          360,
          360,
          360,
          360,
          360,
          360,
          360,
          360,
          360,
          360,
          360,
          360,
          360,
          360,
          360,
          480,
          360,
          84,
          360,
          360,
          360,
          360,
          360,
          360,
          360,
          360,
          360,
          84,
          360,
          360,
          360,
          360,
          180,
          240,
          360,
          180,
          360,
          360,
          360,
          360,
          360,
          360,
          180,
          360,
          360,
          360,
          360,
          180,
          360,
          360,
          360,
          360,
          180,
          360,
          360,
          360
         ],
         "yaxis": "y"
        }
       ],
       "layout": {
        "legend": {
         "tracegroupgap": 0
        },
        "margin": {
         "t": 60
        },
        "template": {
         "data": {
          "bar": [
           {
            "error_x": {
             "color": "#2a3f5f"
            },
            "error_y": {
             "color": "#2a3f5f"
            },
            "marker": {
             "line": {
              "color": "#E5ECF6",
              "width": 0.5
             },
             "pattern": {
              "fillmode": "overlay",
              "size": 10,
              "solidity": 0.2
             }
            },
            "type": "bar"
           }
          ],
          "barpolar": [
           {
            "marker": {
             "line": {
              "color": "#E5ECF6",
              "width": 0.5
             },
             "pattern": {
              "fillmode": "overlay",
              "size": 10,
              "solidity": 0.2
             }
            },
            "type": "barpolar"
           }
          ],
          "carpet": [
           {
            "aaxis": {
             "endlinecolor": "#2a3f5f",
             "gridcolor": "white",
             "linecolor": "white",
             "minorgridcolor": "white",
             "startlinecolor": "#2a3f5f"
            },
            "baxis": {
             "endlinecolor": "#2a3f5f",
             "gridcolor": "white",
             "linecolor": "white",
             "minorgridcolor": "white",
             "startlinecolor": "#2a3f5f"
            },
            "type": "carpet"
           }
          ],
          "choropleth": [
           {
            "colorbar": {
             "outlinewidth": 0,
             "ticks": ""
            },
            "type": "choropleth"
           }
          ],
          "contour": [
           {
            "colorbar": {
             "outlinewidth": 0,
             "ticks": ""
            },
            "colorscale": [
             [
              0,
              "#0d0887"
             ],
             [
              0.1111111111111111,
              "#46039f"
             ],
             [
              0.2222222222222222,
              "#7201a8"
             ],
             [
              0.3333333333333333,
              "#9c179e"
             ],
             [
              0.4444444444444444,
              "#bd3786"
             ],
             [
              0.5555555555555556,
              "#d8576b"
             ],
             [
              0.6666666666666666,
              "#ed7953"
             ],
             [
              0.7777777777777778,
              "#fb9f3a"
             ],
             [
              0.8888888888888888,
              "#fdca26"
             ],
             [
              1,
              "#f0f921"
             ]
            ],
            "type": "contour"
           }
          ],
          "contourcarpet": [
           {
            "colorbar": {
             "outlinewidth": 0,
             "ticks": ""
            },
            "type": "contourcarpet"
           }
          ],
          "heatmap": [
           {
            "colorbar": {
             "outlinewidth": 0,
             "ticks": ""
            },
            "colorscale": [
             [
              0,
              "#0d0887"
             ],
             [
              0.1111111111111111,
              "#46039f"
             ],
             [
              0.2222222222222222,
              "#7201a8"
             ],
             [
              0.3333333333333333,
              "#9c179e"
             ],
             [
              0.4444444444444444,
              "#bd3786"
             ],
             [
              0.5555555555555556,
              "#d8576b"
             ],
             [
              0.6666666666666666,
              "#ed7953"
             ],
             [
              0.7777777777777778,
              "#fb9f3a"
             ],
             [
              0.8888888888888888,
              "#fdca26"
             ],
             [
              1,
              "#f0f921"
             ]
            ],
            "type": "heatmap"
           }
          ],
          "heatmapgl": [
           {
            "colorbar": {
             "outlinewidth": 0,
             "ticks": ""
            },
            "colorscale": [
             [
              0,
              "#0d0887"
             ],
             [
              0.1111111111111111,
              "#46039f"
             ],
             [
              0.2222222222222222,
              "#7201a8"
             ],
             [
              0.3333333333333333,
              "#9c179e"
             ],
             [
              0.4444444444444444,
              "#bd3786"
             ],
             [
              0.5555555555555556,
              "#d8576b"
             ],
             [
              0.6666666666666666,
              "#ed7953"
             ],
             [
              0.7777777777777778,
              "#fb9f3a"
             ],
             [
              0.8888888888888888,
              "#fdca26"
             ],
             [
              1,
              "#f0f921"
             ]
            ],
            "type": "heatmapgl"
           }
          ],
          "histogram": [
           {
            "marker": {
             "pattern": {
              "fillmode": "overlay",
              "size": 10,
              "solidity": 0.2
             }
            },
            "type": "histogram"
           }
          ],
          "histogram2d": [
           {
            "colorbar": {
             "outlinewidth": 0,
             "ticks": ""
            },
            "colorscale": [
             [
              0,
              "#0d0887"
             ],
             [
              0.1111111111111111,
              "#46039f"
             ],
             [
              0.2222222222222222,
              "#7201a8"
             ],
             [
              0.3333333333333333,
              "#9c179e"
             ],
             [
              0.4444444444444444,
              "#bd3786"
             ],
             [
              0.5555555555555556,
              "#d8576b"
             ],
             [
              0.6666666666666666,
              "#ed7953"
             ],
             [
              0.7777777777777778,
              "#fb9f3a"
             ],
             [
              0.8888888888888888,
              "#fdca26"
             ],
             [
              1,
              "#f0f921"
             ]
            ],
            "type": "histogram2d"
           }
          ],
          "histogram2dcontour": [
           {
            "colorbar": {
             "outlinewidth": 0,
             "ticks": ""
            },
            "colorscale": [
             [
              0,
              "#0d0887"
             ],
             [
              0.1111111111111111,
              "#46039f"
             ],
             [
              0.2222222222222222,
              "#7201a8"
             ],
             [
              0.3333333333333333,
              "#9c179e"
             ],
             [
              0.4444444444444444,
              "#bd3786"
             ],
             [
              0.5555555555555556,
              "#d8576b"
             ],
             [
              0.6666666666666666,
              "#ed7953"
             ],
             [
              0.7777777777777778,
              "#fb9f3a"
             ],
             [
              0.8888888888888888,
              "#fdca26"
             ],
             [
              1,
              "#f0f921"
             ]
            ],
            "type": "histogram2dcontour"
           }
          ],
          "mesh3d": [
           {
            "colorbar": {
             "outlinewidth": 0,
             "ticks": ""
            },
            "type": "mesh3d"
           }
          ],
          "parcoords": [
           {
            "line": {
             "colorbar": {
              "outlinewidth": 0,
              "ticks": ""
             }
            },
            "type": "parcoords"
           }
          ],
          "pie": [
           {
            "automargin": true,
            "type": "pie"
           }
          ],
          "scatter": [
           {
            "fillpattern": {
             "fillmode": "overlay",
             "size": 10,
             "solidity": 0.2
            },
            "type": "scatter"
           }
          ],
          "scatter3d": [
           {
            "line": {
             "colorbar": {
              "outlinewidth": 0,
              "ticks": ""
             }
            },
            "marker": {
             "colorbar": {
              "outlinewidth": 0,
              "ticks": ""
             }
            },
            "type": "scatter3d"
           }
          ],
          "scattercarpet": [
           {
            "marker": {
             "colorbar": {
              "outlinewidth": 0,
              "ticks": ""
             }
            },
            "type": "scattercarpet"
           }
          ],
          "scattergeo": [
           {
            "marker": {
             "colorbar": {
              "outlinewidth": 0,
              "ticks": ""
             }
            },
            "type": "scattergeo"
           }
          ],
          "scattergl": [
           {
            "marker": {
             "colorbar": {
              "outlinewidth": 0,
              "ticks": ""
             }
            },
            "type": "scattergl"
           }
          ],
          "scattermapbox": [
           {
            "marker": {
             "colorbar": {
              "outlinewidth": 0,
              "ticks": ""
             }
            },
            "type": "scattermapbox"
           }
          ],
          "scatterpolar": [
           {
            "marker": {
             "colorbar": {
              "outlinewidth": 0,
              "ticks": ""
             }
            },
            "type": "scatterpolar"
           }
          ],
          "scatterpolargl": [
           {
            "marker": {
             "colorbar": {
              "outlinewidth": 0,
              "ticks": ""
             }
            },
            "type": "scatterpolargl"
           }
          ],
          "scatterternary": [
           {
            "marker": {
             "colorbar": {
              "outlinewidth": 0,
              "ticks": ""
             }
            },
            "type": "scatterternary"
           }
          ],
          "surface": [
           {
            "colorbar": {
             "outlinewidth": 0,
             "ticks": ""
            },
            "colorscale": [
             [
              0,
              "#0d0887"
             ],
             [
              0.1111111111111111,
              "#46039f"
             ],
             [
              0.2222222222222222,
              "#7201a8"
             ],
             [
              0.3333333333333333,
              "#9c179e"
             ],
             [
              0.4444444444444444,
              "#bd3786"
             ],
             [
              0.5555555555555556,
              "#d8576b"
             ],
             [
              0.6666666666666666,
              "#ed7953"
             ],
             [
              0.7777777777777778,
              "#fb9f3a"
             ],
             [
              0.8888888888888888,
              "#fdca26"
             ],
             [
              1,
              "#f0f921"
             ]
            ],
            "type": "surface"
           }
          ],
          "table": [
           {
            "cells": {
             "fill": {
              "color": "#EBF0F8"
             },
             "line": {
              "color": "white"
             }
            },
            "header": {
             "fill": {
              "color": "#C8D4E3"
             },
             "line": {
              "color": "white"
             }
            },
            "type": "table"
           }
          ]
         },
         "layout": {
          "annotationdefaults": {
           "arrowcolor": "#2a3f5f",
           "arrowhead": 0,
           "arrowwidth": 1
          },
          "autotypenumbers": "strict",
          "coloraxis": {
           "colorbar": {
            "outlinewidth": 0,
            "ticks": ""
           }
          },
          "colorscale": {
           "diverging": [
            [
             0,
             "#8e0152"
            ],
            [
             0.1,
             "#c51b7d"
            ],
            [
             0.2,
             "#de77ae"
            ],
            [
             0.3,
             "#f1b6da"
            ],
            [
             0.4,
             "#fde0ef"
            ],
            [
             0.5,
             "#f7f7f7"
            ],
            [
             0.6,
             "#e6f5d0"
            ],
            [
             0.7,
             "#b8e186"
            ],
            [
             0.8,
             "#7fbc41"
            ],
            [
             0.9,
             "#4d9221"
            ],
            [
             1,
             "#276419"
            ]
           ],
           "sequential": [
            [
             0,
             "#0d0887"
            ],
            [
             0.1111111111111111,
             "#46039f"
            ],
            [
             0.2222222222222222,
             "#7201a8"
            ],
            [
             0.3333333333333333,
             "#9c179e"
            ],
            [
             0.4444444444444444,
             "#bd3786"
            ],
            [
             0.5555555555555556,
             "#d8576b"
            ],
            [
             0.6666666666666666,
             "#ed7953"
            ],
            [
             0.7777777777777778,
             "#fb9f3a"
            ],
            [
             0.8888888888888888,
             "#fdca26"
            ],
            [
             1,
             "#f0f921"
            ]
           ],
           "sequentialminus": [
            [
             0,
             "#0d0887"
            ],
            [
             0.1111111111111111,
             "#46039f"
            ],
            [
             0.2222222222222222,
             "#7201a8"
            ],
            [
             0.3333333333333333,
             "#9c179e"
            ],
            [
             0.4444444444444444,
             "#bd3786"
            ],
            [
             0.5555555555555556,
             "#d8576b"
            ],
            [
             0.6666666666666666,
             "#ed7953"
            ],
            [
             0.7777777777777778,
             "#fb9f3a"
            ],
            [
             0.8888888888888888,
             "#fdca26"
            ],
            [
             1,
             "#f0f921"
            ]
           ]
          },
          "colorway": [
           "#636efa",
           "#EF553B",
           "#00cc96",
           "#ab63fa",
           "#FFA15A",
           "#19d3f3",
           "#FF6692",
           "#B6E880",
           "#FF97FF",
           "#FECB52"
          ],
          "font": {
           "color": "#2a3f5f"
          },
          "geo": {
           "bgcolor": "white",
           "lakecolor": "white",
           "landcolor": "#E5ECF6",
           "showlakes": true,
           "showland": true,
           "subunitcolor": "white"
          },
          "hoverlabel": {
           "align": "left"
          },
          "hovermode": "closest",
          "mapbox": {
           "style": "light"
          },
          "paper_bgcolor": "white",
          "plot_bgcolor": "#E5ECF6",
          "polar": {
           "angularaxis": {
            "gridcolor": "white",
            "linecolor": "white",
            "ticks": ""
           },
           "bgcolor": "#E5ECF6",
           "radialaxis": {
            "gridcolor": "white",
            "linecolor": "white",
            "ticks": ""
           }
          },
          "scene": {
           "xaxis": {
            "backgroundcolor": "#E5ECF6",
            "gridcolor": "white",
            "gridwidth": 2,
            "linecolor": "white",
            "showbackground": true,
            "ticks": "",
            "zerolinecolor": "white"
           },
           "yaxis": {
            "backgroundcolor": "#E5ECF6",
            "gridcolor": "white",
            "gridwidth": 2,
            "linecolor": "white",
            "showbackground": true,
            "ticks": "",
            "zerolinecolor": "white"
           },
           "zaxis": {
            "backgroundcolor": "#E5ECF6",
            "gridcolor": "white",
            "gridwidth": 2,
            "linecolor": "white",
            "showbackground": true,
            "ticks": "",
            "zerolinecolor": "white"
           }
          },
          "shapedefaults": {
           "line": {
            "color": "#2a3f5f"
           }
          },
          "ternary": {
           "aaxis": {
            "gridcolor": "white",
            "linecolor": "white",
            "ticks": ""
           },
           "baxis": {
            "gridcolor": "white",
            "linecolor": "white",
            "ticks": ""
           },
           "bgcolor": "#E5ECF6",
           "caxis": {
            "gridcolor": "white",
            "linecolor": "white",
            "ticks": ""
           }
          },
          "title": {
           "x": 0.05
          },
          "xaxis": {
           "automargin": true,
           "gridcolor": "white",
           "linecolor": "white",
           "ticks": "",
           "title": {
            "standoff": 15
           },
           "zerolinecolor": "white",
           "zerolinewidth": 2
          },
          "yaxis": {
           "automargin": true,
           "gridcolor": "white",
           "linecolor": "white",
           "ticks": "",
           "title": {
            "standoff": 15
           },
           "zerolinecolor": "white",
           "zerolinewidth": 2
          }
         }
        },
        "xaxis": {
         "anchor": "y",
         "domain": [
          0,
          1
         ],
         "title": {
          "text": "Loan_ID"
         }
        },
        "yaxis": {
         "anchor": "x",
         "domain": [
          0,
          1
         ],
         "title": {
          "text": "Loan_Amount_Term"
         }
        }
       }
      }
     },
     "metadata": {},
     "output_type": "display_data"
    }
   ],
   "source": [
    "loan_line = px.line(loan_data, x= 'Loan_ID', y='Loan_Amount_Term')\n",
    "loan_line.show()"
   ]
  },
  {
   "cell_type": "code",
   "execution_count": 77,
   "metadata": {},
   "outputs": [
    {
     "data": {
      "text/plain": [
       "Index(['Loan_ID', 'Gender', 'Married', 'Dependents', 'Education',\n",
       "       'Self_Employed', 'ApplicantIncome', 'CoapplicantIncome', 'LoanAmount',\n",
       "       'Loan_Amount_Term', 'Credit_History', 'Property_Area', 'Loan_Status'],\n",
       "      dtype='object')"
      ]
     },
     "execution_count": 77,
     "metadata": {},
     "output_type": "execute_result"
    }
   ],
   "source": [
    "loan_data.columns"
   ]
  },
  {
   "cell_type": "code",
   "execution_count": 83,
   "metadata": {},
   "outputs": [
    {
     "data": {
      "application/vnd.plotly.v1+json": {
       "config": {
        "plotlyServerURL": "https://plot.ly"
       },
       "data": [
        {
         "alignmentgroup": "True",
         "bingroup": "x",
         "hovertemplate": "LoanAmount=%{x}<br>count=%{y}<extra></extra>",
         "legendgroup": "120.0",
         "marker": {
          "color": "#EF553B",
          "pattern": {
           "shape": ""
          }
         },
         "name": "120.0",
         "offsetgroup": "120.0",
         "orientation": "v",
         "showlegend": true,
         "type": "histogram",
         "x": [
          120,
          120,
          120,
          120,
          120,
          120,
          120,
          120,
          120,
          120,
          120,
          120,
          120,
          120,
          120,
          120,
          120,
          120,
          120,
          120,
          120
         ],
         "xaxis": "x",
         "yaxis": "y"
        },
        {
         "alignmentgroup": "True",
         "bingroup": "x",
         "hovertemplate": "LoanAmount=%{x}<br>count=%{y}<extra></extra>",
         "legendgroup": "128.0",
         "marker": {
          "color": "#00cc96",
          "pattern": {
           "shape": ""
          }
         },
         "name": "128.0",
         "offsetgroup": "128.0",
         "orientation": "v",
         "showlegend": true,
         "type": "histogram",
         "x": [
          128,
          128,
          128,
          128,
          128,
          128,
          128,
          128,
          128,
          128,
          128
         ],
         "xaxis": "x",
         "yaxis": "y"
        },
        {
         "alignmentgroup": "True",
         "bingroup": "x",
         "hovertemplate": "LoanAmount=%{x}<br>count=%{y}<extra></extra>",
         "legendgroup": "66.0",
         "marker": {
          "color": "#ab63fa",
          "pattern": {
           "shape": ""
          }
         },
         "name": "66.0",
         "offsetgroup": "66.0",
         "orientation": "v",
         "showlegend": true,
         "type": "histogram",
         "x": [
          66,
          66,
          66,
          66
         ],
         "xaxis": "x",
         "yaxis": "y"
        },
        {
         "alignmentgroup": "True",
         "bingroup": "x",
         "hovertemplate": "LoanAmount=%{x}<br>count=%{y}<extra></extra>",
         "legendgroup": "141.0",
         "marker": {
          "color": "#FFA15A",
          "pattern": {
           "shape": ""
          }
         },
         "name": "141.0",
         "offsetgroup": "141.0",
         "orientation": "v",
         "showlegend": true,
         "type": "histogram",
         "x": [
          141,
          141
         ],
         "xaxis": "x",
         "yaxis": "y"
        },
        {
         "alignmentgroup": "True",
         "bingroup": "x",
         "hovertemplate": "LoanAmount=%{x}<br>count=%{y}<extra></extra>",
         "legendgroup": "267.0",
         "marker": {
          "color": "#19d3f3",
          "pattern": {
           "shape": ""
          }
         },
         "name": "267.0",
         "offsetgroup": "267.0",
         "orientation": "v",
         "showlegend": true,
         "type": "histogram",
         "x": [
          267
         ],
         "xaxis": "x",
         "yaxis": "y"
        },
        {
         "alignmentgroup": "True",
         "bingroup": "x",
         "hovertemplate": "LoanAmount=%{x}<br>count=%{y}<extra></extra>",
         "legendgroup": "95.0",
         "marker": {
          "color": "#FF6692",
          "pattern": {
           "shape": ""
          }
         },
         "name": "95.0",
         "offsetgroup": "95.0",
         "orientation": "v",
         "showlegend": true,
         "type": "histogram",
         "x": [
          95,
          95,
          95,
          95,
          95,
          95,
          95,
          95,
          95
         ],
         "xaxis": "x",
         "yaxis": "y"
        },
        {
         "alignmentgroup": "True",
         "bingroup": "x",
         "hovertemplate": "LoanAmount=%{x}<br>count=%{y}<extra></extra>",
         "legendgroup": "158.0",
         "marker": {
          "color": "#B6E880",
          "pattern": {
           "shape": ""
          }
         },
         "name": "158.0",
         "offsetgroup": "158.0",
         "orientation": "v",
         "showlegend": true,
         "type": "histogram",
         "x": [
          158,
          158,
          158,
          158,
          158,
          158
         ],
         "xaxis": "x",
         "yaxis": "y"
        },
        {
         "alignmentgroup": "True",
         "bingroup": "x",
         "hovertemplate": "LoanAmount=%{x}<br>count=%{y}<extra></extra>",
         "legendgroup": "168.0",
         "marker": {
          "color": "#FF97FF",
          "pattern": {
           "shape": ""
          }
         },
         "name": "168.0",
         "offsetgroup": "168.0",
         "orientation": "v",
         "showlegend": true,
         "type": "histogram",
         "x": [
          168,
          168,
          168
         ],
         "xaxis": "x",
         "yaxis": "y"
        },
        {
         "alignmentgroup": "True",
         "bingroup": "x",
         "hovertemplate": "LoanAmount=%{x}<br>count=%{y}<extra></extra>",
         "legendgroup": "349.0",
         "marker": {
          "color": "#FECB52",
          "pattern": {
           "shape": ""
          }
         },
         "name": "349.0",
         "offsetgroup": "349.0",
         "orientation": "v",
         "showlegend": true,
         "type": "histogram",
         "x": [
          349
         ],
         "xaxis": "x",
         "yaxis": "y"
        },
        {
         "alignmentgroup": "True",
         "bingroup": "x",
         "hovertemplate": "LoanAmount=%{x}<br>count=%{y}<extra></extra>",
         "legendgroup": "70.0",
         "marker": {
          "color": "#636efa",
          "pattern": {
           "shape": ""
          }
         },
         "name": "70.0",
         "offsetgroup": "70.0",
         "orientation": "v",
         "showlegend": true,
         "type": "histogram",
         "x": [
          70,
          70,
          70,
          70,
          70,
          70,
          70,
          70
         ],
         "xaxis": "x",
         "yaxis": "y"
        },
        {
         "alignmentgroup": "True",
         "bingroup": "x",
         "hovertemplate": "LoanAmount=%{x}<br>count=%{y}<extra></extra>",
         "legendgroup": "109.0",
         "marker": {
          "color": "#EF553B",
          "pattern": {
           "shape": ""
          }
         },
         "name": "109.0",
         "offsetgroup": "109.0",
         "orientation": "v",
         "showlegend": true,
         "type": "histogram",
         "x": [
          109,
          109
         ],
         "xaxis": "x",
         "yaxis": "y"
        },
        {
         "alignmentgroup": "True",
         "bingroup": "x",
         "hovertemplate": "LoanAmount=%{x}<br>count=%{y}<extra></extra>",
         "legendgroup": "200.0",
         "marker": {
          "color": "#00cc96",
          "pattern": {
           "shape": ""
          }
         },
         "name": "200.0",
         "offsetgroup": "200.0",
         "orientation": "v",
         "showlegend": true,
         "type": "histogram",
         "x": [
          200,
          200,
          200,
          200,
          200
         ],
         "xaxis": "x",
         "yaxis": "y"
        },
        {
         "alignmentgroup": "True",
         "bingroup": "x",
         "hovertemplate": "LoanAmount=%{x}<br>count=%{y}<extra></extra>",
         "legendgroup": "114.0",
         "marker": {
          "color": "#ab63fa",
          "pattern": {
           "shape": ""
          }
         },
         "name": "114.0",
         "offsetgroup": "114.0",
         "orientation": "v",
         "showlegend": true,
         "type": "histogram",
         "x": [
          114,
          114
         ],
         "xaxis": "x",
         "yaxis": "y"
        },
        {
         "alignmentgroup": "True",
         "bingroup": "x",
         "hovertemplate": "LoanAmount=%{x}<br>count=%{y}<extra></extra>",
         "legendgroup": "17.0",
         "marker": {
          "color": "#FFA15A",
          "pattern": {
           "shape": ""
          }
         },
         "name": "17.0",
         "offsetgroup": "17.0",
         "orientation": "v",
         "showlegend": true,
         "type": "histogram",
         "x": [
          17
         ],
         "xaxis": "x",
         "yaxis": "y"
        },
        {
         "alignmentgroup": "True",
         "bingroup": "x",
         "hovertemplate": "LoanAmount=%{x}<br>count=%{y}<extra></extra>",
         "legendgroup": "125.0",
         "marker": {
          "color": "#19d3f3",
          "pattern": {
           "shape": ""
          }
         },
         "name": "125.0",
         "offsetgroup": "125.0",
         "orientation": "v",
         "showlegend": true,
         "type": "histogram",
         "x": [
          125,
          125,
          125,
          125,
          125,
          125,
          125
         ],
         "xaxis": "x",
         "yaxis": "y"
        },
        {
         "alignmentgroup": "True",
         "bingroup": "x",
         "hovertemplate": "LoanAmount=%{x}<br>count=%{y}<extra></extra>",
         "legendgroup": "100.0",
         "marker": {
          "color": "#FF6692",
          "pattern": {
           "shape": ""
          }
         },
         "name": "100.0",
         "offsetgroup": "100.0",
         "orientation": "v",
         "showlegend": true,
         "type": "histogram",
         "x": [
          100,
          100,
          100,
          100,
          100,
          100,
          100,
          100,
          100,
          100,
          100,
          100,
          100,
          100,
          100
         ],
         "xaxis": "x",
         "yaxis": "y"
        },
        {
         "alignmentgroup": "True",
         "bingroup": "x",
         "hovertemplate": "LoanAmount=%{x}<br>count=%{y}<extra></extra>",
         "legendgroup": "76.0",
         "marker": {
          "color": "#B6E880",
          "pattern": {
           "shape": ""
          }
         },
         "name": "76.0",
         "offsetgroup": "76.0",
         "orientation": "v",
         "showlegend": true,
         "type": "histogram",
         "x": [
          76,
          76
         ],
         "xaxis": "x",
         "yaxis": "y"
        },
        {
         "alignmentgroup": "True",
         "bingroup": "x",
         "hovertemplate": "LoanAmount=%{x}<br>count=%{y}<extra></extra>",
         "legendgroup": "133.0",
         "marker": {
          "color": "#FF97FF",
          "pattern": {
           "shape": ""
          }
         },
         "name": "133.0",
         "offsetgroup": "133.0",
         "orientation": "v",
         "showlegend": true,
         "type": "histogram",
         "x": [
          133,
          133,
          133,
          133,
          133
         ],
         "xaxis": "x",
         "yaxis": "y"
        },
        {
         "alignmentgroup": "True",
         "bingroup": "x",
         "hovertemplate": "LoanAmount=%{x}<br>count=%{y}<extra></extra>",
         "legendgroup": "115.0",
         "marker": {
          "color": "#FECB52",
          "pattern": {
           "shape": ""
          }
         },
         "name": "115.0",
         "offsetgroup": "115.0",
         "orientation": "v",
         "showlegend": true,
         "type": "histogram",
         "x": [
          115,
          115,
          115,
          115,
          115,
          115,
          115,
          115
         ],
         "xaxis": "x",
         "yaxis": "y"
        },
        {
         "alignmentgroup": "True",
         "bingroup": "x",
         "hovertemplate": "LoanAmount=%{x}<br>count=%{y}<extra></extra>",
         "legendgroup": "104.0",
         "marker": {
          "color": "#636efa",
          "pattern": {
           "shape": ""
          }
         },
         "name": "104.0",
         "offsetgroup": "104.0",
         "orientation": "v",
         "showlegend": true,
         "type": "histogram",
         "x": [
          104,
          104,
          104,
          104,
          104,
          104,
          104
         ],
         "xaxis": "x",
         "yaxis": "y"
        },
        {
         "alignmentgroup": "True",
         "bingroup": "x",
         "hovertemplate": "LoanAmount=%{x}<br>count=%{y}<extra></extra>",
         "legendgroup": "315.0",
         "marker": {
          "color": "#EF553B",
          "pattern": {
           "shape": ""
          }
         },
         "name": "315.0",
         "offsetgroup": "315.0",
         "orientation": "v",
         "showlegend": true,
         "type": "histogram",
         "x": [
          315
         ],
         "xaxis": "x",
         "yaxis": "y"
        },
        {
         "alignmentgroup": "True",
         "bingroup": "x",
         "hovertemplate": "LoanAmount=%{x}<br>count=%{y}<extra></extra>",
         "legendgroup": "116.0",
         "marker": {
          "color": "#00cc96",
          "pattern": {
           "shape": ""
          }
         },
         "name": "116.0",
         "offsetgroup": "116.0",
         "orientation": "v",
         "showlegend": true,
         "type": "histogram",
         "x": [
          116,
          116,
          116,
          116,
          116,
          116
         ],
         "xaxis": "x",
         "yaxis": "y"
        },
        {
         "alignmentgroup": "True",
         "bingroup": "x",
         "hovertemplate": "LoanAmount=%{x}<br>count=%{y}<extra></extra>",
         "legendgroup": "112.0",
         "marker": {
          "color": "#ab63fa",
          "pattern": {
           "shape": ""
          }
         },
         "name": "112.0",
         "offsetgroup": "112.0",
         "orientation": "v",
         "showlegend": true,
         "type": "histogram",
         "x": [
          112,
          112,
          112,
          112,
          112,
          112,
          112,
          112
         ],
         "xaxis": "x",
         "yaxis": "y"
        },
        {
         "alignmentgroup": "True",
         "bingroup": "x",
         "hovertemplate": "LoanAmount=%{x}<br>count=%{y}<extra></extra>",
         "legendgroup": "151.0",
         "marker": {
          "color": "#FFA15A",
          "pattern": {
           "shape": ""
          }
         },
         "name": "151.0",
         "offsetgroup": "151.0",
         "orientation": "v",
         "showlegend": true,
         "type": "histogram",
         "x": [
          151,
          151,
          151,
          151
         ],
         "xaxis": "x",
         "yaxis": "y"
        },
        {
         "alignmentgroup": "True",
         "bingroup": "x",
         "hovertemplate": "LoanAmount=%{x}<br>count=%{y}<extra></extra>",
         "legendgroup": "191.0",
         "marker": {
          "color": "#19d3f3",
          "pattern": {
           "shape": ""
          }
         },
         "name": "191.0",
         "offsetgroup": "191.0",
         "orientation": "v",
         "showlegend": true,
         "type": "histogram",
         "x": [
          191
         ],
         "xaxis": "x",
         "yaxis": "y"
        },
        {
         "alignmentgroup": "True",
         "bingroup": "x",
         "hovertemplate": "LoanAmount=%{x}<br>count=%{y}<extra></extra>",
         "legendgroup": "122.0",
         "marker": {
          "color": "#FF6692",
          "pattern": {
           "shape": ""
          }
         },
         "name": "122.0",
         "offsetgroup": "122.0",
         "orientation": "v",
         "showlegend": true,
         "type": "histogram",
         "x": [
          122,
          122,
          122,
          122
         ],
         "xaxis": "x",
         "yaxis": "y"
        },
        {
         "alignmentgroup": "True",
         "bingroup": "x",
         "hovertemplate": "LoanAmount=%{x}<br>count=%{y}<extra></extra>",
         "legendgroup": "110.0",
         "marker": {
          "color": "#B6E880",
          "pattern": {
           "shape": ""
          }
         },
         "name": "110.0",
         "offsetgroup": "110.0",
         "orientation": "v",
         "showlegend": true,
         "type": "histogram",
         "x": [
          110,
          110,
          110,
          110,
          110,
          110,
          110,
          110,
          110,
          110,
          110,
          110,
          110,
          110,
          110,
          110,
          110
         ],
         "xaxis": "x",
         "yaxis": "y"
        },
        {
         "alignmentgroup": "True",
         "bingroup": "x",
         "hovertemplate": "LoanAmount=%{x}<br>count=%{y}<extra></extra>",
         "legendgroup": "35.0",
         "marker": {
          "color": "#FF97FF",
          "pattern": {
           "shape": ""
          }
         },
         "name": "35.0",
         "offsetgroup": "35.0",
         "orientation": "v",
         "showlegend": true,
         "type": "histogram",
         "x": [
          35
         ],
         "xaxis": "x",
         "yaxis": "y"
        },
        {
         "alignmentgroup": "True",
         "bingroup": "x",
         "hovertemplate": "LoanAmount=%{x}<br>count=%{y}<extra></extra>",
         "legendgroup": "201.0",
         "marker": {
          "color": "#FECB52",
          "pattern": {
           "shape": ""
          }
         },
         "name": "201.0",
         "offsetgroup": "201.0",
         "orientation": "v",
         "showlegend": true,
         "type": "histogram",
         "x": [
          201,
          201
         ],
         "xaxis": "x",
         "yaxis": "y"
        },
        {
         "alignmentgroup": "True",
         "bingroup": "x",
         "hovertemplate": "LoanAmount=%{x}<br>count=%{y}<extra></extra>",
         "legendgroup": "74.0",
         "marker": {
          "color": "#636efa",
          "pattern": {
           "shape": ""
          }
         },
         "name": "74.0",
         "offsetgroup": "74.0",
         "orientation": "v",
         "showlegend": true,
         "type": "histogram",
         "x": [
          74,
          74,
          74
         ],
         "xaxis": "x",
         "yaxis": "y"
        },
        {
         "alignmentgroup": "True",
         "bingroup": "x",
         "hovertemplate": "LoanAmount=%{x}<br>count=%{y}<extra></extra>",
         "legendgroup": "106.0",
         "marker": {
          "color": "#EF553B",
          "pattern": {
           "shape": ""
          }
         },
         "name": "106.0",
         "offsetgroup": "106.0",
         "orientation": "v",
         "showlegend": true,
         "type": "histogram",
         "x": [
          106,
          106
         ],
         "xaxis": "x",
         "yaxis": "y"
        },
        {
         "alignmentgroup": "True",
         "bingroup": "x",
         "hovertemplate": "LoanAmount=%{x}<br>count=%{y}<extra></extra>",
         "legendgroup": "320.0",
         "marker": {
          "color": "#00cc96",
          "pattern": {
           "shape": ""
          }
         },
         "name": "320.0",
         "offsetgroup": "320.0",
         "orientation": "v",
         "showlegend": true,
         "type": "histogram",
         "x": [
          320
         ],
         "xaxis": "x",
         "yaxis": "y"
        },
        {
         "alignmentgroup": "True",
         "bingroup": "x",
         "hovertemplate": "LoanAmount=%{x}<br>count=%{y}<extra></extra>",
         "legendgroup": "146.36762225969645",
         "marker": {
          "color": "#ab63fa",
          "pattern": {
           "shape": ""
          }
         },
         "name": "146.36762225969645",
         "offsetgroup": "146.36762225969645",
         "orientation": "v",
         "showlegend": true,
         "type": "histogram",
         "x": [
          146.36762225969645,
          146.36762225969645,
          146.36762225969645,
          146.36762225969645,
          146.36762225969645,
          146.36762225969645,
          146.36762225969645,
          146.36762225969645,
          146.36762225969645,
          146.36762225969645,
          146.36762225969645,
          146.36762225969645,
          146.36762225969645,
          146.36762225969645,
          146.36762225969645,
          146.36762225969645,
          146.36762225969645,
          146.36762225969645,
          146.36762225969645,
          146.36762225969645,
          146.36762225969645
         ],
         "xaxis": "x",
         "yaxis": "y"
        },
        {
         "alignmentgroup": "True",
         "bingroup": "x",
         "hovertemplate": "LoanAmount=%{x}<br>count=%{y}<extra></extra>",
         "legendgroup": "144.0",
         "marker": {
          "color": "#FFA15A",
          "pattern": {
           "shape": ""
          }
         },
         "name": "144.0",
         "offsetgroup": "144.0",
         "orientation": "v",
         "showlegend": true,
         "type": "histogram",
         "x": [
          144,
          144,
          144,
          144,
          144,
          144
         ],
         "xaxis": "x",
         "yaxis": "y"
        },
        {
         "alignmentgroup": "True",
         "bingroup": "x",
         "hovertemplate": "LoanAmount=%{x}<br>count=%{y}<extra></extra>",
         "legendgroup": "184.0",
         "marker": {
          "color": "#19d3f3",
          "pattern": {
           "shape": ""
          }
         },
         "name": "184.0",
         "offsetgroup": "184.0",
         "orientation": "v",
         "showlegend": true,
         "type": "histogram",
         "x": [
          184,
          184
         ],
         "xaxis": "x",
         "yaxis": "y"
        },
        {
         "alignmentgroup": "True",
         "bingroup": "x",
         "hovertemplate": "LoanAmount=%{x}<br>count=%{y}<extra></extra>",
         "legendgroup": "80.0",
         "marker": {
          "color": "#FF6692",
          "pattern": {
           "shape": ""
          }
         },
         "name": "80.0",
         "offsetgroup": "80.0",
         "orientation": "v",
         "showlegend": true,
         "type": "histogram",
         "x": [
          80,
          80,
          80,
          80,
          80,
          80
         ],
         "xaxis": "x",
         "yaxis": "y"
        },
        {
         "alignmentgroup": "True",
         "bingroup": "x",
         "hovertemplate": "LoanAmount=%{x}<br>count=%{y}<extra></extra>",
         "legendgroup": "47.0",
         "marker": {
          "color": "#B6E880",
          "pattern": {
           "shape": ""
          }
         },
         "name": "47.0",
         "offsetgroup": "47.0",
         "orientation": "v",
         "showlegend": true,
         "type": "histogram",
         "x": [
          47
         ],
         "xaxis": "x",
         "yaxis": "y"
        },
        {
         "alignmentgroup": "True",
         "bingroup": "x",
         "hovertemplate": "LoanAmount=%{x}<br>count=%{y}<extra></extra>",
         "legendgroup": "75.0",
         "marker": {
          "color": "#FF97FF",
          "pattern": {
           "shape": ""
          }
         },
         "name": "75.0",
         "offsetgroup": "75.0",
         "orientation": "v",
         "showlegend": true,
         "type": "histogram",
         "x": [
          75,
          75,
          75
         ],
         "xaxis": "x",
         "yaxis": "y"
        },
        {
         "alignmentgroup": "True",
         "bingroup": "x",
         "hovertemplate": "LoanAmount=%{x}<br>count=%{y}<extra></extra>",
         "legendgroup": "134.0",
         "marker": {
          "color": "#FECB52",
          "pattern": {
           "shape": ""
          }
         },
         "name": "134.0",
         "offsetgroup": "134.0",
         "orientation": "v",
         "showlegend": true,
         "type": "histogram",
         "x": [
          134,
          134,
          134,
          134
         ],
         "xaxis": "x",
         "yaxis": "y"
        },
        {
         "alignmentgroup": "True",
         "bingroup": "x",
         "hovertemplate": "LoanAmount=%{x}<br>count=%{y}<extra></extra>",
         "legendgroup": "96.0",
         "marker": {
          "color": "#636efa",
          "pattern": {
           "shape": ""
          }
         },
         "name": "96.0",
         "offsetgroup": "96.0",
         "orientation": "v",
         "showlegend": true,
         "type": "histogram",
         "x": [
          96,
          96,
          96,
          96,
          96,
          96,
          96,
          96,
          96
         ],
         "xaxis": "x",
         "yaxis": "y"
        },
        {
         "alignmentgroup": "True",
         "bingroup": "x",
         "hovertemplate": "LoanAmount=%{x}<br>count=%{y}<extra></extra>",
         "legendgroup": "88.0",
         "marker": {
          "color": "#EF553B",
          "pattern": {
           "shape": ""
          }
         },
         "name": "88.0",
         "offsetgroup": "88.0",
         "orientation": "v",
         "showlegend": true,
         "type": "histogram",
         "x": [
          88,
          88,
          88,
          88
         ],
         "xaxis": "x",
         "yaxis": "y"
        },
        {
         "alignmentgroup": "True",
         "bingroup": "x",
         "hovertemplate": "LoanAmount=%{x}<br>count=%{y}<extra></extra>",
         "legendgroup": "44.0",
         "marker": {
          "color": "#00cc96",
          "pattern": {
           "shape": ""
          }
         },
         "name": "44.0",
         "offsetgroup": "44.0",
         "orientation": "v",
         "showlegend": true,
         "type": "histogram",
         "x": [
          44,
          44
         ],
         "xaxis": "x",
         "yaxis": "y"
        },
        {
         "alignmentgroup": "True",
         "bingroup": "x",
         "hovertemplate": "LoanAmount=%{x}<br>count=%{y}<extra></extra>",
         "legendgroup": "286.0",
         "marker": {
          "color": "#ab63fa",
          "pattern": {
           "shape": ""
          }
         },
         "name": "286.0",
         "offsetgroup": "286.0",
         "orientation": "v",
         "showlegend": true,
         "type": "histogram",
         "x": [
          286
         ],
         "xaxis": "x",
         "yaxis": "y"
        },
        {
         "alignmentgroup": "True",
         "bingroup": "x",
         "hovertemplate": "LoanAmount=%{x}<br>count=%{y}<extra></extra>",
         "legendgroup": "97.0",
         "marker": {
          "color": "#FFA15A",
          "pattern": {
           "shape": ""
          }
         },
         "name": "97.0",
         "offsetgroup": "97.0",
         "orientation": "v",
         "showlegend": true,
         "type": "histogram",
         "x": [
          97,
          97
         ],
         "xaxis": "x",
         "yaxis": "y"
        },
        {
         "alignmentgroup": "True",
         "bingroup": "x",
         "hovertemplate": "LoanAmount=%{x}<br>count=%{y}<extra></extra>",
         "legendgroup": "135.0",
         "marker": {
          "color": "#19d3f3",
          "pattern": {
           "shape": ""
          }
         },
         "name": "135.0",
         "offsetgroup": "135.0",
         "orientation": "v",
         "showlegend": true,
         "type": "histogram",
         "x": [
          135,
          135,
          135,
          135,
          135,
          135,
          135
         ],
         "xaxis": "x",
         "yaxis": "y"
        },
        {
         "alignmentgroup": "True",
         "bingroup": "x",
         "hovertemplate": "LoanAmount=%{x}<br>count=%{y}<extra></extra>",
         "legendgroup": "180.0",
         "marker": {
          "color": "#FF6692",
          "pattern": {
           "shape": ""
          }
         },
         "name": "180.0",
         "offsetgroup": "180.0",
         "orientation": "v",
         "showlegend": true,
         "type": "histogram",
         "x": [
          180,
          180,
          180,
          180,
          180,
          180
         ],
         "xaxis": "x",
         "yaxis": "y"
        },
        {
         "alignmentgroup": "True",
         "bingroup": "x",
         "hovertemplate": "LoanAmount=%{x}<br>count=%{y}<extra></extra>",
         "legendgroup": "99.0",
         "marker": {
          "color": "#B6E880",
          "pattern": {
           "shape": ""
          }
         },
         "name": "99.0",
         "offsetgroup": "99.0",
         "orientation": "v",
         "showlegend": true,
         "type": "histogram",
         "x": [
          99,
          99,
          99,
          99
         ],
         "xaxis": "x",
         "yaxis": "y"
        },
        {
         "alignmentgroup": "True",
         "bingroup": "x",
         "hovertemplate": "LoanAmount=%{x}<br>count=%{y}<extra></extra>",
         "legendgroup": "165.0",
         "marker": {
          "color": "#FF97FF",
          "pattern": {
           "shape": ""
          }
         },
         "name": "165.0",
         "offsetgroup": "165.0",
         "orientation": "v",
         "showlegend": true,
         "type": "histogram",
         "x": [
          165,
          165,
          165
         ],
         "xaxis": "x",
         "yaxis": "y"
        },
        {
         "alignmentgroup": "True",
         "bingroup": "x",
         "hovertemplate": "LoanAmount=%{x}<br>count=%{y}<extra></extra>",
         "legendgroup": "258.0",
         "marker": {
          "color": "#FECB52",
          "pattern": {
           "shape": ""
          }
         },
         "name": "258.0",
         "offsetgroup": "258.0",
         "orientation": "v",
         "showlegend": true,
         "type": "histogram",
         "x": [
          258,
          258
         ],
         "xaxis": "x",
         "yaxis": "y"
        },
        {
         "alignmentgroup": "True",
         "bingroup": "x",
         "hovertemplate": "LoanAmount=%{x}<br>count=%{y}<extra></extra>",
         "legendgroup": "126.0",
         "marker": {
          "color": "#636efa",
          "pattern": {
           "shape": ""
          }
         },
         "name": "126.0",
         "offsetgroup": "126.0",
         "orientation": "v",
         "showlegend": true,
         "type": "histogram",
         "x": [
          126,
          126,
          126,
          126
         ],
         "xaxis": "x",
         "yaxis": "y"
        },
        {
         "alignmentgroup": "True",
         "bingroup": "x",
         "hovertemplate": "LoanAmount=%{x}<br>count=%{y}<extra></extra>",
         "legendgroup": "312.0",
         "marker": {
          "color": "#EF553B",
          "pattern": {
           "shape": ""
          }
         },
         "name": "312.0",
         "offsetgroup": "312.0",
         "orientation": "v",
         "showlegend": true,
         "type": "histogram",
         "x": [
          312
         ],
         "xaxis": "x",
         "yaxis": "y"
        },
        {
         "alignmentgroup": "True",
         "bingroup": "x",
         "hovertemplate": "LoanAmount=%{x}<br>count=%{y}<extra></extra>",
         "legendgroup": "136.0",
         "marker": {
          "color": "#00cc96",
          "pattern": {
           "shape": ""
          }
         },
         "name": "136.0",
         "offsetgroup": "136.0",
         "orientation": "v",
         "showlegend": true,
         "type": "histogram",
         "x": [
          136,
          136,
          136,
          136,
          136,
          136,
          136
         ],
         "xaxis": "x",
         "yaxis": "y"
        },
        {
         "alignmentgroup": "True",
         "bingroup": "x",
         "hovertemplate": "LoanAmount=%{x}<br>count=%{y}<extra></extra>",
         "legendgroup": "172.0",
         "marker": {
          "color": "#ab63fa",
          "pattern": {
           "shape": ""
          }
         },
         "name": "172.0",
         "offsetgroup": "172.0",
         "orientation": "v",
         "showlegend": true,
         "type": "histogram",
         "x": [
          172,
          172,
          172,
          172
         ],
         "xaxis": "x",
         "yaxis": "y"
        },
        {
         "alignmentgroup": "True",
         "bingroup": "x",
         "hovertemplate": "LoanAmount=%{x}<br>count=%{y}<extra></extra>",
         "legendgroup": "81.0",
         "marker": {
          "color": "#FFA15A",
          "pattern": {
           "shape": ""
          }
         },
         "name": "81.0",
         "offsetgroup": "81.0",
         "orientation": "v",
         "showlegend": true,
         "type": "histogram",
         "x": [
          81,
          81,
          81,
          81,
          81,
          81
         ],
         "xaxis": "x",
         "yaxis": "y"
        },
        {
         "alignmentgroup": "True",
         "bingroup": "x",
         "hovertemplate": "LoanAmount=%{x}<br>count=%{y}<extra></extra>",
         "legendgroup": "187.0",
         "marker": {
          "color": "#19d3f3",
          "pattern": {
           "shape": ""
          }
         },
         "name": "187.0",
         "offsetgroup": "187.0",
         "orientation": "v",
         "showlegend": true,
         "type": "histogram",
         "x": [
          187,
          187,
          187,
          187,
          187,
          187,
          187,
          187,
          187,
          187,
          187,
          187
         ],
         "xaxis": "x",
         "yaxis": "y"
        },
        {
         "alignmentgroup": "True",
         "bingroup": "x",
         "hovertemplate": "LoanAmount=%{x}<br>count=%{y}<extra></extra>",
         "legendgroup": "113.0",
         "marker": {
          "color": "#FF6692",
          "pattern": {
           "shape": ""
          }
         },
         "name": "113.0",
         "offsetgroup": "113.0",
         "orientation": "v",
         "showlegend": true,
         "type": "histogram",
         "x": [
          113,
          113,
          113,
          113,
          113,
          113,
          113,
          113,
          113,
          113,
          113
         ],
         "xaxis": "x",
         "yaxis": "y"
        },
        {
         "alignmentgroup": "True",
         "bingroup": "x",
         "hovertemplate": "LoanAmount=%{x}<br>count=%{y}<extra></extra>",
         "legendgroup": "176.0",
         "marker": {
          "color": "#B6E880",
          "pattern": {
           "shape": ""
          }
         },
         "name": "176.0",
         "offsetgroup": "176.0",
         "orientation": "v",
         "showlegend": true,
         "type": "histogram",
         "x": [
          176,
          176
         ],
         "xaxis": "x",
         "yaxis": "y"
        },
        {
         "alignmentgroup": "True",
         "bingroup": "x",
         "hovertemplate": "LoanAmount=%{x}<br>count=%{y}<extra></extra>",
         "legendgroup": "130.0",
         "marker": {
          "color": "#FF97FF",
          "pattern": {
           "shape": ""
          }
         },
         "name": "130.0",
         "offsetgroup": "130.0",
         "orientation": "v",
         "showlegend": true,
         "type": "histogram",
         "x": [
          130,
          130,
          130,
          130,
          130,
          130,
          130,
          130,
          130,
          130
         ],
         "xaxis": "x",
         "yaxis": "y"
        },
        {
         "alignmentgroup": "True",
         "bingroup": "x",
         "hovertemplate": "LoanAmount=%{x}<br>count=%{y}<extra></extra>",
         "legendgroup": "111.0",
         "marker": {
          "color": "#FECB52",
          "pattern": {
           "shape": ""
          }
         },
         "name": "111.0",
         "offsetgroup": "111.0",
         "orientation": "v",
         "showlegend": true,
         "type": "histogram",
         "x": [
          111,
          111,
          111,
          111,
          111
         ],
         "xaxis": "x",
         "yaxis": "y"
        },
        {
         "alignmentgroup": "True",
         "bingroup": "x",
         "hovertemplate": "LoanAmount=%{x}<br>count=%{y}<extra></extra>",
         "legendgroup": "167.0",
         "marker": {
          "color": "#636efa",
          "pattern": {
           "shape": ""
          }
         },
         "name": "167.0",
         "offsetgroup": "167.0",
         "orientation": "v",
         "showlegend": true,
         "type": "histogram",
         "x": [
          167
         ],
         "xaxis": "x",
         "yaxis": "y"
        },
        {
         "alignmentgroup": "True",
         "bingroup": "x",
         "hovertemplate": "LoanAmount=%{x}<br>count=%{y}<extra></extra>",
         "legendgroup": "265.0",
         "marker": {
          "color": "#EF553B",
          "pattern": {
           "shape": ""
          }
         },
         "name": "265.0",
         "offsetgroup": "265.0",
         "orientation": "v",
         "showlegend": true,
         "type": "histogram",
         "x": [
          265
         ],
         "xaxis": "x",
         "yaxis": "y"
        },
        {
         "alignmentgroup": "True",
         "bingroup": "x",
         "hovertemplate": "LoanAmount=%{x}<br>count=%{y}<extra></extra>",
         "legendgroup": "50.0",
         "marker": {
          "color": "#00cc96",
          "pattern": {
           "shape": ""
          }
         },
         "name": "50.0",
         "offsetgroup": "50.0",
         "orientation": "v",
         "showlegend": true,
         "type": "histogram",
         "x": [
          50,
          50,
          50,
          50
         ],
         "xaxis": "x",
         "yaxis": "y"
        },
        {
         "alignmentgroup": "True",
         "bingroup": "x",
         "hovertemplate": "LoanAmount=%{x}<br>count=%{y}<extra></extra>",
         "legendgroup": "210.0",
         "marker": {
          "color": "#ab63fa",
          "pattern": {
           "shape": ""
          }
         },
         "name": "210.0",
         "offsetgroup": "210.0",
         "orientation": "v",
         "showlegend": true,
         "type": "histogram",
         "x": [
          210,
          210
         ],
         "xaxis": "x",
         "yaxis": "y"
        },
        {
         "alignmentgroup": "True",
         "bingroup": "x",
         "hovertemplate": "LoanAmount=%{x}<br>count=%{y}<extra></extra>",
         "legendgroup": "175.0",
         "marker": {
          "color": "#FFA15A",
          "pattern": {
           "shape": ""
          }
         },
         "name": "175.0",
         "offsetgroup": "175.0",
         "orientation": "v",
         "showlegend": true,
         "type": "histogram",
         "x": [
          175,
          175,
          175,
          175,
          175,
          175
         ],
         "xaxis": "x",
         "yaxis": "y"
        },
        {
         "alignmentgroup": "True",
         "bingroup": "x",
         "hovertemplate": "LoanAmount=%{x}<br>count=%{y}<extra></extra>",
         "legendgroup": "131.0",
         "marker": {
          "color": "#19d3f3",
          "pattern": {
           "shape": ""
          }
         },
         "name": "131.0",
         "offsetgroup": "131.0",
         "orientation": "v",
         "showlegend": true,
         "type": "histogram",
         "x": [
          131,
          131,
          131,
          131
         ],
         "xaxis": "x",
         "yaxis": "y"
        },
        {
         "alignmentgroup": "True",
         "bingroup": "x",
         "hovertemplate": "LoanAmount=%{x}<br>count=%{y}<extra></extra>",
         "legendgroup": "188.0",
         "marker": {
          "color": "#FF6692",
          "pattern": {
           "shape": ""
          }
         },
         "name": "188.0",
         "offsetgroup": "188.0",
         "orientation": "v",
         "showlegend": true,
         "type": "histogram",
         "x": [
          188,
          188,
          188
         ],
         "xaxis": "x",
         "yaxis": "y"
        },
        {
         "alignmentgroup": "True",
         "bingroup": "x",
         "hovertemplate": "LoanAmount=%{x}<br>count=%{y}<extra></extra>",
         "legendgroup": "25.0",
         "marker": {
          "color": "#B6E880",
          "pattern": {
           "shape": ""
          }
         },
         "name": "25.0",
         "offsetgroup": "25.0",
         "orientation": "v",
         "showlegend": true,
         "type": "histogram",
         "x": [
          25,
          25
         ],
         "xaxis": "x",
         "yaxis": "y"
        },
        {
         "alignmentgroup": "True",
         "bingroup": "x",
         "hovertemplate": "LoanAmount=%{x}<br>count=%{y}<extra></extra>",
         "legendgroup": "137.0",
         "marker": {
          "color": "#FF97FF",
          "pattern": {
           "shape": ""
          }
         },
         "name": "137.0",
         "offsetgroup": "137.0",
         "orientation": "v",
         "showlegend": true,
         "type": "histogram",
         "x": [
          137,
          137,
          137,
          137
         ],
         "xaxis": "x",
         "yaxis": "y"
        },
        {
         "alignmentgroup": "True",
         "bingroup": "x",
         "hovertemplate": "LoanAmount=%{x}<br>count=%{y}<extra></extra>",
         "legendgroup": "160.0",
         "marker": {
          "color": "#FECB52",
          "pattern": {
           "shape": ""
          }
         },
         "name": "160.0",
         "offsetgroup": "160.0",
         "orientation": "v",
         "showlegend": true,
         "type": "histogram",
         "x": [
          160,
          160,
          160,
          160,
          160,
          160,
          160,
          160,
          160,
          160,
          160,
          160
         ],
         "xaxis": "x",
         "yaxis": "y"
        },
        {
         "alignmentgroup": "True",
         "bingroup": "x",
         "hovertemplate": "LoanAmount=%{x}<br>count=%{y}<extra></extra>",
         "legendgroup": "225.0",
         "marker": {
          "color": "#636efa",
          "pattern": {
           "shape": ""
          }
         },
         "name": "225.0",
         "offsetgroup": "225.0",
         "orientation": "v",
         "showlegend": true,
         "type": "histogram",
         "x": [
          225,
          225,
          225
         ],
         "xaxis": "x",
         "yaxis": "y"
        },
        {
         "alignmentgroup": "True",
         "bingroup": "x",
         "hovertemplate": "LoanAmount=%{x}<br>count=%{y}<extra></extra>",
         "legendgroup": "216.0",
         "marker": {
          "color": "#EF553B",
          "pattern": {
           "shape": ""
          }
         },
         "name": "216.0",
         "offsetgroup": "216.0",
         "orientation": "v",
         "showlegend": true,
         "type": "histogram",
         "x": [
          216,
          216
         ],
         "xaxis": "x",
         "yaxis": "y"
        },
        {
         "alignmentgroup": "True",
         "bingroup": "x",
         "hovertemplate": "LoanAmount=%{x}<br>count=%{y}<extra></extra>",
         "legendgroup": "94.0",
         "marker": {
          "color": "#00cc96",
          "pattern": {
           "shape": ""
          }
         },
         "name": "94.0",
         "offsetgroup": "94.0",
         "orientation": "v",
         "showlegend": true,
         "type": "histogram",
         "x": [
          94,
          94,
          94,
          94
         ],
         "xaxis": "x",
         "yaxis": "y"
        },
        {
         "alignmentgroup": "True",
         "bingroup": "x",
         "hovertemplate": "LoanAmount=%{x}<br>count=%{y}<extra></extra>",
         "legendgroup": "139.0",
         "marker": {
          "color": "#ab63fa",
          "pattern": {
           "shape": ""
          }
         },
         "name": "139.0",
         "offsetgroup": "139.0",
         "orientation": "v",
         "showlegend": true,
         "type": "histogram",
         "x": [
          139,
          139
         ],
         "xaxis": "x",
         "yaxis": "y"
        },
        {
         "alignmentgroup": "True",
         "bingroup": "x",
         "hovertemplate": "LoanAmount=%{x}<br>count=%{y}<extra></extra>",
         "legendgroup": "152.0",
         "marker": {
          "color": "#FFA15A",
          "pattern": {
           "shape": ""
          }
         },
         "name": "152.0",
         "offsetgroup": "152.0",
         "orientation": "v",
         "showlegend": true,
         "type": "histogram",
         "x": [
          152,
          152,
          152,
          152,
          152
         ],
         "xaxis": "x",
         "yaxis": "y"
        },
        {
         "alignmentgroup": "True",
         "bingroup": "x",
         "hovertemplate": "LoanAmount=%{x}<br>count=%{y}<extra></extra>",
         "legendgroup": "118.0",
         "marker": {
          "color": "#19d3f3",
          "pattern": {
           "shape": ""
          }
         },
         "name": "118.0",
         "offsetgroup": "118.0",
         "orientation": "v",
         "showlegend": true,
         "type": "histogram",
         "x": [
          118,
          118,
          118
         ],
         "xaxis": "x",
         "yaxis": "y"
        },
        {
         "alignmentgroup": "True",
         "bingroup": "x",
         "hovertemplate": "LoanAmount=%{x}<br>count=%{y}<extra></extra>",
         "legendgroup": "185.0",
         "marker": {
          "color": "#FF6692",
          "pattern": {
           "shape": ""
          }
         },
         "name": "185.0",
         "offsetgroup": "185.0",
         "orientation": "v",
         "showlegend": true,
         "type": "histogram",
         "x": [
          185,
          185,
          185,
          185,
          185
         ],
         "xaxis": "x",
         "yaxis": "y"
        },
        {
         "alignmentgroup": "True",
         "bingroup": "x",
         "hovertemplate": "LoanAmount=%{x}<br>count=%{y}<extra></extra>",
         "legendgroup": "154.0",
         "marker": {
          "color": "#B6E880",
          "pattern": {
           "shape": ""
          }
         },
         "name": "154.0",
         "offsetgroup": "154.0",
         "orientation": "v",
         "showlegend": true,
         "type": "histogram",
         "x": [
          154,
          154
         ],
         "xaxis": "x",
         "yaxis": "y"
        },
        {
         "alignmentgroup": "True",
         "bingroup": "x",
         "hovertemplate": "LoanAmount=%{x}<br>count=%{y}<extra></extra>",
         "legendgroup": "85.0",
         "marker": {
          "color": "#FF97FF",
          "pattern": {
           "shape": ""
          }
         },
         "name": "85.0",
         "offsetgroup": "85.0",
         "orientation": "v",
         "showlegend": true,
         "type": "histogram",
         "x": [
          85
         ],
         "xaxis": "x",
         "yaxis": "y"
        },
        {
         "alignmentgroup": "True",
         "bingroup": "x",
         "hovertemplate": "LoanAmount=%{x}<br>count=%{y}<extra></extra>",
         "legendgroup": "259.0",
         "marker": {
          "color": "#FECB52",
          "pattern": {
           "shape": ""
          }
         },
         "name": "259.0",
         "offsetgroup": "259.0",
         "orientation": "v",
         "showlegend": true,
         "type": "histogram",
         "x": [
          259,
          259
         ],
         "xaxis": "x",
         "yaxis": "y"
        },
        {
         "alignmentgroup": "True",
         "bingroup": "x",
         "hovertemplate": "LoanAmount=%{x}<br>count=%{y}<extra></extra>",
         "legendgroup": "194.0",
         "marker": {
          "color": "#636efa",
          "pattern": {
           "shape": ""
          }
         },
         "name": "194.0",
         "offsetgroup": "194.0",
         "orientation": "v",
         "showlegend": true,
         "type": "histogram",
         "x": [
          194,
          194
         ],
         "xaxis": "x",
         "yaxis": "y"
        },
        {
         "alignmentgroup": "True",
         "bingroup": "x",
         "hovertemplate": "LoanAmount=%{x}<br>count=%{y}<extra></extra>",
         "legendgroup": "93.0",
         "marker": {
          "color": "#EF553B",
          "pattern": {
           "shape": ""
          }
         },
         "name": "93.0",
         "offsetgroup": "93.0",
         "orientation": "v",
         "showlegend": true,
         "type": "histogram",
         "x": [
          93,
          93,
          93
         ],
         "xaxis": "x",
         "yaxis": "y"
        },
        {
         "alignmentgroup": "True",
         "bingroup": "x",
         "hovertemplate": "LoanAmount=%{x}<br>count=%{y}<extra></extra>",
         "legendgroup": "370.0",
         "marker": {
          "color": "#00cc96",
          "pattern": {
           "shape": ""
          }
         },
         "name": "370.0",
         "offsetgroup": "370.0",
         "orientation": "v",
         "showlegend": true,
         "type": "histogram",
         "x": [
          370
         ],
         "xaxis": "x",
         "yaxis": "y"
        },
        {
         "alignmentgroup": "True",
         "bingroup": "x",
         "hovertemplate": "LoanAmount=%{x}<br>count=%{y}<extra></extra>",
         "legendgroup": "182.0",
         "marker": {
          "color": "#ab63fa",
          "pattern": {
           "shape": ""
          }
         },
         "name": "182.0",
         "offsetgroup": "182.0",
         "orientation": "v",
         "showlegend": true,
         "type": "histogram",
         "x": [
          182,
          182,
          182,
          182
         ],
         "xaxis": "x",
         "yaxis": "y"
        },
        {
         "alignmentgroup": "True",
         "bingroup": "x",
         "hovertemplate": "LoanAmount=%{x}<br>count=%{y}<extra></extra>",
         "legendgroup": "650.0",
         "marker": {
          "color": "#FFA15A",
          "pattern": {
           "shape": ""
          }
         },
         "name": "650.0",
         "offsetgroup": "650.0",
         "orientation": "v",
         "showlegend": true,
         "type": "histogram",
         "x": [
          650
         ],
         "xaxis": "x",
         "yaxis": "y"
        },
        {
         "alignmentgroup": "True",
         "bingroup": "x",
         "hovertemplate": "LoanAmount=%{x}<br>count=%{y}<extra></extra>",
         "legendgroup": "102.0",
         "marker": {
          "color": "#19d3f3",
          "pattern": {
           "shape": ""
          }
         },
         "name": "102.0",
         "offsetgroup": "102.0",
         "orientation": "v",
         "showlegend": true,
         "type": "histogram",
         "x": [
          102,
          102,
          102
         ],
         "xaxis": "x",
         "yaxis": "y"
        },
        {
         "alignmentgroup": "True",
         "bingroup": "x",
         "hovertemplate": "LoanAmount=%{x}<br>count=%{y}<extra></extra>",
         "legendgroup": "290.0",
         "marker": {
          "color": "#FF6692",
          "pattern": {
           "shape": ""
          }
         },
         "name": "290.0",
         "offsetgroup": "290.0",
         "orientation": "v",
         "showlegend": true,
         "type": "histogram",
         "x": [
          290
         ],
         "xaxis": "x",
         "yaxis": "y"
        },
        {
         "alignmentgroup": "True",
         "bingroup": "x",
         "hovertemplate": "LoanAmount=%{x}<br>count=%{y}<extra></extra>",
         "legendgroup": "84.0",
         "marker": {
          "color": "#B6E880",
          "pattern": {
           "shape": ""
          }
         },
         "name": "84.0",
         "offsetgroup": "84.0",
         "orientation": "v",
         "showlegend": true,
         "type": "histogram",
         "x": [
          84,
          84,
          84,
          84
         ],
         "xaxis": "x",
         "yaxis": "y"
        },
        {
         "alignmentgroup": "True",
         "bingroup": "x",
         "hovertemplate": "LoanAmount=%{x}<br>count=%{y}<extra></extra>",
         "legendgroup": "242.0",
         "marker": {
          "color": "#FF97FF",
          "pattern": {
           "shape": ""
          }
         },
         "name": "242.0",
         "offsetgroup": "242.0",
         "orientation": "v",
         "showlegend": true,
         "type": "histogram",
         "x": [
          242
         ],
         "xaxis": "x",
         "yaxis": "y"
        },
        {
         "alignmentgroup": "True",
         "bingroup": "x",
         "hovertemplate": "LoanAmount=%{x}<br>count=%{y}<extra></extra>",
         "legendgroup": "129.0",
         "marker": {
          "color": "#FECB52",
          "pattern": {
           "shape": ""
          }
         },
         "name": "129.0",
         "offsetgroup": "129.0",
         "orientation": "v",
         "showlegend": true,
         "type": "histogram",
         "x": [
          129,
          129
         ],
         "xaxis": "x",
         "yaxis": "y"
        },
        {
         "alignmentgroup": "True",
         "bingroup": "x",
         "hovertemplate": "LoanAmount=%{x}<br>count=%{y}<extra></extra>",
         "legendgroup": "30.0",
         "marker": {
          "color": "#636efa",
          "pattern": {
           "shape": ""
          }
         },
         "name": "30.0",
         "offsetgroup": "30.0",
         "orientation": "v",
         "showlegend": true,
         "type": "histogram",
         "x": [
          30,
          30
         ],
         "xaxis": "x",
         "yaxis": "y"
        },
        {
         "alignmentgroup": "True",
         "bingroup": "x",
         "hovertemplate": "LoanAmount=%{x}<br>count=%{y}<extra></extra>",
         "legendgroup": "244.0",
         "marker": {
          "color": "#EF553B",
          "pattern": {
           "shape": ""
          }
         },
         "name": "244.0",
         "offsetgroup": "244.0",
         "orientation": "v",
         "showlegend": true,
         "type": "histogram",
         "x": [
          244
         ],
         "xaxis": "x",
         "yaxis": "y"
        },
        {
         "alignmentgroup": "True",
         "bingroup": "x",
         "hovertemplate": "LoanAmount=%{x}<br>count=%{y}<extra></extra>",
         "legendgroup": "600.0",
         "marker": {
          "color": "#00cc96",
          "pattern": {
           "shape": ""
          }
         },
         "name": "600.0",
         "offsetgroup": "600.0",
         "orientation": "v",
         "showlegend": true,
         "type": "histogram",
         "x": [
          600,
          600
         ],
         "xaxis": "x",
         "yaxis": "y"
        },
        {
         "alignmentgroup": "True",
         "bingroup": "x",
         "hovertemplate": "LoanAmount=%{x}<br>count=%{y}<extra></extra>",
         "legendgroup": "255.0",
         "marker": {
          "color": "#ab63fa",
          "pattern": {
           "shape": ""
          }
         },
         "name": "255.0",
         "offsetgroup": "255.0",
         "orientation": "v",
         "showlegend": true,
         "type": "histogram",
         "x": [
          255,
          255,
          255
         ],
         "xaxis": "x",
         "yaxis": "y"
        },
        {
         "alignmentgroup": "True",
         "bingroup": "x",
         "hovertemplate": "LoanAmount=%{x}<br>count=%{y}<extra></extra>",
         "legendgroup": "98.0",
         "marker": {
          "color": "#FFA15A",
          "pattern": {
           "shape": ""
          }
         },
         "name": "98.0",
         "offsetgroup": "98.0",
         "orientation": "v",
         "showlegend": true,
         "type": "histogram",
         "x": [
          98,
          98,
          98,
          98
         ],
         "xaxis": "x",
         "yaxis": "y"
        },
        {
         "alignmentgroup": "True",
         "bingroup": "x",
         "hovertemplate": "LoanAmount=%{x}<br>count=%{y}<extra></extra>",
         "legendgroup": "275.0",
         "marker": {
          "color": "#19d3f3",
          "pattern": {
           "shape": ""
          }
         },
         "name": "275.0",
         "offsetgroup": "275.0",
         "orientation": "v",
         "showlegend": true,
         "type": "histogram",
         "x": [
          275,
          275,
          275
         ],
         "xaxis": "x",
         "yaxis": "y"
        },
        {
         "alignmentgroup": "True",
         "bingroup": "x",
         "hovertemplate": "LoanAmount=%{x}<br>count=%{y}<extra></extra>",
         "legendgroup": "121.0",
         "marker": {
          "color": "#FF6692",
          "pattern": {
           "shape": ""
          }
         },
         "name": "121.0",
         "offsetgroup": "121.0",
         "orientation": "v",
         "showlegend": true,
         "type": "histogram",
         "x": [
          121,
          121
         ],
         "xaxis": "x",
         "yaxis": "y"
        },
        {
         "alignmentgroup": "True",
         "bingroup": "x",
         "hovertemplate": "LoanAmount=%{x}<br>count=%{y}<extra></extra>",
         "legendgroup": "63.0",
         "marker": {
          "color": "#B6E880",
          "pattern": {
           "shape": ""
          }
         },
         "name": "63.0",
         "offsetgroup": "63.0",
         "orientation": "v",
         "showlegend": true,
         "type": "histogram",
         "x": [
          63
         ],
         "xaxis": "x",
         "yaxis": "y"
        },
        {
         "alignmentgroup": "True",
         "bingroup": "x",
         "hovertemplate": "LoanAmount=%{x}<br>count=%{y}<extra></extra>",
         "legendgroup": "700.0",
         "marker": {
          "color": "#FF97FF",
          "pattern": {
           "shape": ""
          }
         },
         "name": "700.0",
         "offsetgroup": "700.0",
         "orientation": "v",
         "showlegend": true,
         "type": "histogram",
         "x": [
          700
         ],
         "xaxis": "x",
         "yaxis": "y"
        },
        {
         "alignmentgroup": "True",
         "bingroup": "x",
         "hovertemplate": "LoanAmount=%{x}<br>count=%{y}<extra></extra>",
         "legendgroup": "87.0",
         "marker": {
          "color": "#FECB52",
          "pattern": {
           "shape": ""
          }
         },
         "name": "87.0",
         "offsetgroup": "87.0",
         "orientation": "v",
         "showlegend": true,
         "type": "histogram",
         "x": [
          87,
          87
         ],
         "xaxis": "x",
         "yaxis": "y"
        },
        {
         "alignmentgroup": "True",
         "bingroup": "x",
         "hovertemplate": "LoanAmount=%{x}<br>count=%{y}<extra></extra>",
         "legendgroup": "101.0",
         "marker": {
          "color": "#636efa",
          "pattern": {
           "shape": ""
          }
         },
         "name": "101.0",
         "offsetgroup": "101.0",
         "orientation": "v",
         "showlegend": true,
         "type": "histogram",
         "x": [
          101
         ],
         "xaxis": "x",
         "yaxis": "y"
        },
        {
         "alignmentgroup": "True",
         "bingroup": "x",
         "hovertemplate": "LoanAmount=%{x}<br>count=%{y}<extra></extra>",
         "legendgroup": "495.0",
         "marker": {
          "color": "#EF553B",
          "pattern": {
           "shape": ""
          }
         },
         "name": "495.0",
         "offsetgroup": "495.0",
         "orientation": "v",
         "showlegend": true,
         "type": "histogram",
         "x": [
          495
         ],
         "xaxis": "x",
         "yaxis": "y"
        },
        {
         "alignmentgroup": "True",
         "bingroup": "x",
         "hovertemplate": "LoanAmount=%{x}<br>count=%{y}<extra></extra>",
         "legendgroup": "67.0",
         "marker": {
          "color": "#00cc96",
          "pattern": {
           "shape": ""
          }
         },
         "name": "67.0",
         "offsetgroup": "67.0",
         "orientation": "v",
         "showlegend": true,
         "type": "histogram",
         "x": [
          67,
          67,
          67
         ],
         "xaxis": "x",
         "yaxis": "y"
        },
        {
         "alignmentgroup": "True",
         "bingroup": "x",
         "hovertemplate": "LoanAmount=%{x}<br>count=%{y}<extra></extra>",
         "legendgroup": "73.0",
         "marker": {
          "color": "#ab63fa",
          "pattern": {
           "shape": ""
          }
         },
         "name": "73.0",
         "offsetgroup": "73.0",
         "orientation": "v",
         "showlegend": true,
         "type": "histogram",
         "x": [
          73
         ],
         "xaxis": "x",
         "yaxis": "y"
        },
        {
         "alignmentgroup": "True",
         "bingroup": "x",
         "hovertemplate": "LoanAmount=%{x}<br>count=%{y}<extra></extra>",
         "legendgroup": "260.0",
         "marker": {
          "color": "#FFA15A",
          "pattern": {
           "shape": ""
          }
         },
         "name": "260.0",
         "offsetgroup": "260.0",
         "orientation": "v",
         "showlegend": true,
         "type": "histogram",
         "x": [
          260,
          260,
          260
         ],
         "xaxis": "x",
         "yaxis": "y"
        },
        {
         "alignmentgroup": "True",
         "bingroup": "x",
         "hovertemplate": "LoanAmount=%{x}<br>count=%{y}<extra></extra>",
         "legendgroup": "108.0",
         "marker": {
          "color": "#19d3f3",
          "pattern": {
           "shape": ""
          }
         },
         "name": "108.0",
         "offsetgroup": "108.0",
         "orientation": "v",
         "showlegend": true,
         "type": "histogram",
         "x": [
          108,
          108,
          108,
          108,
          108
         ],
         "xaxis": "x",
         "yaxis": "y"
        },
        {
         "alignmentgroup": "True",
         "bingroup": "x",
         "hovertemplate": "LoanAmount=%{x}<br>count=%{y}<extra></extra>",
         "legendgroup": "58.0",
         "marker": {
          "color": "#FF6692",
          "pattern": {
           "shape": ""
          }
         },
         "name": "58.0",
         "offsetgroup": "58.0",
         "orientation": "v",
         "showlegend": true,
         "type": "histogram",
         "x": [
          58
         ],
         "xaxis": "x",
         "yaxis": "y"
        },
        {
         "alignmentgroup": "True",
         "bingroup": "x",
         "hovertemplate": "LoanAmount=%{x}<br>count=%{y}<extra></extra>",
         "legendgroup": "48.0",
         "marker": {
          "color": "#B6E880",
          "pattern": {
           "shape": ""
          }
         },
         "name": "48.0",
         "offsetgroup": "48.0",
         "orientation": "v",
         "showlegend": true,
         "type": "histogram",
         "x": [
          48
         ],
         "xaxis": "x",
         "yaxis": "y"
        },
        {
         "alignmentgroup": "True",
         "bingroup": "x",
         "hovertemplate": "LoanAmount=%{x}<br>count=%{y}<extra></extra>",
         "legendgroup": "164.0",
         "marker": {
          "color": "#FF97FF",
          "pattern": {
           "shape": ""
          }
         },
         "name": "164.0",
         "offsetgroup": "164.0",
         "orientation": "v",
         "showlegend": true,
         "type": "histogram",
         "x": [
          164
         ],
         "xaxis": "x",
         "yaxis": "y"
        },
        {
         "alignmentgroup": "True",
         "bingroup": "x",
         "hovertemplate": "LoanAmount=%{x}<br>count=%{y}<extra></extra>",
         "legendgroup": "170.0",
         "marker": {
          "color": "#FECB52",
          "pattern": {
           "shape": ""
          }
         },
         "name": "170.0",
         "offsetgroup": "170.0",
         "orientation": "v",
         "showlegend": true,
         "type": "histogram",
         "x": [
          170,
          170,
          170
         ],
         "xaxis": "x",
         "yaxis": "y"
        },
        {
         "alignmentgroup": "True",
         "bingroup": "x",
         "hovertemplate": "LoanAmount=%{x}<br>count=%{y}<extra></extra>",
         "legendgroup": "83.0",
         "marker": {
          "color": "#636efa",
          "pattern": {
           "shape": ""
          }
         },
         "name": "83.0",
         "offsetgroup": "83.0",
         "orientation": "v",
         "showlegend": true,
         "type": "histogram",
         "x": [
          83
         ],
         "xaxis": "x",
         "yaxis": "y"
        },
        {
         "alignmentgroup": "True",
         "bingroup": "x",
         "hovertemplate": "LoanAmount=%{x}<br>count=%{y}<extra></extra>",
         "legendgroup": "90.0",
         "marker": {
          "color": "#EF553B",
          "pattern": {
           "shape": ""
          }
         },
         "name": "90.0",
         "offsetgroup": "90.0",
         "orientation": "v",
         "showlegend": true,
         "type": "histogram",
         "x": [
          90,
          90,
          90,
          90,
          90,
          90
         ],
         "xaxis": "x",
         "yaxis": "y"
        },
        {
         "alignmentgroup": "True",
         "bingroup": "x",
         "hovertemplate": "LoanAmount=%{x}<br>count=%{y}<extra></extra>",
         "legendgroup": "166.0",
         "marker": {
          "color": "#00cc96",
          "pattern": {
           "shape": ""
          }
         },
         "name": "166.0",
         "offsetgroup": "166.0",
         "orientation": "v",
         "showlegend": true,
         "type": "histogram",
         "x": [
          166
         ],
         "xaxis": "x",
         "yaxis": "y"
        },
        {
         "alignmentgroup": "True",
         "bingroup": "x",
         "hovertemplate": "LoanAmount=%{x}<br>count=%{y}<extra></extra>",
         "legendgroup": "124.0",
         "marker": {
          "color": "#ab63fa",
          "pattern": {
           "shape": ""
          }
         },
         "name": "124.0",
         "offsetgroup": "124.0",
         "orientation": "v",
         "showlegend": true,
         "type": "histogram",
         "x": [
          124,
          124,
          124,
          124,
          124
         ],
         "xaxis": "x",
         "yaxis": "y"
        },
        {
         "alignmentgroup": "True",
         "bingroup": "x",
         "hovertemplate": "LoanAmount=%{x}<br>count=%{y}<extra></extra>",
         "legendgroup": "55.0",
         "marker": {
          "color": "#FFA15A",
          "pattern": {
           "shape": ""
          }
         },
         "name": "55.0",
         "offsetgroup": "55.0",
         "orientation": "v",
         "showlegend": true,
         "type": "histogram",
         "x": [
          55,
          55,
          55,
          55
         ],
         "xaxis": "x",
         "yaxis": "y"
        },
        {
         "alignmentgroup": "True",
         "bingroup": "x",
         "hovertemplate": "LoanAmount=%{x}<br>count=%{y}<extra></extra>",
         "legendgroup": "59.0",
         "marker": {
          "color": "#19d3f3",
          "pattern": {
           "shape": ""
          }
         },
         "name": "59.0",
         "offsetgroup": "59.0",
         "orientation": "v",
         "showlegend": true,
         "type": "histogram",
         "x": [
          59
         ],
         "xaxis": "x",
         "yaxis": "y"
        },
        {
         "alignmentgroup": "True",
         "bingroup": "x",
         "hovertemplate": "LoanAmount=%{x}<br>count=%{y}<extra></extra>",
         "legendgroup": "127.0",
         "marker": {
          "color": "#FF6692",
          "pattern": {
           "shape": ""
          }
         },
         "name": "127.0",
         "offsetgroup": "127.0",
         "orientation": "v",
         "showlegend": true,
         "type": "histogram",
         "x": [
          127,
          127,
          127
         ],
         "xaxis": "x",
         "yaxis": "y"
        },
        {
         "alignmentgroup": "True",
         "bingroup": "x",
         "hovertemplate": "LoanAmount=%{x}<br>count=%{y}<extra></extra>",
         "legendgroup": "214.0",
         "marker": {
          "color": "#B6E880",
          "pattern": {
           "shape": ""
          }
         },
         "name": "214.0",
         "offsetgroup": "214.0",
         "orientation": "v",
         "showlegend": true,
         "type": "histogram",
         "x": [
          214
         ],
         "xaxis": "x",
         "yaxis": "y"
        },
        {
         "alignmentgroup": "True",
         "bingroup": "x",
         "hovertemplate": "LoanAmount=%{x}<br>count=%{y}<extra></extra>",
         "legendgroup": "240.0",
         "marker": {
          "color": "#FF97FF",
          "pattern": {
           "shape": ""
          }
         },
         "name": "240.0",
         "offsetgroup": "240.0",
         "orientation": "v",
         "showlegend": true,
         "type": "histogram",
         "x": [
          240
         ],
         "xaxis": "x",
         "yaxis": "y"
        },
        {
         "alignmentgroup": "True",
         "bingroup": "x",
         "hovertemplate": "LoanAmount=%{x}<br>count=%{y}<extra></extra>",
         "legendgroup": "72.0",
         "marker": {
          "color": "#FECB52",
          "pattern": {
           "shape": ""
          }
         },
         "name": "72.0",
         "offsetgroup": "72.0",
         "orientation": "v",
         "showlegend": true,
         "type": "histogram",
         "x": [
          72
         ],
         "xaxis": "x",
         "yaxis": "y"
        },
        {
         "alignmentgroup": "True",
         "bingroup": "x",
         "hovertemplate": "LoanAmount=%{x}<br>count=%{y}<extra></extra>",
         "legendgroup": "60.0",
         "marker": {
          "color": "#636efa",
          "pattern": {
           "shape": ""
          }
         },
         "name": "60.0",
         "offsetgroup": "60.0",
         "orientation": "v",
         "showlegend": true,
         "type": "histogram",
         "x": [
          60,
          60,
          60,
          60
         ],
         "xaxis": "x",
         "yaxis": "y"
        },
        {
         "alignmentgroup": "True",
         "bingroup": "x",
         "hovertemplate": "LoanAmount=%{x}<br>count=%{y}<extra></extra>",
         "legendgroup": "138.0",
         "marker": {
          "color": "#EF553B",
          "pattern": {
           "shape": ""
          }
         },
         "name": "138.0",
         "offsetgroup": "138.0",
         "orientation": "v",
         "showlegend": true,
         "type": "histogram",
         "x": [
          138,
          138,
          138,
          138,
          138,
          138
         ],
         "xaxis": "x",
         "yaxis": "y"
        },
        {
         "alignmentgroup": "True",
         "bingroup": "x",
         "hovertemplate": "LoanAmount=%{x}<br>count=%{y}<extra></extra>",
         "legendgroup": "42.0",
         "marker": {
          "color": "#00cc96",
          "pattern": {
           "shape": ""
          }
         },
         "name": "42.0",
         "offsetgroup": "42.0",
         "orientation": "v",
         "showlegend": true,
         "type": "histogram",
         "x": [
          42
         ],
         "xaxis": "x",
         "yaxis": "y"
        },
        {
         "alignmentgroup": "True",
         "bingroup": "x",
         "hovertemplate": "LoanAmount=%{x}<br>count=%{y}<extra></extra>",
         "legendgroup": "280.0",
         "marker": {
          "color": "#ab63fa",
          "pattern": {
           "shape": ""
          }
         },
         "name": "280.0",
         "offsetgroup": "280.0",
         "orientation": "v",
         "showlegend": true,
         "type": "histogram",
         "x": [
          280
         ],
         "xaxis": "x",
         "yaxis": "y"
        },
        {
         "alignmentgroup": "True",
         "bingroup": "x",
         "hovertemplate": "LoanAmount=%{x}<br>count=%{y}<extra></extra>",
         "legendgroup": "140.0",
         "marker": {
          "color": "#FFA15A",
          "pattern": {
           "shape": ""
          }
         },
         "name": "140.0",
         "offsetgroup": "140.0",
         "orientation": "v",
         "showlegend": true,
         "type": "histogram",
         "x": [
          140,
          140,
          140,
          140,
          140
         ],
         "xaxis": "x",
         "yaxis": "y"
        },
        {
         "alignmentgroup": "True",
         "bingroup": "x",
         "hovertemplate": "LoanAmount=%{x}<br>count=%{y}<extra></extra>",
         "legendgroup": "155.0",
         "marker": {
          "color": "#19d3f3",
          "pattern": {
           "shape": ""
          }
         },
         "name": "155.0",
         "offsetgroup": "155.0",
         "orientation": "v",
         "showlegend": true,
         "type": "histogram",
         "x": [
          155,
          155,
          155,
          155,
          155,
          155
         ],
         "xaxis": "x",
         "yaxis": "y"
        },
        {
         "alignmentgroup": "True",
         "bingroup": "x",
         "hovertemplate": "LoanAmount=%{x}<br>count=%{y}<extra></extra>",
         "legendgroup": "123.0",
         "marker": {
          "color": "#FF6692",
          "pattern": {
           "shape": ""
          }
         },
         "name": "123.0",
         "offsetgroup": "123.0",
         "orientation": "v",
         "showlegend": true,
         "type": "histogram",
         "x": [
          123,
          123,
          123,
          123
         ],
         "xaxis": "x",
         "yaxis": "y"
        },
        {
         "alignmentgroup": "True",
         "bingroup": "x",
         "hovertemplate": "LoanAmount=%{x}<br>count=%{y}<extra></extra>",
         "legendgroup": "279.0",
         "marker": {
          "color": "#B6E880",
          "pattern": {
           "shape": ""
          }
         },
         "name": "279.0",
         "offsetgroup": "279.0",
         "orientation": "v",
         "showlegend": true,
         "type": "histogram",
         "x": [
          279
         ],
         "xaxis": "x",
         "yaxis": "y"
        },
        {
         "alignmentgroup": "True",
         "bingroup": "x",
         "hovertemplate": "LoanAmount=%{x}<br>count=%{y}<extra></extra>",
         "legendgroup": "192.0",
         "marker": {
          "color": "#FF97FF",
          "pattern": {
           "shape": ""
          }
         },
         "name": "192.0",
         "offsetgroup": "192.0",
         "orientation": "v",
         "showlegend": true,
         "type": "histogram",
         "x": [
          192,
          192
         ],
         "xaxis": "x",
         "yaxis": "y"
        },
        {
         "alignmentgroup": "True",
         "bingroup": "x",
         "hovertemplate": "LoanAmount=%{x}<br>count=%{y}<extra></extra>",
         "legendgroup": "304.0",
         "marker": {
          "color": "#FECB52",
          "pattern": {
           "shape": ""
          }
         },
         "name": "304.0",
         "offsetgroup": "304.0",
         "orientation": "v",
         "showlegend": true,
         "type": "histogram",
         "x": [
          304
         ],
         "xaxis": "x",
         "yaxis": "y"
        },
        {
         "alignmentgroup": "True",
         "bingroup": "x",
         "hovertemplate": "LoanAmount=%{x}<br>count=%{y}<extra></extra>",
         "legendgroup": "330.0",
         "marker": {
          "color": "#636efa",
          "pattern": {
           "shape": ""
          }
         },
         "name": "330.0",
         "offsetgroup": "330.0",
         "orientation": "v",
         "showlegend": true,
         "type": "histogram",
         "x": [
          330
         ],
         "xaxis": "x",
         "yaxis": "y"
        },
        {
         "alignmentgroup": "True",
         "bingroup": "x",
         "hovertemplate": "LoanAmount=%{x}<br>count=%{y}<extra></extra>",
         "legendgroup": "150.0",
         "marker": {
          "color": "#EF553B",
          "pattern": {
           "shape": ""
          }
         },
         "name": "150.0",
         "offsetgroup": "150.0",
         "orientation": "v",
         "showlegend": true,
         "type": "histogram",
         "x": [
          150,
          150,
          150,
          150,
          150,
          150,
          150
         ],
         "xaxis": "x",
         "yaxis": "y"
        },
        {
         "alignmentgroup": "True",
         "bingroup": "x",
         "hovertemplate": "LoanAmount=%{x}<br>count=%{y}<extra></extra>",
         "legendgroup": "207.0",
         "marker": {
          "color": "#00cc96",
          "pattern": {
           "shape": ""
          }
         },
         "name": "207.0",
         "offsetgroup": "207.0",
         "orientation": "v",
         "showlegend": true,
         "type": "histogram",
         "x": [
          207
         ],
         "xaxis": "x",
         "yaxis": "y"
        },
        {
         "alignmentgroup": "True",
         "bingroup": "x",
         "hovertemplate": "LoanAmount=%{x}<br>count=%{y}<extra></extra>",
         "legendgroup": "436.0",
         "marker": {
          "color": "#ab63fa",
          "pattern": {
           "shape": ""
          }
         },
         "name": "436.0",
         "offsetgroup": "436.0",
         "orientation": "v",
         "showlegend": true,
         "type": "histogram",
         "x": [
          436
         ],
         "xaxis": "x",
         "yaxis": "y"
        },
        {
         "alignmentgroup": "True",
         "bingroup": "x",
         "hovertemplate": "LoanAmount=%{x}<br>count=%{y}<extra></extra>",
         "legendgroup": "78.0",
         "marker": {
          "color": "#FFA15A",
          "pattern": {
           "shape": ""
          }
         },
         "name": "78.0",
         "offsetgroup": "78.0",
         "orientation": "v",
         "showlegend": true,
         "type": "histogram",
         "x": [
          78
         ],
         "xaxis": "x",
         "yaxis": "y"
        },
        {
         "alignmentgroup": "True",
         "bingroup": "x",
         "hovertemplate": "LoanAmount=%{x}<br>count=%{y}<extra></extra>",
         "legendgroup": "54.0",
         "marker": {
          "color": "#19d3f3",
          "pattern": {
           "shape": ""
          }
         },
         "name": "54.0",
         "offsetgroup": "54.0",
         "orientation": "v",
         "showlegend": true,
         "type": "histogram",
         "x": [
          54
         ],
         "xaxis": "x",
         "yaxis": "y"
        },
        {
         "alignmentgroup": "True",
         "bingroup": "x",
         "hovertemplate": "LoanAmount=%{x}<br>count=%{y}<extra></extra>",
         "legendgroup": "89.0",
         "marker": {
          "color": "#FF6692",
          "pattern": {
           "shape": ""
          }
         },
         "name": "89.0",
         "offsetgroup": "89.0",
         "orientation": "v",
         "showlegend": true,
         "type": "histogram",
         "x": [
          89
         ],
         "xaxis": "x",
         "yaxis": "y"
        },
        {
         "alignmentgroup": "True",
         "bingroup": "x",
         "hovertemplate": "LoanAmount=%{x}<br>count=%{y}<extra></extra>",
         "legendgroup": "143.0",
         "marker": {
          "color": "#B6E880",
          "pattern": {
           "shape": ""
          }
         },
         "name": "143.0",
         "offsetgroup": "143.0",
         "orientation": "v",
         "showlegend": true,
         "type": "histogram",
         "x": [
          143,
          143
         ],
         "xaxis": "x",
         "yaxis": "y"
        },
        {
         "alignmentgroup": "True",
         "bingroup": "x",
         "hovertemplate": "LoanAmount=%{x}<br>count=%{y}<extra></extra>",
         "legendgroup": "105.0",
         "marker": {
          "color": "#FF97FF",
          "pattern": {
           "shape": ""
          }
         },
         "name": "105.0",
         "offsetgroup": "105.0",
         "orientation": "v",
         "showlegend": true,
         "type": "histogram",
         "x": [
          105,
          105,
          105,
          105
         ],
         "xaxis": "x",
         "yaxis": "y"
        },
        {
         "alignmentgroup": "True",
         "bingroup": "x",
         "hovertemplate": "LoanAmount=%{x}<br>count=%{y}<extra></extra>",
         "legendgroup": "132.0",
         "marker": {
          "color": "#FECB52",
          "pattern": {
           "shape": ""
          }
         },
         "name": "132.0",
         "offsetgroup": "132.0",
         "orientation": "v",
         "showlegend": true,
         "type": "histogram",
         "x": [
          132,
          132,
          132,
          132,
          132,
          132,
          132
         ],
         "xaxis": "x",
         "yaxis": "y"
        },
        {
         "alignmentgroup": "True",
         "bingroup": "x",
         "hovertemplate": "LoanAmount=%{x}<br>count=%{y}<extra></extra>",
         "legendgroup": "480.0",
         "marker": {
          "color": "#636efa",
          "pattern": {
           "shape": ""
          }
         },
         "name": "480.0",
         "offsetgroup": "480.0",
         "orientation": "v",
         "showlegend": true,
         "type": "histogram",
         "x": [
          480,
          480,
          480
         ],
         "xaxis": "x",
         "yaxis": "y"
        },
        {
         "alignmentgroup": "True",
         "bingroup": "x",
         "hovertemplate": "LoanAmount=%{x}<br>count=%{y}<extra></extra>",
         "legendgroup": "56.0",
         "marker": {
          "color": "#EF553B",
          "pattern": {
           "shape": ""
          }
         },
         "name": "56.0",
         "offsetgroup": "56.0",
         "orientation": "v",
         "showlegend": true,
         "type": "histogram",
         "x": [
          56,
          56
         ],
         "xaxis": "x",
         "yaxis": "y"
        },
        {
         "alignmentgroup": "True",
         "bingroup": "x",
         "hovertemplate": "LoanAmount=%{x}<br>count=%{y}<extra></extra>",
         "legendgroup": "159.0",
         "marker": {
          "color": "#00cc96",
          "pattern": {
           "shape": ""
          }
         },
         "name": "159.0",
         "offsetgroup": "159.0",
         "orientation": "v",
         "showlegend": true,
         "type": "histogram",
         "x": [
          159
         ],
         "xaxis": "x",
         "yaxis": "y"
        },
        {
         "alignmentgroup": "True",
         "bingroup": "x",
         "hovertemplate": "LoanAmount=%{x}<br>count=%{y}<extra></extra>",
         "legendgroup": "300.0",
         "marker": {
          "color": "#ab63fa",
          "pattern": {
           "shape": ""
          }
         },
         "name": "300.0",
         "offsetgroup": "300.0",
         "orientation": "v",
         "showlegend": true,
         "type": "histogram",
         "x": [
          300
         ],
         "xaxis": "x",
         "yaxis": "y"
        },
        {
         "alignmentgroup": "True",
         "bingroup": "x",
         "hovertemplate": "LoanAmount=%{x}<br>count=%{y}<extra></extra>",
         "legendgroup": "376.0",
         "marker": {
          "color": "#FFA15A",
          "pattern": {
           "shape": ""
          }
         },
         "name": "376.0",
         "offsetgroup": "376.0",
         "orientation": "v",
         "showlegend": true,
         "type": "histogram",
         "x": [
          376
         ],
         "xaxis": "x",
         "yaxis": "y"
        },
        {
         "alignmentgroup": "True",
         "bingroup": "x",
         "hovertemplate": "LoanAmount=%{x}<br>count=%{y}<extra></extra>",
         "legendgroup": "117.0",
         "marker": {
          "color": "#19d3f3",
          "pattern": {
           "shape": ""
          }
         },
         "name": "117.0",
         "offsetgroup": "117.0",
         "orientation": "v",
         "showlegend": true,
         "type": "histogram",
         "x": [
          117
         ],
         "xaxis": "x",
         "yaxis": "y"
        },
        {
         "alignmentgroup": "True",
         "bingroup": "x",
         "hovertemplate": "LoanAmount=%{x}<br>count=%{y}<extra></extra>",
         "legendgroup": "71.0",
         "marker": {
          "color": "#FF6692",
          "pattern": {
           "shape": ""
          }
         },
         "name": "71.0",
         "offsetgroup": "71.0",
         "orientation": "v",
         "showlegend": true,
         "type": "histogram",
         "x": [
          71,
          71,
          71,
          71,
          71
         ],
         "xaxis": "x",
         "yaxis": "y"
        },
        {
         "alignmentgroup": "True",
         "bingroup": "x",
         "hovertemplate": "LoanAmount=%{x}<br>count=%{y}<extra></extra>",
         "legendgroup": "490.0",
         "marker": {
          "color": "#B6E880",
          "pattern": {
           "shape": ""
          }
         },
         "name": "490.0",
         "offsetgroup": "490.0",
         "orientation": "v",
         "showlegend": true,
         "type": "histogram",
         "x": [
          490
         ],
         "xaxis": "x",
         "yaxis": "y"
        },
        {
         "alignmentgroup": "True",
         "bingroup": "x",
         "hovertemplate": "LoanAmount=%{x}<br>count=%{y}<extra></extra>",
         "legendgroup": "173.0",
         "marker": {
          "color": "#FF97FF",
          "pattern": {
           "shape": ""
          }
         },
         "name": "173.0",
         "offsetgroup": "173.0",
         "orientation": "v",
         "showlegend": true,
         "type": "histogram",
         "x": [
          173,
          173,
          173
         ],
         "xaxis": "x",
         "yaxis": "y"
        },
        {
         "alignmentgroup": "True",
         "bingroup": "x",
         "hovertemplate": "LoanAmount=%{x}<br>count=%{y}<extra></extra>",
         "legendgroup": "46.0",
         "marker": {
          "color": "#FECB52",
          "pattern": {
           "shape": ""
          }
         },
         "name": "46.0",
         "offsetgroup": "46.0",
         "orientation": "v",
         "showlegend": true,
         "type": "histogram",
         "x": [
          46
         ],
         "xaxis": "x",
         "yaxis": "y"
        },
        {
         "alignmentgroup": "True",
         "bingroup": "x",
         "hovertemplate": "LoanAmount=%{x}<br>count=%{y}<extra></extra>",
         "legendgroup": "228.0",
         "marker": {
          "color": "#636efa",
          "pattern": {
           "shape": ""
          }
         },
         "name": "228.0",
         "offsetgroup": "228.0",
         "orientation": "v",
         "showlegend": true,
         "type": "histogram",
         "x": [
          228
         ],
         "xaxis": "x",
         "yaxis": "y"
        },
        {
         "alignmentgroup": "True",
         "bingroup": "x",
         "hovertemplate": "LoanAmount=%{x}<br>count=%{y}<extra></extra>",
         "legendgroup": "308.0",
         "marker": {
          "color": "#EF553B",
          "pattern": {
           "shape": ""
          }
         },
         "name": "308.0",
         "offsetgroup": "308.0",
         "orientation": "v",
         "showlegend": true,
         "type": "histogram",
         "x": [
          308
         ],
         "xaxis": "x",
         "yaxis": "y"
        },
        {
         "alignmentgroup": "True",
         "bingroup": "x",
         "hovertemplate": "LoanAmount=%{x}<br>count=%{y}<extra></extra>",
         "legendgroup": "236.0",
         "marker": {
          "color": "#00cc96",
          "pattern": {
           "shape": ""
          }
         },
         "name": "236.0",
         "offsetgroup": "236.0",
         "orientation": "v",
         "showlegend": true,
         "type": "histogram",
         "x": [
          236
         ],
         "xaxis": "x",
         "yaxis": "y"
        },
        {
         "alignmentgroup": "True",
         "bingroup": "x",
         "hovertemplate": "LoanAmount=%{x}<br>count=%{y}<extra></extra>",
         "legendgroup": "570.0",
         "marker": {
          "color": "#ab63fa",
          "pattern": {
           "shape": ""
          }
         },
         "name": "570.0",
         "offsetgroup": "570.0",
         "orientation": "v",
         "showlegend": true,
         "type": "histogram",
         "x": [
          570
         ],
         "xaxis": "x",
         "yaxis": "y"
        },
        {
         "alignmentgroup": "True",
         "bingroup": "x",
         "hovertemplate": "LoanAmount=%{x}<br>count=%{y}<extra></extra>",
         "legendgroup": "380.0",
         "marker": {
          "color": "#FFA15A",
          "pattern": {
           "shape": ""
          }
         },
         "name": "380.0",
         "offsetgroup": "380.0",
         "orientation": "v",
         "showlegend": true,
         "type": "histogram",
         "x": [
          380
         ],
         "xaxis": "x",
         "yaxis": "y"
        },
        {
         "alignmentgroup": "True",
         "bingroup": "x",
         "hovertemplate": "LoanAmount=%{x}<br>count=%{y}<extra></extra>",
         "legendgroup": "296.0",
         "marker": {
          "color": "#19d3f3",
          "pattern": {
           "shape": ""
          }
         },
         "name": "296.0",
         "offsetgroup": "296.0",
         "orientation": "v",
         "showlegend": true,
         "type": "histogram",
         "x": [
          296
         ],
         "xaxis": "x",
         "yaxis": "y"
        },
        {
         "alignmentgroup": "True",
         "bingroup": "x",
         "hovertemplate": "LoanAmount=%{x}<br>count=%{y}<extra></extra>",
         "legendgroup": "156.0",
         "marker": {
          "color": "#FF6692",
          "pattern": {
           "shape": ""
          }
         },
         "name": "156.0",
         "offsetgroup": "156.0",
         "orientation": "v",
         "showlegend": true,
         "type": "histogram",
         "x": [
          156
         ],
         "xaxis": "x",
         "yaxis": "y"
        },
        {
         "alignmentgroup": "True",
         "bingroup": "x",
         "hovertemplate": "LoanAmount=%{x}<br>count=%{y}<extra></extra>",
         "legendgroup": "103.0",
         "marker": {
          "color": "#B6E880",
          "pattern": {
           "shape": ""
          }
         },
         "name": "103.0",
         "offsetgroup": "103.0",
         "orientation": "v",
         "showlegend": true,
         "type": "histogram",
         "x": [
          103,
          103,
          103
         ],
         "xaxis": "x",
         "yaxis": "y"
        },
        {
         "alignmentgroup": "True",
         "bingroup": "x",
         "hovertemplate": "LoanAmount=%{x}<br>count=%{y}<extra></extra>",
         "legendgroup": "45.0",
         "marker": {
          "color": "#FF97FF",
          "pattern": {
           "shape": ""
          }
         },
         "name": "45.0",
         "offsetgroup": "45.0",
         "orientation": "v",
         "showlegend": true,
         "type": "histogram",
         "x": [
          45,
          45
         ],
         "xaxis": "x",
         "yaxis": "y"
        },
        {
         "alignmentgroup": "True",
         "bingroup": "x",
         "hovertemplate": "LoanAmount=%{x}<br>count=%{y}<extra></extra>",
         "legendgroup": "65.0",
         "marker": {
          "color": "#FECB52",
          "pattern": {
           "shape": ""
          }
         },
         "name": "65.0",
         "offsetgroup": "65.0",
         "orientation": "v",
         "showlegend": true,
         "type": "histogram",
         "x": [
          65
         ],
         "xaxis": "x",
         "yaxis": "y"
        },
        {
         "alignmentgroup": "True",
         "bingroup": "x",
         "hovertemplate": "LoanAmount=%{x}<br>count=%{y}<extra></extra>",
         "legendgroup": "53.0",
         "marker": {
          "color": "#636efa",
          "pattern": {
           "shape": ""
          }
         },
         "name": "53.0",
         "offsetgroup": "53.0",
         "orientation": "v",
         "showlegend": true,
         "type": "histogram",
         "x": [
          53
         ],
         "xaxis": "x",
         "yaxis": "y"
        },
        {
         "alignmentgroup": "True",
         "bingroup": "x",
         "hovertemplate": "LoanAmount=%{x}<br>count=%{y}<extra></extra>",
         "legendgroup": "360.0",
         "marker": {
          "color": "#EF553B",
          "pattern": {
           "shape": ""
          }
         },
         "name": "360.0",
         "offsetgroup": "360.0",
         "orientation": "v",
         "showlegend": true,
         "type": "histogram",
         "x": [
          360
         ],
         "xaxis": "x",
         "yaxis": "y"
        },
        {
         "alignmentgroup": "True",
         "bingroup": "x",
         "hovertemplate": "LoanAmount=%{x}<br>count=%{y}<extra></extra>",
         "legendgroup": "62.0",
         "marker": {
          "color": "#00cc96",
          "pattern": {
           "shape": ""
          }
         },
         "name": "62.0",
         "offsetgroup": "62.0",
         "orientation": "v",
         "showlegend": true,
         "type": "histogram",
         "x": [
          62
         ],
         "xaxis": "x",
         "yaxis": "y"
        },
        {
         "alignmentgroup": "True",
         "bingroup": "x",
         "hovertemplate": "LoanAmount=%{x}<br>count=%{y}<extra></extra>",
         "legendgroup": "218.0",
         "marker": {
          "color": "#ab63fa",
          "pattern": {
           "shape": ""
          }
         },
         "name": "218.0",
         "offsetgroup": "218.0",
         "orientation": "v",
         "showlegend": true,
         "type": "histogram",
         "x": [
          218
         ],
         "xaxis": "x",
         "yaxis": "y"
        },
        {
         "alignmentgroup": "True",
         "bingroup": "x",
         "hovertemplate": "LoanAmount=%{x}<br>count=%{y}<extra></extra>",
         "legendgroup": "178.0",
         "marker": {
          "color": "#FFA15A",
          "pattern": {
           "shape": ""
          }
         },
         "name": "178.0",
         "offsetgroup": "178.0",
         "orientation": "v",
         "showlegend": true,
         "type": "histogram",
         "x": [
          178
         ],
         "xaxis": "x",
         "yaxis": "y"
        },
        {
         "alignmentgroup": "True",
         "bingroup": "x",
         "hovertemplate": "LoanAmount=%{x}<br>count=%{y}<extra></extra>",
         "legendgroup": "239.0",
         "marker": {
          "color": "#19d3f3",
          "pattern": {
           "shape": ""
          }
         },
         "name": "239.0",
         "offsetgroup": "239.0",
         "orientation": "v",
         "showlegend": true,
         "type": "histogram",
         "x": [
          239
         ],
         "xaxis": "x",
         "yaxis": "y"
        },
        {
         "alignmentgroup": "True",
         "bingroup": "x",
         "hovertemplate": "LoanAmount=%{x}<br>count=%{y}<extra></extra>",
         "legendgroup": "405.0",
         "marker": {
          "color": "#FF6692",
          "pattern": {
           "shape": ""
          }
         },
         "name": "405.0",
         "offsetgroup": "405.0",
         "orientation": "v",
         "showlegend": true,
         "type": "histogram",
         "x": [
          405
         ],
         "xaxis": "x",
         "yaxis": "y"
        },
        {
         "alignmentgroup": "True",
         "bingroup": "x",
         "hovertemplate": "LoanAmount=%{x}<br>count=%{y}<extra></extra>",
         "legendgroup": "148.0",
         "marker": {
          "color": "#B6E880",
          "pattern": {
           "shape": ""
          }
         },
         "name": "148.0",
         "offsetgroup": "148.0",
         "orientation": "v",
         "showlegend": true,
         "type": "histogram",
         "x": [
          148,
          148
         ],
         "xaxis": "x",
         "yaxis": "y"
        },
        {
         "alignmentgroup": "True",
         "bingroup": "x",
         "hovertemplate": "LoanAmount=%{x}<br>count=%{y}<extra></extra>",
         "legendgroup": "190.0",
         "marker": {
          "color": "#FF97FF",
          "pattern": {
           "shape": ""
          }
         },
         "name": "190.0",
         "offsetgroup": "190.0",
         "orientation": "v",
         "showlegend": true,
         "type": "histogram",
         "x": [
          190
         ],
         "xaxis": "x",
         "yaxis": "y"
        },
        {
         "alignmentgroup": "True",
         "bingroup": "x",
         "hovertemplate": "LoanAmount=%{x}<br>count=%{y}<extra></extra>",
         "legendgroup": "149.0",
         "marker": {
          "color": "#FECB52",
          "pattern": {
           "shape": ""
          }
         },
         "name": "149.0",
         "offsetgroup": "149.0",
         "orientation": "v",
         "showlegend": true,
         "type": "histogram",
         "x": [
          149
         ],
         "xaxis": "x",
         "yaxis": "y"
        },
        {
         "alignmentgroup": "True",
         "bingroup": "x",
         "hovertemplate": "LoanAmount=%{x}<br>count=%{y}<extra></extra>",
         "legendgroup": "153.0",
         "marker": {
          "color": "#636efa",
          "pattern": {
           "shape": ""
          }
         },
         "name": "153.0",
         "offsetgroup": "153.0",
         "orientation": "v",
         "showlegend": true,
         "type": "histogram",
         "x": [
          153
         ],
         "xaxis": "x",
         "yaxis": "y"
        },
        {
         "alignmentgroup": "True",
         "bingroup": "x",
         "hovertemplate": "LoanAmount=%{x}<br>count=%{y}<extra></extra>",
         "legendgroup": "162.0",
         "marker": {
          "color": "#EF553B",
          "pattern": {
           "shape": ""
          }
         },
         "name": "162.0",
         "offsetgroup": "162.0",
         "orientation": "v",
         "showlegend": true,
         "type": "histogram",
         "x": [
          162,
          162,
          162
         ],
         "xaxis": "x",
         "yaxis": "y"
        },
        {
         "alignmentgroup": "True",
         "bingroup": "x",
         "hovertemplate": "LoanAmount=%{x}<br>count=%{y}<extra></extra>",
         "legendgroup": "230.0",
         "marker": {
          "color": "#00cc96",
          "pattern": {
           "shape": ""
          }
         },
         "name": "230.0",
         "offsetgroup": "230.0",
         "orientation": "v",
         "showlegend": true,
         "type": "histogram",
         "x": [
          230
         ],
         "xaxis": "x",
         "yaxis": "y"
        },
        {
         "alignmentgroup": "True",
         "bingroup": "x",
         "hovertemplate": "LoanAmount=%{x}<br>count=%{y}<extra></extra>",
         "legendgroup": "86.0",
         "marker": {
          "color": "#ab63fa",
          "pattern": {
           "shape": ""
          }
         },
         "name": "86.0",
         "offsetgroup": "86.0",
         "orientation": "v",
         "showlegend": true,
         "type": "histogram",
         "x": [
          86
         ],
         "xaxis": "x",
         "yaxis": "y"
        },
        {
         "alignmentgroup": "True",
         "bingroup": "x",
         "hovertemplate": "LoanAmount=%{x}<br>count=%{y}<extra></extra>",
         "legendgroup": "234.0",
         "marker": {
          "color": "#FFA15A",
          "pattern": {
           "shape": ""
          }
         },
         "name": "234.0",
         "offsetgroup": "234.0",
         "orientation": "v",
         "showlegend": true,
         "type": "histogram",
         "x": [
          234
         ],
         "xaxis": "x",
         "yaxis": "y"
        },
        {
         "alignmentgroup": "True",
         "bingroup": "x",
         "hovertemplate": "LoanAmount=%{x}<br>count=%{y}<extra></extra>",
         "legendgroup": "246.0",
         "marker": {
          "color": "#19d3f3",
          "pattern": {
           "shape": ""
          }
         },
         "name": "246.0",
         "offsetgroup": "246.0",
         "orientation": "v",
         "showlegend": true,
         "type": "histogram",
         "x": [
          246
         ],
         "xaxis": "x",
         "yaxis": "y"
        },
        {
         "alignmentgroup": "True",
         "bingroup": "x",
         "hovertemplate": "LoanAmount=%{x}<br>count=%{y}<extra></extra>",
         "legendgroup": "500.0",
         "marker": {
          "color": "#FF6692",
          "pattern": {
           "shape": ""
          }
         },
         "name": "500.0",
         "offsetgroup": "500.0",
         "orientation": "v",
         "showlegend": true,
         "type": "histogram",
         "x": [
          500
         ],
         "xaxis": "x",
         "yaxis": "y"
        },
        {
         "alignmentgroup": "True",
         "bingroup": "x",
         "hovertemplate": "LoanAmount=%{x}<br>count=%{y}<extra></extra>",
         "legendgroup": "186.0",
         "marker": {
          "color": "#B6E880",
          "pattern": {
           "shape": ""
          }
         },
         "name": "186.0",
         "offsetgroup": "186.0",
         "orientation": "v",
         "showlegend": true,
         "type": "histogram",
         "x": [
          186,
          186
         ],
         "xaxis": "x",
         "yaxis": "y"
        },
        {
         "alignmentgroup": "True",
         "bingroup": "x",
         "hovertemplate": "LoanAmount=%{x}<br>count=%{y}<extra></extra>",
         "legendgroup": "119.0",
         "marker": {
          "color": "#FF97FF",
          "pattern": {
           "shape": ""
          }
         },
         "name": "119.0",
         "offsetgroup": "119.0",
         "orientation": "v",
         "showlegend": true,
         "type": "histogram",
         "x": [
          119
         ],
         "xaxis": "x",
         "yaxis": "y"
        },
        {
         "alignmentgroup": "True",
         "bingroup": "x",
         "hovertemplate": "LoanAmount=%{x}<br>count=%{y}<extra></extra>",
         "legendgroup": "107.0",
         "marker": {
          "color": "#FECB52",
          "pattern": {
           "shape": ""
          }
         },
         "name": "107.0",
         "offsetgroup": "107.0",
         "orientation": "v",
         "showlegend": true,
         "type": "histogram",
         "x": [
          107,
          107,
          107
         ],
         "xaxis": "x",
         "yaxis": "y"
        },
        {
         "alignmentgroup": "True",
         "bingroup": "x",
         "hovertemplate": "LoanAmount=%{x}<br>count=%{y}<extra></extra>",
         "legendgroup": "209.0",
         "marker": {
          "color": "#636efa",
          "pattern": {
           "shape": ""
          }
         },
         "name": "209.0",
         "offsetgroup": "209.0",
         "orientation": "v",
         "showlegend": true,
         "type": "histogram",
         "x": [
          209
         ],
         "xaxis": "x",
         "yaxis": "y"
        },
        {
         "alignmentgroup": "True",
         "bingroup": "x",
         "hovertemplate": "LoanAmount=%{x}<br>count=%{y}<extra></extra>",
         "legendgroup": "208.0",
         "marker": {
          "color": "#EF553B",
          "pattern": {
           "shape": ""
          }
         },
         "name": "208.0",
         "offsetgroup": "208.0",
         "orientation": "v",
         "showlegend": true,
         "type": "histogram",
         "x": [
          208
         ],
         "xaxis": "x",
         "yaxis": "y"
        },
        {
         "alignmentgroup": "True",
         "bingroup": "x",
         "hovertemplate": "LoanAmount=%{x}<br>count=%{y}<extra></extra>",
         "legendgroup": "243.0",
         "marker": {
          "color": "#00cc96",
          "pattern": {
           "shape": ""
          }
         },
         "name": "243.0",
         "offsetgroup": "243.0",
         "orientation": "v",
         "showlegend": true,
         "type": "histogram",
         "x": [
          243
         ],
         "xaxis": "x",
         "yaxis": "y"
        },
        {
         "alignmentgroup": "True",
         "bingroup": "x",
         "hovertemplate": "LoanAmount=%{x}<br>count=%{y}<extra></extra>",
         "legendgroup": "40.0",
         "marker": {
          "color": "#ab63fa",
          "pattern": {
           "shape": ""
          }
         },
         "name": "40.0",
         "offsetgroup": "40.0",
         "orientation": "v",
         "showlegend": true,
         "type": "histogram",
         "x": [
          40,
          40
         ],
         "xaxis": "x",
         "yaxis": "y"
        },
        {
         "alignmentgroup": "True",
         "bingroup": "x",
         "hovertemplate": "LoanAmount=%{x}<br>count=%{y}<extra></extra>",
         "legendgroup": "250.0",
         "marker": {
          "color": "#FFA15A",
          "pattern": {
           "shape": ""
          }
         },
         "name": "250.0",
         "offsetgroup": "250.0",
         "orientation": "v",
         "showlegend": true,
         "type": "histogram",
         "x": [
          250
         ],
         "xaxis": "x",
         "yaxis": "y"
        },
        {
         "alignmentgroup": "True",
         "bingroup": "x",
         "hovertemplate": "LoanAmount=%{x}<br>count=%{y}<extra></extra>",
         "legendgroup": "311.0",
         "marker": {
          "color": "#19d3f3",
          "pattern": {
           "shape": ""
          }
         },
         "name": "311.0",
         "offsetgroup": "311.0",
         "orientation": "v",
         "showlegend": true,
         "type": "histogram",
         "x": [
          311
         ],
         "xaxis": "x",
         "yaxis": "y"
        },
        {
         "alignmentgroup": "True",
         "bingroup": "x",
         "hovertemplate": "LoanAmount=%{x}<br>count=%{y}<extra></extra>",
         "legendgroup": "400.0",
         "marker": {
          "color": "#FF6692",
          "pattern": {
           "shape": ""
          }
         },
         "name": "400.0",
         "offsetgroup": "400.0",
         "orientation": "v",
         "showlegend": true,
         "type": "histogram",
         "x": [
          400
         ],
         "xaxis": "x",
         "yaxis": "y"
        },
        {
         "alignmentgroup": "True",
         "bingroup": "x",
         "hovertemplate": "LoanAmount=%{x}<br>count=%{y}<extra></extra>",
         "legendgroup": "161.0",
         "marker": {
          "color": "#B6E880",
          "pattern": {
           "shape": ""
          }
         },
         "name": "161.0",
         "offsetgroup": "161.0",
         "orientation": "v",
         "showlegend": true,
         "type": "histogram",
         "x": [
          161,
          161
         ],
         "xaxis": "x",
         "yaxis": "y"
        },
        {
         "alignmentgroup": "True",
         "bingroup": "x",
         "hovertemplate": "LoanAmount=%{x}<br>count=%{y}<extra></extra>",
         "legendgroup": "196.0",
         "marker": {
          "color": "#FF97FF",
          "pattern": {
           "shape": ""
          }
         },
         "name": "196.0",
         "offsetgroup": "196.0",
         "orientation": "v",
         "showlegend": true,
         "type": "histogram",
         "x": [
          196
         ],
         "xaxis": "x",
         "yaxis": "y"
        },
        {
         "alignmentgroup": "True",
         "bingroup": "x",
         "hovertemplate": "LoanAmount=%{x}<br>count=%{y}<extra></extra>",
         "legendgroup": "324.0",
         "marker": {
          "color": "#FECB52",
          "pattern": {
           "shape": ""
          }
         },
         "name": "324.0",
         "offsetgroup": "324.0",
         "orientation": "v",
         "showlegend": true,
         "type": "histogram",
         "x": [
          324
         ],
         "xaxis": "x",
         "yaxis": "y"
        },
        {
         "alignmentgroup": "True",
         "bingroup": "x",
         "hovertemplate": "LoanAmount=%{x}<br>count=%{y}<extra></extra>",
         "legendgroup": "157.0",
         "marker": {
          "color": "#636efa",
          "pattern": {
           "shape": ""
          }
         },
         "name": "157.0",
         "offsetgroup": "157.0",
         "orientation": "v",
         "showlegend": true,
         "type": "histogram",
         "x": [
          157,
          157
         ],
         "xaxis": "x",
         "yaxis": "y"
        },
        {
         "alignmentgroup": "True",
         "bingroup": "x",
         "hovertemplate": "LoanAmount=%{x}<br>count=%{y}<extra></extra>",
         "legendgroup": "145.0",
         "marker": {
          "color": "#EF553B",
          "pattern": {
           "shape": ""
          }
         },
         "name": "145.0",
         "offsetgroup": "145.0",
         "orientation": "v",
         "showlegend": true,
         "type": "histogram",
         "x": [
          145
         ],
         "xaxis": "x",
         "yaxis": "y"
        },
        {
         "alignmentgroup": "True",
         "bingroup": "x",
         "hovertemplate": "LoanAmount=%{x}<br>count=%{y}<extra></extra>",
         "legendgroup": "181.0",
         "marker": {
          "color": "#00cc96",
          "pattern": {
           "shape": ""
          }
         },
         "name": "181.0",
         "offsetgroup": "181.0",
         "orientation": "v",
         "showlegend": true,
         "type": "histogram",
         "x": [
          181
         ],
         "xaxis": "x",
         "yaxis": "y"
        },
        {
         "alignmentgroup": "True",
         "bingroup": "x",
         "hovertemplate": "LoanAmount=%{x}<br>count=%{y}<extra></extra>",
         "legendgroup": "26.0",
         "marker": {
          "color": "#ab63fa",
          "pattern": {
           "shape": ""
          }
         },
         "name": "26.0",
         "offsetgroup": "26.0",
         "orientation": "v",
         "showlegend": true,
         "type": "histogram",
         "x": [
          26
         ],
         "xaxis": "x",
         "yaxis": "y"
        },
        {
         "alignmentgroup": "True",
         "bingroup": "x",
         "hovertemplate": "LoanAmount=%{x}<br>count=%{y}<extra></extra>",
         "legendgroup": "211.0",
         "marker": {
          "color": "#FFA15A",
          "pattern": {
           "shape": ""
          }
         },
         "name": "211.0",
         "offsetgroup": "211.0",
         "orientation": "v",
         "showlegend": true,
         "type": "histogram",
         "x": [
          211
         ],
         "xaxis": "x",
         "yaxis": "y"
        },
        {
         "alignmentgroup": "True",
         "bingroup": "x",
         "hovertemplate": "LoanAmount=%{x}<br>count=%{y}<extra></extra>",
         "legendgroup": "9.0",
         "marker": {
          "color": "#19d3f3",
          "pattern": {
           "shape": ""
          }
         },
         "name": "9.0",
         "offsetgroup": "9.0",
         "orientation": "v",
         "showlegend": true,
         "type": "histogram",
         "x": [
          9
         ],
         "xaxis": "x",
         "yaxis": "y"
        },
        {
         "alignmentgroup": "True",
         "bingroup": "x",
         "hovertemplate": "LoanAmount=%{x}<br>count=%{y}<extra></extra>",
         "legendgroup": "205.0",
         "marker": {
          "color": "#FF6692",
          "pattern": {
           "shape": ""
          }
         },
         "name": "205.0",
         "offsetgroup": "205.0",
         "orientation": "v",
         "showlegend": true,
         "type": "histogram",
         "x": [
          205,
          205
         ],
         "xaxis": "x",
         "yaxis": "y"
        },
        {
         "alignmentgroup": "True",
         "bingroup": "x",
         "hovertemplate": "LoanAmount=%{x}<br>count=%{y}<extra></extra>",
         "legendgroup": "36.0",
         "marker": {
          "color": "#B6E880",
          "pattern": {
           "shape": ""
          }
         },
         "name": "36.0",
         "offsetgroup": "36.0",
         "orientation": "v",
         "showlegend": true,
         "type": "histogram",
         "x": [
          36
         ],
         "xaxis": "x",
         "yaxis": "y"
        },
        {
         "alignmentgroup": "True",
         "bingroup": "x",
         "hovertemplate": "LoanAmount=%{x}<br>count=%{y}<extra></extra>",
         "legendgroup": "61.0",
         "marker": {
          "color": "#FF97FF",
          "pattern": {
           "shape": ""
          }
         },
         "name": "61.0",
         "offsetgroup": "61.0",
         "orientation": "v",
         "showlegend": true,
         "type": "histogram",
         "x": [
          61
         ],
         "xaxis": "x",
         "yaxis": "y"
        },
        {
         "alignmentgroup": "True",
         "bingroup": "x",
         "hovertemplate": "LoanAmount=%{x}<br>count=%{y}<extra></extra>",
         "legendgroup": "146.0",
         "marker": {
          "color": "#FECB52",
          "pattern": {
           "shape": ""
          }
         },
         "name": "146.0",
         "offsetgroup": "146.0",
         "orientation": "v",
         "showlegend": true,
         "type": "histogram",
         "x": [
          146
         ],
         "xaxis": "x",
         "yaxis": "y"
        },
        {
         "alignmentgroup": "True",
         "bingroup": "x",
         "hovertemplate": "LoanAmount=%{x}<br>count=%{y}<extra></extra>",
         "legendgroup": "292.0",
         "marker": {
          "color": "#636efa",
          "pattern": {
           "shape": ""
          }
         },
         "name": "292.0",
         "offsetgroup": "292.0",
         "orientation": "v",
         "showlegend": true,
         "type": "histogram",
         "x": [
          292
         ],
         "xaxis": "x",
         "yaxis": "y"
        },
        {
         "alignmentgroup": "True",
         "bingroup": "x",
         "hovertemplate": "LoanAmount=%{x}<br>count=%{y}<extra></extra>",
         "legendgroup": "142.0",
         "marker": {
          "color": "#EF553B",
          "pattern": {
           "shape": ""
          }
         },
         "name": "142.0",
         "offsetgroup": "142.0",
         "orientation": "v",
         "showlegend": true,
         "type": "histogram",
         "x": [
          142
         ],
         "xaxis": "x",
         "yaxis": "y"
        },
        {
         "alignmentgroup": "True",
         "bingroup": "x",
         "hovertemplate": "LoanAmount=%{x}<br>count=%{y}<extra></extra>",
         "legendgroup": "350.0",
         "marker": {
          "color": "#00cc96",
          "pattern": {
           "shape": ""
          }
         },
         "name": "350.0",
         "offsetgroup": "350.0",
         "orientation": "v",
         "showlegend": true,
         "type": "histogram",
         "x": [
          350
         ],
         "xaxis": "x",
         "yaxis": "y"
        },
        {
         "alignmentgroup": "True",
         "bingroup": "x",
         "hovertemplate": "LoanAmount=%{x}<br>count=%{y}<extra></extra>",
         "legendgroup": "496.0",
         "marker": {
          "color": "#ab63fa",
          "pattern": {
           "shape": ""
          }
         },
         "name": "496.0",
         "offsetgroup": "496.0",
         "orientation": "v",
         "showlegend": true,
         "type": "histogram",
         "x": [
          496
         ],
         "xaxis": "x",
         "yaxis": "y"
        },
        {
         "alignmentgroup": "True",
         "bingroup": "x",
         "hovertemplate": "LoanAmount=%{x}<br>count=%{y}<extra></extra>",
         "legendgroup": "253.0",
         "marker": {
          "color": "#FFA15A",
          "pattern": {
           "shape": ""
          }
         },
         "name": "253.0",
         "offsetgroup": "253.0",
         "orientation": "v",
         "showlegend": true,
         "type": "histogram",
         "x": [
          253
         ],
         "xaxis": "x",
         "yaxis": "y"
        }
       ],
       "layout": {
        "barmode": "relative",
        "legend": {
         "title": {
          "text": "LoanAmount"
         },
         "tracegroupgap": 0
        },
        "margin": {
         "t": 60
        },
        "template": {
         "data": {
          "bar": [
           {
            "error_x": {
             "color": "#2a3f5f"
            },
            "error_y": {
             "color": "#2a3f5f"
            },
            "marker": {
             "line": {
              "color": "#E5ECF6",
              "width": 0.5
             },
             "pattern": {
              "fillmode": "overlay",
              "size": 10,
              "solidity": 0.2
             }
            },
            "type": "bar"
           }
          ],
          "barpolar": [
           {
            "marker": {
             "line": {
              "color": "#E5ECF6",
              "width": 0.5
             },
             "pattern": {
              "fillmode": "overlay",
              "size": 10,
              "solidity": 0.2
             }
            },
            "type": "barpolar"
           }
          ],
          "carpet": [
           {
            "aaxis": {
             "endlinecolor": "#2a3f5f",
             "gridcolor": "white",
             "linecolor": "white",
             "minorgridcolor": "white",
             "startlinecolor": "#2a3f5f"
            },
            "baxis": {
             "endlinecolor": "#2a3f5f",
             "gridcolor": "white",
             "linecolor": "white",
             "minorgridcolor": "white",
             "startlinecolor": "#2a3f5f"
            },
            "type": "carpet"
           }
          ],
          "choropleth": [
           {
            "colorbar": {
             "outlinewidth": 0,
             "ticks": ""
            },
            "type": "choropleth"
           }
          ],
          "contour": [
           {
            "colorbar": {
             "outlinewidth": 0,
             "ticks": ""
            },
            "colorscale": [
             [
              0,
              "#0d0887"
             ],
             [
              0.1111111111111111,
              "#46039f"
             ],
             [
              0.2222222222222222,
              "#7201a8"
             ],
             [
              0.3333333333333333,
              "#9c179e"
             ],
             [
              0.4444444444444444,
              "#bd3786"
             ],
             [
              0.5555555555555556,
              "#d8576b"
             ],
             [
              0.6666666666666666,
              "#ed7953"
             ],
             [
              0.7777777777777778,
              "#fb9f3a"
             ],
             [
              0.8888888888888888,
              "#fdca26"
             ],
             [
              1,
              "#f0f921"
             ]
            ],
            "type": "contour"
           }
          ],
          "contourcarpet": [
           {
            "colorbar": {
             "outlinewidth": 0,
             "ticks": ""
            },
            "type": "contourcarpet"
           }
          ],
          "heatmap": [
           {
            "colorbar": {
             "outlinewidth": 0,
             "ticks": ""
            },
            "colorscale": [
             [
              0,
              "#0d0887"
             ],
             [
              0.1111111111111111,
              "#46039f"
             ],
             [
              0.2222222222222222,
              "#7201a8"
             ],
             [
              0.3333333333333333,
              "#9c179e"
             ],
             [
              0.4444444444444444,
              "#bd3786"
             ],
             [
              0.5555555555555556,
              "#d8576b"
             ],
             [
              0.6666666666666666,
              "#ed7953"
             ],
             [
              0.7777777777777778,
              "#fb9f3a"
             ],
             [
              0.8888888888888888,
              "#fdca26"
             ],
             [
              1,
              "#f0f921"
             ]
            ],
            "type": "heatmap"
           }
          ],
          "heatmapgl": [
           {
            "colorbar": {
             "outlinewidth": 0,
             "ticks": ""
            },
            "colorscale": [
             [
              0,
              "#0d0887"
             ],
             [
              0.1111111111111111,
              "#46039f"
             ],
             [
              0.2222222222222222,
              "#7201a8"
             ],
             [
              0.3333333333333333,
              "#9c179e"
             ],
             [
              0.4444444444444444,
              "#bd3786"
             ],
             [
              0.5555555555555556,
              "#d8576b"
             ],
             [
              0.6666666666666666,
              "#ed7953"
             ],
             [
              0.7777777777777778,
              "#fb9f3a"
             ],
             [
              0.8888888888888888,
              "#fdca26"
             ],
             [
              1,
              "#f0f921"
             ]
            ],
            "type": "heatmapgl"
           }
          ],
          "histogram": [
           {
            "marker": {
             "pattern": {
              "fillmode": "overlay",
              "size": 10,
              "solidity": 0.2
             }
            },
            "type": "histogram"
           }
          ],
          "histogram2d": [
           {
            "colorbar": {
             "outlinewidth": 0,
             "ticks": ""
            },
            "colorscale": [
             [
              0,
              "#0d0887"
             ],
             [
              0.1111111111111111,
              "#46039f"
             ],
             [
              0.2222222222222222,
              "#7201a8"
             ],
             [
              0.3333333333333333,
              "#9c179e"
             ],
             [
              0.4444444444444444,
              "#bd3786"
             ],
             [
              0.5555555555555556,
              "#d8576b"
             ],
             [
              0.6666666666666666,
              "#ed7953"
             ],
             [
              0.7777777777777778,
              "#fb9f3a"
             ],
             [
              0.8888888888888888,
              "#fdca26"
             ],
             [
              1,
              "#f0f921"
             ]
            ],
            "type": "histogram2d"
           }
          ],
          "histogram2dcontour": [
           {
            "colorbar": {
             "outlinewidth": 0,
             "ticks": ""
            },
            "colorscale": [
             [
              0,
              "#0d0887"
             ],
             [
              0.1111111111111111,
              "#46039f"
             ],
             [
              0.2222222222222222,
              "#7201a8"
             ],
             [
              0.3333333333333333,
              "#9c179e"
             ],
             [
              0.4444444444444444,
              "#bd3786"
             ],
             [
              0.5555555555555556,
              "#d8576b"
             ],
             [
              0.6666666666666666,
              "#ed7953"
             ],
             [
              0.7777777777777778,
              "#fb9f3a"
             ],
             [
              0.8888888888888888,
              "#fdca26"
             ],
             [
              1,
              "#f0f921"
             ]
            ],
            "type": "histogram2dcontour"
           }
          ],
          "mesh3d": [
           {
            "colorbar": {
             "outlinewidth": 0,
             "ticks": ""
            },
            "type": "mesh3d"
           }
          ],
          "parcoords": [
           {
            "line": {
             "colorbar": {
              "outlinewidth": 0,
              "ticks": ""
             }
            },
            "type": "parcoords"
           }
          ],
          "pie": [
           {
            "automargin": true,
            "type": "pie"
           }
          ],
          "scatter": [
           {
            "fillpattern": {
             "fillmode": "overlay",
             "size": 10,
             "solidity": 0.2
            },
            "type": "scatter"
           }
          ],
          "scatter3d": [
           {
            "line": {
             "colorbar": {
              "outlinewidth": 0,
              "ticks": ""
             }
            },
            "marker": {
             "colorbar": {
              "outlinewidth": 0,
              "ticks": ""
             }
            },
            "type": "scatter3d"
           }
          ],
          "scattercarpet": [
           {
            "marker": {
             "colorbar": {
              "outlinewidth": 0,
              "ticks": ""
             }
            },
            "type": "scattercarpet"
           }
          ],
          "scattergeo": [
           {
            "marker": {
             "colorbar": {
              "outlinewidth": 0,
              "ticks": ""
             }
            },
            "type": "scattergeo"
           }
          ],
          "scattergl": [
           {
            "marker": {
             "colorbar": {
              "outlinewidth": 0,
              "ticks": ""
             }
            },
            "type": "scattergl"
           }
          ],
          "scattermapbox": [
           {
            "marker": {
             "colorbar": {
              "outlinewidth": 0,
              "ticks": ""
             }
            },
            "type": "scattermapbox"
           }
          ],
          "scatterpolar": [
           {
            "marker": {
             "colorbar": {
              "outlinewidth": 0,
              "ticks": ""
             }
            },
            "type": "scatterpolar"
           }
          ],
          "scatterpolargl": [
           {
            "marker": {
             "colorbar": {
              "outlinewidth": 0,
              "ticks": ""
             }
            },
            "type": "scatterpolargl"
           }
          ],
          "scatterternary": [
           {
            "marker": {
             "colorbar": {
              "outlinewidth": 0,
              "ticks": ""
             }
            },
            "type": "scatterternary"
           }
          ],
          "surface": [
           {
            "colorbar": {
             "outlinewidth": 0,
             "ticks": ""
            },
            "colorscale": [
             [
              0,
              "#0d0887"
             ],
             [
              0.1111111111111111,
              "#46039f"
             ],
             [
              0.2222222222222222,
              "#7201a8"
             ],
             [
              0.3333333333333333,
              "#9c179e"
             ],
             [
              0.4444444444444444,
              "#bd3786"
             ],
             [
              0.5555555555555556,
              "#d8576b"
             ],
             [
              0.6666666666666666,
              "#ed7953"
             ],
             [
              0.7777777777777778,
              "#fb9f3a"
             ],
             [
              0.8888888888888888,
              "#fdca26"
             ],
             [
              1,
              "#f0f921"
             ]
            ],
            "type": "surface"
           }
          ],
          "table": [
           {
            "cells": {
             "fill": {
              "color": "#EBF0F8"
             },
             "line": {
              "color": "white"
             }
            },
            "header": {
             "fill": {
              "color": "#C8D4E3"
             },
             "line": {
              "color": "white"
             }
            },
            "type": "table"
           }
          ]
         },
         "layout": {
          "annotationdefaults": {
           "arrowcolor": "#2a3f5f",
           "arrowhead": 0,
           "arrowwidth": 1
          },
          "autotypenumbers": "strict",
          "coloraxis": {
           "colorbar": {
            "outlinewidth": 0,
            "ticks": ""
           }
          },
          "colorscale": {
           "diverging": [
            [
             0,
             "#8e0152"
            ],
            [
             0.1,
             "#c51b7d"
            ],
            [
             0.2,
             "#de77ae"
            ],
            [
             0.3,
             "#f1b6da"
            ],
            [
             0.4,
             "#fde0ef"
            ],
            [
             0.5,
             "#f7f7f7"
            ],
            [
             0.6,
             "#e6f5d0"
            ],
            [
             0.7,
             "#b8e186"
            ],
            [
             0.8,
             "#7fbc41"
            ],
            [
             0.9,
             "#4d9221"
            ],
            [
             1,
             "#276419"
            ]
           ],
           "sequential": [
            [
             0,
             "#0d0887"
            ],
            [
             0.1111111111111111,
             "#46039f"
            ],
            [
             0.2222222222222222,
             "#7201a8"
            ],
            [
             0.3333333333333333,
             "#9c179e"
            ],
            [
             0.4444444444444444,
             "#bd3786"
            ],
            [
             0.5555555555555556,
             "#d8576b"
            ],
            [
             0.6666666666666666,
             "#ed7953"
            ],
            [
             0.7777777777777778,
             "#fb9f3a"
            ],
            [
             0.8888888888888888,
             "#fdca26"
            ],
            [
             1,
             "#f0f921"
            ]
           ],
           "sequentialminus": [
            [
             0,
             "#0d0887"
            ],
            [
             0.1111111111111111,
             "#46039f"
            ],
            [
             0.2222222222222222,
             "#7201a8"
            ],
            [
             0.3333333333333333,
             "#9c179e"
            ],
            [
             0.4444444444444444,
             "#bd3786"
            ],
            [
             0.5555555555555556,
             "#d8576b"
            ],
            [
             0.6666666666666666,
             "#ed7953"
            ],
            [
             0.7777777777777778,
             "#fb9f3a"
            ],
            [
             0.8888888888888888,
             "#fdca26"
            ],
            [
             1,
             "#f0f921"
            ]
           ]
          },
          "colorway": [
           "#636efa",
           "#EF553B",
           "#00cc96",
           "#ab63fa",
           "#FFA15A",
           "#19d3f3",
           "#FF6692",
           "#B6E880",
           "#FF97FF",
           "#FECB52"
          ],
          "font": {
           "color": "#2a3f5f"
          },
          "geo": {
           "bgcolor": "white",
           "lakecolor": "white",
           "landcolor": "#E5ECF6",
           "showlakes": true,
           "showland": true,
           "subunitcolor": "white"
          },
          "hoverlabel": {
           "align": "left"
          },
          "hovermode": "closest",
          "mapbox": {
           "style": "light"
          },
          "paper_bgcolor": "white",
          "plot_bgcolor": "#E5ECF6",
          "polar": {
           "angularaxis": {
            "gridcolor": "white",
            "linecolor": "white",
            "ticks": ""
           },
           "bgcolor": "#E5ECF6",
           "radialaxis": {
            "gridcolor": "white",
            "linecolor": "white",
            "ticks": ""
           }
          },
          "scene": {
           "xaxis": {
            "backgroundcolor": "#E5ECF6",
            "gridcolor": "white",
            "gridwidth": 2,
            "linecolor": "white",
            "showbackground": true,
            "ticks": "",
            "zerolinecolor": "white"
           },
           "yaxis": {
            "backgroundcolor": "#E5ECF6",
            "gridcolor": "white",
            "gridwidth": 2,
            "linecolor": "white",
            "showbackground": true,
            "ticks": "",
            "zerolinecolor": "white"
           },
           "zaxis": {
            "backgroundcolor": "#E5ECF6",
            "gridcolor": "white",
            "gridwidth": 2,
            "linecolor": "white",
            "showbackground": true,
            "ticks": "",
            "zerolinecolor": "white"
           }
          },
          "shapedefaults": {
           "line": {
            "color": "#2a3f5f"
           }
          },
          "ternary": {
           "aaxis": {
            "gridcolor": "white",
            "linecolor": "white",
            "ticks": ""
           },
           "baxis": {
            "gridcolor": "white",
            "linecolor": "white",
            "ticks": ""
           },
           "bgcolor": "#E5ECF6",
           "caxis": {
            "gridcolor": "white",
            "linecolor": "white",
            "ticks": ""
           }
          },
          "title": {
           "x": 0.05
          },
          "xaxis": {
           "automargin": true,
           "gridcolor": "white",
           "linecolor": "white",
           "ticks": "",
           "title": {
            "standoff": 15
           },
           "zerolinecolor": "white",
           "zerolinewidth": 2
          },
          "yaxis": {
           "automargin": true,
           "gridcolor": "white",
           "linecolor": "white",
           "ticks": "",
           "title": {
            "standoff": 15
           },
           "zerolinecolor": "white",
           "zerolinewidth": 2
          }
         }
        },
        "xaxis": {
         "anchor": "y",
         "categoryarray": [
          120,
          128,
          66,
          141,
          267,
          95,
          158,
          168,
          349,
          70,
          109,
          200,
          114,
          17,
          125,
          100,
          76,
          133,
          115,
          104,
          315,
          116,
          112,
          151,
          191,
          122,
          110,
          35,
          201,
          74,
          106,
          320,
          146.36762225969645,
          144,
          184,
          80,
          47,
          75,
          134,
          96,
          88,
          44,
          286,
          97,
          135,
          180,
          99,
          165,
          258,
          126,
          312,
          136,
          172,
          81,
          187,
          113,
          176,
          130,
          111,
          167,
          265,
          50,
          210,
          175,
          131,
          188,
          25,
          137,
          160,
          225,
          216,
          94,
          139,
          152,
          118,
          185,
          154,
          85,
          259,
          194,
          93,
          370,
          182,
          650,
          102,
          290,
          84,
          242,
          129,
          30,
          244,
          600,
          255,
          98,
          275,
          121,
          63,
          700,
          87,
          101,
          495,
          67,
          73,
          260,
          108,
          58,
          48,
          164,
          170,
          83,
          90,
          166,
          124,
          55,
          59,
          127,
          214,
          240,
          72,
          60,
          138,
          42,
          280,
          140,
          155,
          123,
          279,
          192,
          304,
          330,
          150,
          207,
          436,
          78,
          54,
          89,
          143,
          105,
          132,
          480,
          56,
          159,
          300,
          376,
          117,
          71,
          490,
          173,
          46,
          228,
          308,
          236,
          570,
          380,
          296,
          156,
          103,
          45,
          65,
          53,
          360,
          62,
          218,
          178,
          239,
          405,
          148,
          190,
          149,
          153,
          162,
          230,
          86,
          234,
          246,
          500,
          186,
          119,
          107,
          209,
          208,
          243,
          40,
          250,
          311,
          400,
          161,
          196,
          324,
          157,
          145,
          181,
          26,
          211,
          9,
          205,
          36,
          61,
          146,
          292,
          142,
          350,
          496,
          253
         ],
         "categoryorder": "array",
         "domain": [
          0,
          1
         ],
         "title": {
          "text": "LoanAmount"
         }
        },
        "yaxis": {
         "anchor": "x",
         "domain": [
          0,
          1
         ],
         "title": {
          "text": "count"
         }
        }
       }
      }
     },
     "metadata": {},
     "output_type": "display_data"
    }
   ],
   "source": [
    "loan_histogram = px.histogram(loan_data, x='LoanAmount', color='LoanAmount', color_discrete_map= {'LoanAmount':'#CC3300'})\n",
    "loan_histogram.show()"
   ]
  },
  {
   "cell_type": "code",
   "execution_count": 94,
   "metadata": {},
   "outputs": [
    {
     "data": {
      "application/vnd.plotly.v1+json": {
       "config": {
        "plotlyServerURL": "https://plot.ly"
       },
       "data": [
        {
         "hovertemplate": "Gender=Male<br>Married=No<br>LoanAmount=%{x}<br>CoapplicantIncome=%{y}<extra></extra>",
         "legendgroup": "Male, No",
         "marker": {
          "color": "#636efa",
          "symbol": "circle"
         },
         "mode": "markers",
         "name": "Male, No",
         "orientation": "v",
         "showlegend": true,
         "type": "scatter",
         "x": [
          120,
          141,
          114,
          125,
          100,
          35,
          74,
          106,
          320,
          184,
          110,
          80,
          47,
          126,
          81,
          113,
          176,
          136,
          210,
          122,
          25,
          146.36762225969645,
          151,
          120,
          136,
          118,
          146.36762225969645,
          650,
          74,
          70,
          102,
          242,
          168,
          175,
          118,
          244,
          50,
          120,
          63,
          102,
          67,
          48,
          164,
          76,
          120,
          187,
          83,
          166,
          55,
          59,
          127,
          144,
          200,
          120,
          155,
          120,
          104,
          192,
          115,
          134,
          128,
          151,
          126,
          158,
          89,
          187,
          140,
          146.36762225969645,
          480,
          111,
          130,
          117,
          98,
          71,
          308,
          141,
          133,
          96,
          124,
          111,
          71,
          296,
          128,
          113,
          132,
          185,
          109,
          65,
          103,
          60,
          105,
          405,
          100,
          50,
          187,
          187,
          148,
          152,
          190,
          84,
          136,
          98,
          140,
          162,
          80,
          75,
          96,
          110,
          209,
          100,
          311,
          185,
          55,
          146.36762225969645,
          94,
          130,
          110,
          196,
          126,
          107,
          80,
          145,
          132,
          70,
          110,
          161,
          90,
          110,
          88,
          172
         ],
         "xaxis": "x",
         "y": [
          0,
          0,
          2840,
          0,
          0,
          0,
          0,
          0,
          3000,
          7210,
          1668,
          0,
          1213,
          2254,
          0,
          0,
          4750,
          2531,
          0,
          0,
          0,
          0,
          3806,
          0,
          0,
          0,
          1640,
          0,
          1929,
          0,
          0,
          0,
          0,
          0,
          0,
          0,
          0,
          2083,
          0,
          1451,
          5063,
          0,
          0,
          0,
          0,
          3750,
          0,
          0,
          2531,
          0,
          0,
          2791,
          0,
          2598,
          5701,
          4333,
          2167,
          0,
          0,
          2209,
          0,
          3447,
          1857,
          2426,
          3053,
          0,
          2500,
          0,
          0,
          2405,
          0,
          1793,
          0,
          0,
          4167,
          0,
          0,
          0,
          0,
          1987,
          0,
          4232,
          0,
          0,
          1600,
          0,
          1666,
          0,
          20000,
          0,
          0,
          0,
          0,
          1851,
          0,
          5064,
          1993,
          0,
          1542,
          0,
          0,
          0,
          0,
          4648,
          0,
          0,
          2785,
          0,
          4416,
          1287,
          3666,
          1915,
          0,
          2087,
          1302,
          0,
          0,
          0,
          2042,
          0,
          0,
          1783,
          0,
          0,
          2739,
          2917,
          33837,
          0,
          0,
          4301
         ],
         "yaxis": "y"
        },
        {
         "hovertemplate": "Gender=Male<br>Married=Yes<br>LoanAmount=%{x}<br>CoapplicantIncome=%{y}<extra></extra>",
         "legendgroup": "Male, Yes",
         "marker": {
          "color": "#636efa",
          "symbol": "diamond"
         },
         "mode": "markers",
         "name": "Male, Yes",
         "orientation": "v",
         "showlegend": true,
         "type": "scatter",
         "x": [
          128,
          66,
          120,
          267,
          95,
          158,
          168,
          349,
          70,
          109,
          200,
          17,
          133,
          115,
          104,
          315,
          116,
          151,
          191,
          122,
          110,
          201,
          114,
          146.36762225969645,
          100,
          75,
          134,
          96,
          44,
          144,
          134,
          97,
          96,
          135,
          180,
          144,
          120,
          99,
          165,
          146.36762225969645,
          258,
          312,
          125,
          172,
          97,
          95,
          187,
          110,
          180,
          130,
          146.36762225969645,
          265,
          50,
          99,
          104,
          175,
          131,
          188,
          81,
          50,
          115,
          131,
          133,
          146.36762225969645,
          146.36762225969645,
          160,
          100,
          225,
          216,
          94,
          152,
          185,
          85,
          175,
          180,
          81,
          194,
          160,
          182,
          25,
          290,
          88,
          129,
          185,
          122,
          187,
          30,
          125,
          152,
          113,
          600,
          160,
          187,
          255,
          98,
          275,
          121,
          158,
          75,
          182,
          129,
          200,
          95,
          81,
          187,
          87,
          116,
          101,
          495,
          116,
          180,
          73,
          260,
          120,
          66,
          58,
          188,
          160,
          170,
          90,
          146.36762225969645,
          135,
          124,
          128,
          240,
          130,
          137,
          100,
          135,
          131,
          72,
          60,
          116,
          175,
          128,
          170,
          138,
          210,
          158,
          104,
          42,
          140,
          170,
          255,
          96,
          120,
          140,
          108,
          123,
          112,
          137,
          123,
          90,
          201,
          279,
          94,
          304,
          128,
          330,
          150,
          160,
          136,
          150,
          90,
          115,
          207,
          80,
          436,
          112,
          78,
          146.36762225969645,
          120,
          139,
          127,
          134,
          172,
          110,
          200,
          113,
          93,
          105,
          96,
          185,
          144,
          111,
          120,
          88,
          155,
          115,
          124,
          146.36762225969645,
          300,
          376,
          184,
          490,
          70,
          160,
          176,
          173,
          158,
          74,
          125,
          160,
          152,
          126,
          259,
          187,
          228,
          95,
          165,
          67,
          100,
          200,
          236,
          130,
          95,
          175,
          570,
          155,
          380,
          120,
          130,
          130,
          130,
          128,
          100,
          146.36762225969645,
          136,
          125,
          275,
          120,
          113,
          113,
          135,
          95,
          45,
          115,
          152,
          360,
          160,
          218,
          110,
          239,
          112,
          138,
          138,
          100,
          110,
          96,
          121,
          133,
          87,
          143,
          146.36762225969645,
          180,
          175,
          130,
          110,
          55,
          150,
          125,
          60,
          149,
          90,
          96,
          118,
          173,
          160,
          128,
          153,
          70,
          110,
          162,
          113,
          100,
          150,
          230,
          86,
          146.36762225969645,
          113,
          128,
          234,
          246,
          131,
          500,
          160,
          186,
          119,
          107,
          111,
          95,
          208,
          138,
          124,
          243,
          480,
          188,
          250,
          148,
          70,
          150,
          123,
          45,
          100,
          480,
          400,
          110,
          161,
          216,
          100,
          324,
          66,
          157,
          128,
          155,
          110,
          146.36762225969645,
          146.36762225969645,
          158,
          181,
          132,
          26,
          260,
          162,
          108,
          211,
          258,
          120,
          123,
          104,
          186,
          165,
          275,
          187,
          150,
          108,
          107,
          205,
          61,
          146,
          172,
          104,
          106,
          56,
          205,
          142,
          260,
          187,
          180,
          192,
          155,
          128,
          146.36762225969645,
          173,
          157,
          108,
          40,
          253,
          187
         ],
         "xaxis": "x",
         "y": [
          1508,
          0,
          2358,
          4196,
          1516,
          2504,
          1526,
          10968,
          700,
          1840,
          8106,
          1086,
          0,
          3500,
          0,
          5625,
          1911,
          2925,
          0,
          2253,
          1040,
          3369,
          1667,
          2067,
          1330,
          0,
          2336,
          0,
          0,
          0,
          0,
          1167,
          1591,
          2200,
          2250,
          2859,
          3796,
          0,
          3449,
          0,
          4595,
          0,
          0,
          3066,
          1875,
          0,
          1774,
          3022,
          4000,
          2166,
          0,
          2250,
          0,
          2000,
          2118,
          4167,
          2900,
          5654,
          1820,
          997,
          0,
          3541,
          3263,
          0,
          3583,
          754,
          1030,
          1126,
          3600,
          754,
          4114,
          0,
          1398,
          2142,
          2667,
          0,
          2014,
          3850,
          2569,
          0,
          7750,
          3500,
          1430,
          2083,
          2034,
          0,
          1425,
          830,
          3750,
          0,
          0,
          0,
          0,
          5625,
          1041,
          0,
          1280,
          1447,
          0,
          3166,
          3333,
          0,
          1769,
          0,
          5625,
          736,
          1964,
          1619,
          11300,
          0,
          7250,
          0,
          0,
          4750,
          0,
          2138,
          0,
          0,
          2583,
          2500,
          0,
          1083,
          0,
          1250,
          0,
          0,
          3021,
          983,
          1800,
          1775,
          0,
          0,
          1717,
          1010,
          0,
          0,
          0,
          1695,
          0,
          2054,
          0,
          1779,
          1260,
          0,
          0,
          5000,
          1983,
          1300,
          4417,
          0,
          0,
          1843,
          1868,
          3890,
          7101,
          0,
          2100,
          0,
          4250,
          1387,
          1811,
          0,
          2223,
          0,
          1842,
          3274,
          1300,
          0,
          800,
          985.7999878,
          0,
          2000,
          2416,
          0,
          1560,
          3334,
          1250,
          0,
          2925,
          2934,
          1750,
          1803,
          0,
          0,
          1640,
          0,
          2134,
          0,
          2167,
          189,
          1590,
          0,
          4983,
          2160,
          0,
          4490,
          688,
          4600,
          1587,
          1229,
          0,
          2330,
          2458,
          3230,
          2168,
          4583,
          6250,
          0,
          2083,
          3167,
          0,
          1666,
          3167,
          3667,
          2333,
          3033,
          0,
          5266,
          0,
          7873,
          923,
          4996,
          0,
          0,
          2500,
          0,
          3136,
          2417,
          0,
          0,
          2115,
          1625,
          1400,
          484,
          1459,
          0,
          2400,
          0,
          0,
          0,
          0,
          2033,
          20000,
          2773,
          1417,
          0,
          1719,
          1667,
          0,
          4300,
          0,
          16.12000084,
          2340,
          1125,
          1833,
          8333,
          1210,
          0,
          1376,
          1710,
          1255,
          1456,
          1733,
          2466,
          0,
          0,
          2569,
          0,
          0,
          2188,
          1664,
          2451,
          2079,
          1500,
          0,
          1014,
          1750,
          2250,
          1603,
          0,
          3150,
          0,
          0,
          2436,
          0,
          2083,
          1131,
          2157,
          1700,
          2857,
          0,
          5624,
          5302,
          1483,
          4416,
          6667,
          3013,
          2004,
          2035,
          6666,
          3428,
          1800,
          1742,
          1424,
          7166,
          0,
          0,
          1430,
          5500,
          0,
          3906,
          536,
          0,
          2524,
          1950,
          2016,
          0,
          2375,
          3250,
          2333,
          4266,
          1032,
          0,
          2669,
          242,
          2054,
          0,
          0,
          2500,
          2064,
          1750,
          1451,
          0,
          1625,
          0,
          461,
          2232,
          0,
          0,
          1917,
          3000,
          1522,
          0,
          3416,
          0,
          3300,
          0,
          1000,
          0,
          0,
          2792,
          0,
          3800,
          2500,
          1411,
          1950,
          0,
          240,
          0
         ],
         "yaxis": "y"
        },
        {
         "hovertemplate": "Gender=Female<br>Married=No<br>LoanAmount=%{x}<br>CoapplicantIncome=%{y}<extra></extra>",
         "legendgroup": "Female, No",
         "marker": {
          "color": "#EF553B",
          "symbol": "circle"
         },
         "mode": "markers",
         "name": "Female, No",
         "orientation": "v",
         "showlegend": true,
         "type": "scatter",
         "x": [
          76,
          120,
          88,
          144,
          120,
          112,
          116,
          136,
          111,
          146.36762225969645,
          259,
          44,
          137,
          93,
          225,
          120,
          120,
          80,
          214,
          280,
          122,
          112,
          138,
          255,
          155,
          120,
          135,
          90,
          30,
          54,
          99,
          115,
          143,
          151,
          132,
          135,
          104,
          84,
          56,
          112,
          132,
          67,
          146.36762225969645,
          71,
          46,
          116,
          81,
          55,
          110,
          156,
          71,
          103,
          53,
          194,
          115,
          66,
          62,
          60,
          160,
          80,
          81,
          150,
          132,
          93,
          154,
          225,
          113,
          100,
          40,
          95,
          125,
          99,
          95,
          103,
          84,
          9,
          70,
          350,
          71,
          133
         ],
         "xaxis": "x",
         "y": [
          0,
          2083,
          0,
          2275,
          0,
          0,
          0,
          0,
          0,
          0,
          0,
          0,
          8980,
          0,
          1666,
          2365,
          0,
          0,
          0,
          0,
          0,
          0,
          0,
          0,
          0,
          0,
          0,
          1560,
          0,
          1666,
          1717,
          0,
          0,
          2541,
          0,
          1666,
          1863,
          0,
          0,
          0,
          2985,
          0,
          0,
          0,
          0,
          0,
          0,
          0,
          1459,
          0,
          0,
          1800,
          0,
          0,
          0,
          0,
          0,
          0,
          0,
          0,
          0,
          0,
          0,
          0,
          0,
          0,
          3683,
          0,
          0,
          0,
          0,
          0,
          0,
          0,
          1625,
          0,
          0,
          41667,
          0,
          0
         ],
         "yaxis": "y"
        },
        {
         "hovertemplate": "Gender=Female<br>Married=Yes<br>LoanAmount=%{x}<br>CoapplicantIncome=%{y}<extra></extra>",
         "legendgroup": "Female, Yes",
         "marker": {
          "color": "#EF553B",
          "symbol": "diamond"
         },
         "mode": "markers",
         "name": "Female, Yes",
         "orientation": "v",
         "showlegend": true,
         "type": "scatter",
         "x": [
          144,
          120,
          100,
          286,
          167,
          137,
          139,
          154,
          84,
          100,
          70,
          112,
          108,
          113,
          127,
          124,
          135,
          110,
          105,
          130,
          178,
          146.36762225969645,
          138,
          98,
          105,
          113,
          140,
          102,
          182,
          600,
          36,
          496
         ],
         "xaxis": "x",
         "y": [
          1459,
          3440,
          1644,
          0,
          1881,
          2302,
          2333,
          2283,
          0,
          4486,
          0,
          0,
          0,
          2816,
          2383,
          0,
          0,
          2451,
          0,
          505,
          3237,
          0,
          0,
          2917,
          913,
          1632,
          2845,
          663,
          2306,
          0,
          0,
          0
         ],
         "yaxis": "y"
        },
        {
         "hovertemplate": "Gender=False<br>Married=No<br>LoanAmount=%{x}<br>CoapplicantIncome=%{y}<extra></extra>",
         "legendgroup": "False, No",
         "marker": {
          "color": "#00cc96",
          "symbol": "circle"
         },
         "mode": "markers",
         "name": "False, No",
         "orientation": "v",
         "showlegend": true,
         "type": "scatter",
         "x": [
          96,
          94,
          292
         ],
         "xaxis": "x",
         "y": [
          0,
          0,
          0
         ],
         "yaxis": "y"
        },
        {
         "hovertemplate": "Gender=False<br>Married=Yes<br>LoanAmount=%{x}<br>CoapplicantIncome=%{y}<extra></extra>",
         "legendgroup": "False, Yes",
         "marker": {
          "color": "#00cc96",
          "symbol": "diamond"
         },
         "mode": "markers",
         "name": "False, Yes",
         "orientation": "v",
         "showlegend": true,
         "type": "scatter",
         "x": [
          112,
          370,
          700,
          168,
          159,
          182,
          160,
          110,
          132,
          136
         ],
         "xaxis": "x",
         "y": [
          1917,
          0,
          0,
          5296,
          1843,
          1833,
          4083,
          0,
          1872,
          2210
         ],
         "yaxis": "y"
        }
       ],
       "layout": {
        "legend": {
         "title": {
          "text": "Gender, Married"
         },
         "tracegroupgap": 0
        },
        "margin": {
         "t": 60
        },
        "template": {
         "data": {
          "bar": [
           {
            "error_x": {
             "color": "#2a3f5f"
            },
            "error_y": {
             "color": "#2a3f5f"
            },
            "marker": {
             "line": {
              "color": "#E5ECF6",
              "width": 0.5
             },
             "pattern": {
              "fillmode": "overlay",
              "size": 10,
              "solidity": 0.2
             }
            },
            "type": "bar"
           }
          ],
          "barpolar": [
           {
            "marker": {
             "line": {
              "color": "#E5ECF6",
              "width": 0.5
             },
             "pattern": {
              "fillmode": "overlay",
              "size": 10,
              "solidity": 0.2
             }
            },
            "type": "barpolar"
           }
          ],
          "carpet": [
           {
            "aaxis": {
             "endlinecolor": "#2a3f5f",
             "gridcolor": "white",
             "linecolor": "white",
             "minorgridcolor": "white",
             "startlinecolor": "#2a3f5f"
            },
            "baxis": {
             "endlinecolor": "#2a3f5f",
             "gridcolor": "white",
             "linecolor": "white",
             "minorgridcolor": "white",
             "startlinecolor": "#2a3f5f"
            },
            "type": "carpet"
           }
          ],
          "choropleth": [
           {
            "colorbar": {
             "outlinewidth": 0,
             "ticks": ""
            },
            "type": "choropleth"
           }
          ],
          "contour": [
           {
            "colorbar": {
             "outlinewidth": 0,
             "ticks": ""
            },
            "colorscale": [
             [
              0,
              "#0d0887"
             ],
             [
              0.1111111111111111,
              "#46039f"
             ],
             [
              0.2222222222222222,
              "#7201a8"
             ],
             [
              0.3333333333333333,
              "#9c179e"
             ],
             [
              0.4444444444444444,
              "#bd3786"
             ],
             [
              0.5555555555555556,
              "#d8576b"
             ],
             [
              0.6666666666666666,
              "#ed7953"
             ],
             [
              0.7777777777777778,
              "#fb9f3a"
             ],
             [
              0.8888888888888888,
              "#fdca26"
             ],
             [
              1,
              "#f0f921"
             ]
            ],
            "type": "contour"
           }
          ],
          "contourcarpet": [
           {
            "colorbar": {
             "outlinewidth": 0,
             "ticks": ""
            },
            "type": "contourcarpet"
           }
          ],
          "heatmap": [
           {
            "colorbar": {
             "outlinewidth": 0,
             "ticks": ""
            },
            "colorscale": [
             [
              0,
              "#0d0887"
             ],
             [
              0.1111111111111111,
              "#46039f"
             ],
             [
              0.2222222222222222,
              "#7201a8"
             ],
             [
              0.3333333333333333,
              "#9c179e"
             ],
             [
              0.4444444444444444,
              "#bd3786"
             ],
             [
              0.5555555555555556,
              "#d8576b"
             ],
             [
              0.6666666666666666,
              "#ed7953"
             ],
             [
              0.7777777777777778,
              "#fb9f3a"
             ],
             [
              0.8888888888888888,
              "#fdca26"
             ],
             [
              1,
              "#f0f921"
             ]
            ],
            "type": "heatmap"
           }
          ],
          "heatmapgl": [
           {
            "colorbar": {
             "outlinewidth": 0,
             "ticks": ""
            },
            "colorscale": [
             [
              0,
              "#0d0887"
             ],
             [
              0.1111111111111111,
              "#46039f"
             ],
             [
              0.2222222222222222,
              "#7201a8"
             ],
             [
              0.3333333333333333,
              "#9c179e"
             ],
             [
              0.4444444444444444,
              "#bd3786"
             ],
             [
              0.5555555555555556,
              "#d8576b"
             ],
             [
              0.6666666666666666,
              "#ed7953"
             ],
             [
              0.7777777777777778,
              "#fb9f3a"
             ],
             [
              0.8888888888888888,
              "#fdca26"
             ],
             [
              1,
              "#f0f921"
             ]
            ],
            "type": "heatmapgl"
           }
          ],
          "histogram": [
           {
            "marker": {
             "pattern": {
              "fillmode": "overlay",
              "size": 10,
              "solidity": 0.2
             }
            },
            "type": "histogram"
           }
          ],
          "histogram2d": [
           {
            "colorbar": {
             "outlinewidth": 0,
             "ticks": ""
            },
            "colorscale": [
             [
              0,
              "#0d0887"
             ],
             [
              0.1111111111111111,
              "#46039f"
             ],
             [
              0.2222222222222222,
              "#7201a8"
             ],
             [
              0.3333333333333333,
              "#9c179e"
             ],
             [
              0.4444444444444444,
              "#bd3786"
             ],
             [
              0.5555555555555556,
              "#d8576b"
             ],
             [
              0.6666666666666666,
              "#ed7953"
             ],
             [
              0.7777777777777778,
              "#fb9f3a"
             ],
             [
              0.8888888888888888,
              "#fdca26"
             ],
             [
              1,
              "#f0f921"
             ]
            ],
            "type": "histogram2d"
           }
          ],
          "histogram2dcontour": [
           {
            "colorbar": {
             "outlinewidth": 0,
             "ticks": ""
            },
            "colorscale": [
             [
              0,
              "#0d0887"
             ],
             [
              0.1111111111111111,
              "#46039f"
             ],
             [
              0.2222222222222222,
              "#7201a8"
             ],
             [
              0.3333333333333333,
              "#9c179e"
             ],
             [
              0.4444444444444444,
              "#bd3786"
             ],
             [
              0.5555555555555556,
              "#d8576b"
             ],
             [
              0.6666666666666666,
              "#ed7953"
             ],
             [
              0.7777777777777778,
              "#fb9f3a"
             ],
             [
              0.8888888888888888,
              "#fdca26"
             ],
             [
              1,
              "#f0f921"
             ]
            ],
            "type": "histogram2dcontour"
           }
          ],
          "mesh3d": [
           {
            "colorbar": {
             "outlinewidth": 0,
             "ticks": ""
            },
            "type": "mesh3d"
           }
          ],
          "parcoords": [
           {
            "line": {
             "colorbar": {
              "outlinewidth": 0,
              "ticks": ""
             }
            },
            "type": "parcoords"
           }
          ],
          "pie": [
           {
            "automargin": true,
            "type": "pie"
           }
          ],
          "scatter": [
           {
            "fillpattern": {
             "fillmode": "overlay",
             "size": 10,
             "solidity": 0.2
            },
            "type": "scatter"
           }
          ],
          "scatter3d": [
           {
            "line": {
             "colorbar": {
              "outlinewidth": 0,
              "ticks": ""
             }
            },
            "marker": {
             "colorbar": {
              "outlinewidth": 0,
              "ticks": ""
             }
            },
            "type": "scatter3d"
           }
          ],
          "scattercarpet": [
           {
            "marker": {
             "colorbar": {
              "outlinewidth": 0,
              "ticks": ""
             }
            },
            "type": "scattercarpet"
           }
          ],
          "scattergeo": [
           {
            "marker": {
             "colorbar": {
              "outlinewidth": 0,
              "ticks": ""
             }
            },
            "type": "scattergeo"
           }
          ],
          "scattergl": [
           {
            "marker": {
             "colorbar": {
              "outlinewidth": 0,
              "ticks": ""
             }
            },
            "type": "scattergl"
           }
          ],
          "scattermapbox": [
           {
            "marker": {
             "colorbar": {
              "outlinewidth": 0,
              "ticks": ""
             }
            },
            "type": "scattermapbox"
           }
          ],
          "scatterpolar": [
           {
            "marker": {
             "colorbar": {
              "outlinewidth": 0,
              "ticks": ""
             }
            },
            "type": "scatterpolar"
           }
          ],
          "scatterpolargl": [
           {
            "marker": {
             "colorbar": {
              "outlinewidth": 0,
              "ticks": ""
             }
            },
            "type": "scatterpolargl"
           }
          ],
          "scatterternary": [
           {
            "marker": {
             "colorbar": {
              "outlinewidth": 0,
              "ticks": ""
             }
            },
            "type": "scatterternary"
           }
          ],
          "surface": [
           {
            "colorbar": {
             "outlinewidth": 0,
             "ticks": ""
            },
            "colorscale": [
             [
              0,
              "#0d0887"
             ],
             [
              0.1111111111111111,
              "#46039f"
             ],
             [
              0.2222222222222222,
              "#7201a8"
             ],
             [
              0.3333333333333333,
              "#9c179e"
             ],
             [
              0.4444444444444444,
              "#bd3786"
             ],
             [
              0.5555555555555556,
              "#d8576b"
             ],
             [
              0.6666666666666666,
              "#ed7953"
             ],
             [
              0.7777777777777778,
              "#fb9f3a"
             ],
             [
              0.8888888888888888,
              "#fdca26"
             ],
             [
              1,
              "#f0f921"
             ]
            ],
            "type": "surface"
           }
          ],
          "table": [
           {
            "cells": {
             "fill": {
              "color": "#EBF0F8"
             },
             "line": {
              "color": "white"
             }
            },
            "header": {
             "fill": {
              "color": "#C8D4E3"
             },
             "line": {
              "color": "white"
             }
            },
            "type": "table"
           }
          ]
         },
         "layout": {
          "annotationdefaults": {
           "arrowcolor": "#2a3f5f",
           "arrowhead": 0,
           "arrowwidth": 1
          },
          "autotypenumbers": "strict",
          "coloraxis": {
           "colorbar": {
            "outlinewidth": 0,
            "ticks": ""
           }
          },
          "colorscale": {
           "diverging": [
            [
             0,
             "#8e0152"
            ],
            [
             0.1,
             "#c51b7d"
            ],
            [
             0.2,
             "#de77ae"
            ],
            [
             0.3,
             "#f1b6da"
            ],
            [
             0.4,
             "#fde0ef"
            ],
            [
             0.5,
             "#f7f7f7"
            ],
            [
             0.6,
             "#e6f5d0"
            ],
            [
             0.7,
             "#b8e186"
            ],
            [
             0.8,
             "#7fbc41"
            ],
            [
             0.9,
             "#4d9221"
            ],
            [
             1,
             "#276419"
            ]
           ],
           "sequential": [
            [
             0,
             "#0d0887"
            ],
            [
             0.1111111111111111,
             "#46039f"
            ],
            [
             0.2222222222222222,
             "#7201a8"
            ],
            [
             0.3333333333333333,
             "#9c179e"
            ],
            [
             0.4444444444444444,
             "#bd3786"
            ],
            [
             0.5555555555555556,
             "#d8576b"
            ],
            [
             0.6666666666666666,
             "#ed7953"
            ],
            [
             0.7777777777777778,
             "#fb9f3a"
            ],
            [
             0.8888888888888888,
             "#fdca26"
            ],
            [
             1,
             "#f0f921"
            ]
           ],
           "sequentialminus": [
            [
             0,
             "#0d0887"
            ],
            [
             0.1111111111111111,
             "#46039f"
            ],
            [
             0.2222222222222222,
             "#7201a8"
            ],
            [
             0.3333333333333333,
             "#9c179e"
            ],
            [
             0.4444444444444444,
             "#bd3786"
            ],
            [
             0.5555555555555556,
             "#d8576b"
            ],
            [
             0.6666666666666666,
             "#ed7953"
            ],
            [
             0.7777777777777778,
             "#fb9f3a"
            ],
            [
             0.8888888888888888,
             "#fdca26"
            ],
            [
             1,
             "#f0f921"
            ]
           ]
          },
          "colorway": [
           "#636efa",
           "#EF553B",
           "#00cc96",
           "#ab63fa",
           "#FFA15A",
           "#19d3f3",
           "#FF6692",
           "#B6E880",
           "#FF97FF",
           "#FECB52"
          ],
          "font": {
           "color": "#2a3f5f"
          },
          "geo": {
           "bgcolor": "white",
           "lakecolor": "white",
           "landcolor": "#E5ECF6",
           "showlakes": true,
           "showland": true,
           "subunitcolor": "white"
          },
          "hoverlabel": {
           "align": "left"
          },
          "hovermode": "closest",
          "mapbox": {
           "style": "light"
          },
          "paper_bgcolor": "white",
          "plot_bgcolor": "#E5ECF6",
          "polar": {
           "angularaxis": {
            "gridcolor": "white",
            "linecolor": "white",
            "ticks": ""
           },
           "bgcolor": "#E5ECF6",
           "radialaxis": {
            "gridcolor": "white",
            "linecolor": "white",
            "ticks": ""
           }
          },
          "scene": {
           "xaxis": {
            "backgroundcolor": "#E5ECF6",
            "gridcolor": "white",
            "gridwidth": 2,
            "linecolor": "white",
            "showbackground": true,
            "ticks": "",
            "zerolinecolor": "white"
           },
           "yaxis": {
            "backgroundcolor": "#E5ECF6",
            "gridcolor": "white",
            "gridwidth": 2,
            "linecolor": "white",
            "showbackground": true,
            "ticks": "",
            "zerolinecolor": "white"
           },
           "zaxis": {
            "backgroundcolor": "#E5ECF6",
            "gridcolor": "white",
            "gridwidth": 2,
            "linecolor": "white",
            "showbackground": true,
            "ticks": "",
            "zerolinecolor": "white"
           }
          },
          "shapedefaults": {
           "line": {
            "color": "#2a3f5f"
           }
          },
          "ternary": {
           "aaxis": {
            "gridcolor": "white",
            "linecolor": "white",
            "ticks": ""
           },
           "baxis": {
            "gridcolor": "white",
            "linecolor": "white",
            "ticks": ""
           },
           "bgcolor": "#E5ECF6",
           "caxis": {
            "gridcolor": "white",
            "linecolor": "white",
            "ticks": ""
           }
          },
          "title": {
           "x": 0.05
          },
          "xaxis": {
           "automargin": true,
           "gridcolor": "white",
           "linecolor": "white",
           "ticks": "",
           "title": {
            "standoff": 15
           },
           "zerolinecolor": "white",
           "zerolinewidth": 2
          },
          "yaxis": {
           "automargin": true,
           "gridcolor": "white",
           "linecolor": "white",
           "ticks": "",
           "title": {
            "standoff": 15
           },
           "zerolinecolor": "white",
           "zerolinewidth": 2
          }
         }
        },
        "xaxis": {
         "anchor": "y",
         "domain": [
          0,
          1
         ],
         "title": {
          "text": "LoanAmount"
         }
        },
        "yaxis": {
         "anchor": "x",
         "domain": [
          0,
          1
         ],
         "title": {
          "text": "CoapplicantIncome"
         }
        }
       }
      }
     },
     "metadata": {},
     "output_type": "display_data"
    }
   ],
   "source": [
    "loan_scatter = px.scatter(loan_data, x= 'LoanAmount', y='CoapplicantIncome', color='Gender', symbol='Married')\n",
    "loan_scatter.show()"
   ]
  },
  {
   "cell_type": "code",
   "execution_count": 101,
   "metadata": {},
   "outputs": [
    {
     "data": {
      "application/vnd.plotly.v1+json": {
       "config": {
        "plotlyServerURL": "https://plot.ly"
       },
       "data": [
        {
         "fillpattern": {
          "shape": "."
         },
         "hovertemplate": "Property_Area=Urban<br>Married=%{x}<br>LoanAmount=%{y}<extra></extra>",
         "legendgroup": "Urban",
         "line": {
          "color": "#636efa"
         },
         "marker": {
          "symbol": "circle"
         },
         "mode": "lines",
         "name": "Urban",
         "orientation": "v",
         "showlegend": true,
         "stackgroup": "1",
         "type": "scatter",
         "x": [
          "No",
          "Yes",
          "Yes",
          "No",
          "Yes",
          "Yes",
          "Yes",
          "Yes",
          "Yes",
          "Yes",
          "Yes",
          "No",
          "No",
          "No",
          "Yes",
          "Yes",
          "Yes",
          "Yes",
          "No",
          "Yes",
          "No",
          "Yes",
          "Yes",
          "No",
          "No",
          "No",
          "Yes",
          "Yes",
          "No",
          "Yes",
          "Yes",
          "Yes",
          "Yes",
          "Yes",
          "Yes",
          "Yes",
          "Yes",
          "Yes",
          "No",
          "Yes",
          "Yes",
          "Yes",
          "No",
          "No",
          "Yes",
          "Yes",
          "Yes",
          "No",
          "Yes",
          "No",
          "Yes",
          "Yes",
          "Yes",
          "Yes",
          "Yes",
          "Yes",
          "No",
          "Yes",
          "No",
          "Yes",
          "No",
          "No",
          "Yes",
          "No",
          "Yes",
          "Yes",
          "Yes",
          "No",
          "No",
          "Yes",
          "Yes",
          "Yes",
          "Yes",
          "No",
          "Yes",
          "Yes",
          "No",
          "No",
          "Yes",
          "Yes",
          "No",
          "No",
          "Yes",
          "Yes",
          "Yes",
          "Yes",
          "Yes",
          "No",
          "Yes",
          "No",
          "No",
          "Yes",
          "Yes",
          "Yes",
          "No",
          "No",
          "Yes",
          "Yes",
          "Yes",
          "No",
          "No",
          "Yes",
          "Yes",
          "No",
          "Yes",
          "No",
          "Yes",
          "No",
          "Yes",
          "Yes",
          "Yes",
          "Yes",
          "Yes",
          "No",
          "No",
          "Yes",
          "Yes",
          "Yes",
          "No",
          "No",
          "No",
          "Yes",
          "Yes",
          "No",
          "Yes",
          "Yes",
          "No",
          "Yes",
          "Yes",
          "Yes",
          "Yes",
          "No",
          "No",
          "Yes",
          "No",
          "Yes",
          "No",
          "No",
          "Yes",
          "No",
          "Yes",
          "Yes",
          "Yes",
          "Yes",
          "No",
          "Yes",
          "Yes",
          "Yes",
          "Yes",
          "No",
          "No",
          "Yes",
          "No",
          "Yes",
          "Yes",
          "No",
          "No",
          "Yes",
          "No",
          "Yes",
          "Yes",
          "Yes",
          "Yes",
          "Yes",
          "Yes",
          "No",
          "Yes",
          "Yes",
          "No",
          "Yes",
          "Yes",
          "Yes",
          "No",
          "Yes",
          "No",
          "Yes",
          "Yes",
          "No",
          "Yes",
          "Yes",
          "Yes",
          "Yes",
          "No",
          "Yes",
          "No",
          "No",
          "Yes",
          "Yes",
          "Yes",
          "Yes",
          "Yes",
          "No",
          "No",
          "No",
          "Yes",
          "Yes",
          "Yes",
          "No",
          "Yes",
          "Yes",
          "Yes",
          "Yes"
         ],
         "xaxis": "x",
         "y": [
          120,
          66,
          120,
          141,
          267,
          95,
          168,
          70,
          109,
          200,
          17,
          125,
          100,
          76,
          115,
          104,
          315,
          110,
          35,
          201,
          74,
          146.36762225969645,
          100,
          184,
          80,
          47,
          75,
          96,
          88,
          44,
          144,
          120,
          134,
          286,
          180,
          144,
          120,
          99,
          126,
          312,
          125,
          172,
          113,
          176,
          110,
          167,
          50,
          210,
          81,
          146.36762225969645,
          133,
          146.36762225969645,
          160,
          100,
          225,
          216,
          136,
          85,
          259,
          160,
          650,
          74,
          88,
          168,
          187,
          70,
          30,
          244,
          50,
          187,
          275,
          75,
          700,
          102,
          180,
          160,
          120,
          83,
          146.36762225969645,
          135,
          80,
          59,
          240,
          137,
          60,
          138,
          255,
          122,
          140,
          155,
          120,
          112,
          137,
          90,
          138,
          192,
          94,
          330,
          160,
          90,
          30,
          136,
          80,
          158,
          78,
          54,
          134,
          143,
          110,
          135,
          113,
          93,
          96,
          146.36762225969645,
          104,
          111,
          88,
          110,
          67,
          117,
          71,
          490,
          182,
          146.36762225969645,
          158,
          126,
          116,
          67,
          100,
          130,
          95,
          111,
          110,
          120,
          71,
          130,
          156,
          128,
          100,
          113,
          146.36762225969645,
          136,
          120,
          113,
          71,
          95,
          45,
          115,
          160,
          60,
          160,
          239,
          80,
          100,
          110,
          60,
          100,
          146.36762225969645,
          187,
          60,
          118,
          173,
          128,
          70,
          110,
          93,
          146.36762225969645,
          500,
          75,
          186,
          111,
          480,
          96,
          188,
          40,
          148,
          100,
          125,
          324,
          128,
          158,
          181,
          84,
          258,
          70,
          9,
          104,
          186,
          165,
          275,
          108,
          110,
          161,
          90,
          104,
          260,
          192,
          350,
          128,
          146.36762225969645,
          253,
          187
         ],
         "yaxis": "y"
        },
        {
         "fillpattern": {
          "shape": "."
         },
         "hovertemplate": "Property_Area=Rural<br>Married=%{x}<br>LoanAmount=%{y}<extra></extra>",
         "legendgroup": "Rural",
         "line": {
          "color": "#EF553B"
         },
         "marker": {
          "symbol": "circle"
         },
         "mode": "lines",
         "name": "Rural",
         "orientation": "v",
         "showlegend": true,
         "stackgroup": "1",
         "type": "scatter",
         "x": [
          "Yes",
          "No",
          "Yes",
          "Yes",
          "No",
          "No",
          "Yes",
          "Yes",
          "Yes",
          "No",
          "Yes",
          "Yes",
          "Yes",
          "Yes",
          "Yes",
          "No",
          "Yes",
          "No",
          "Yes",
          "Yes",
          "Yes",
          "Yes",
          "No",
          "No",
          "Yes",
          "Yes",
          "Yes",
          "No",
          "Yes",
          "Yes",
          "Yes",
          "Yes",
          "Yes",
          "Yes",
          "Yes",
          "Yes",
          "No",
          "Yes",
          "Yes",
          "Yes",
          "Yes",
          "No",
          "No",
          "No",
          "No",
          "Yes",
          "Yes",
          "Yes",
          "No",
          "Yes",
          "No",
          "Yes",
          "No",
          "Yes",
          "Yes",
          "No",
          "No",
          "No",
          "Yes",
          "No",
          "No",
          "No",
          "No",
          "Yes",
          "Yes",
          "No",
          "Yes",
          "No",
          "Yes",
          "No",
          "No",
          "No",
          "No",
          "No",
          "Yes",
          "No",
          "Yes",
          "Yes",
          "Yes",
          "Yes",
          "No",
          "Yes",
          "Yes",
          "No",
          "Yes",
          "Yes",
          "Yes",
          "No",
          "Yes",
          "Yes",
          "Yes",
          "No",
          "Yes",
          "Yes",
          "Yes",
          "No",
          "No",
          "No",
          "Yes",
          "Yes",
          "Yes",
          "Yes",
          "No",
          "Yes",
          "No",
          "No",
          "No",
          "No",
          "Yes",
          "Yes",
          "Yes",
          "Yes",
          "Yes",
          "Yes",
          "No",
          "Yes",
          "No",
          "Yes",
          "Yes",
          "Yes",
          "Yes",
          "Yes",
          "Yes",
          "Yes",
          "Yes",
          "Yes",
          "Yes",
          "No",
          "Yes",
          "No",
          "Yes",
          "No",
          "Yes",
          "No",
          "Yes",
          "Yes",
          "No",
          "No",
          "Yes",
          "Yes",
          "No",
          "No",
          "Yes",
          "Yes",
          "No",
          "No",
          "Yes",
          "No",
          "Yes",
          "Yes",
          "Yes",
          "Yes",
          "No",
          "No",
          "Yes",
          "Yes",
          "Yes",
          "No",
          "Yes",
          "Yes",
          "Yes",
          "Yes",
          "Yes",
          "Yes",
          "Yes",
          "Yes",
          "Yes",
          "Yes",
          "Yes",
          "Yes",
          "No",
          "Yes",
          "Yes",
          "Yes",
          "No",
          "Yes",
          "Yes",
          "No",
          "Yes"
         ],
         "xaxis": "x",
         "y": [
          128,
          114,
          133,
          112,
          106,
          320,
          135,
          165,
          146.36762225969645,
          120,
          152,
          185,
          175,
          180,
          194,
          93,
          370,
          146.36762225969645,
          182,
          84,
          129,
          185,
          225,
          118,
          152,
          113,
          160,
          120,
          158,
          182,
          112,
          129,
          95,
          81,
          116,
          101,
          67,
          66,
          58,
          168,
          188,
          48,
          120,
          187,
          55,
          130,
          135,
          170,
          200,
          42,
          120,
          170,
          112,
          120,
          108,
          104,
          255,
          115,
          304,
          120,
          151,
          135,
          126,
          124,
          146.36762225969645,
          89,
          120,
          187,
          139,
          151,
          132,
          140,
          135,
          480,
          185,
          56,
          144,
          159,
          155,
          146.36762225969645,
          132,
          300,
          376,
          130,
          160,
          176,
          173,
          46,
          125,
          152,
          187,
          308,
          95,
          105,
          165,
          141,
          133,
          124,
          570,
          380,
          130,
          125,
          185,
          275,
          109,
          65,
          194,
          66,
          360,
          218,
          110,
          112,
          138,
          121,
          81,
          87,
          105,
          138,
          180,
          175,
          130,
          110,
          55,
          150,
          125,
          149,
          90,
          136,
          153,
          140,
          113,
          162,
          150,
          154,
          113,
          131,
          80,
          110,
          119,
          107,
          209,
          113,
          138,
          243,
          100,
          311,
          150,
          95,
          100,
          480,
          400,
          216,
          110,
          126,
          66,
          157,
          155,
          145,
          110,
          146.36762225969645,
          146.36762225969645,
          132,
          211,
          120,
          123,
          107,
          61,
          146,
          172,
          142,
          110,
          187,
          180,
          155,
          172,
          157,
          108,
          71,
          40
         ],
         "yaxis": "y"
        },
        {
         "fillpattern": {
          "shape": "."
         },
         "hovertemplate": "Property_Area=Semiurban<br>Married=%{x}<br>LoanAmount=%{y}<extra></extra>",
         "legendgroup": "Semiurban",
         "line": {
          "color": "#00cc96"
         },
         "marker": {
          "symbol": "circle"
         },
         "mode": "lines",
         "name": "Semiurban",
         "orientation": "v",
         "showlegend": true,
         "stackgroup": "1",
         "type": "scatter",
         "x": [
          "Yes",
          "Yes",
          "Yes",
          "Yes",
          "Yes",
          "Yes",
          "No",
          "Yes",
          "Yes",
          "No",
          "Yes",
          "No",
          "Yes",
          "No",
          "No",
          "Yes",
          "Yes",
          "No",
          "Yes",
          "No",
          "Yes",
          "No",
          "Yes",
          "Yes",
          "Yes",
          "Yes",
          "No",
          "Yes",
          "Yes",
          "No",
          "Yes",
          "Yes",
          "Yes",
          "Yes",
          "Yes",
          "No",
          "No",
          "Yes",
          "Yes",
          "Yes",
          "Yes",
          "No",
          "Yes",
          "Yes",
          "Yes",
          "No",
          "No",
          "Yes",
          "No",
          "No",
          "Yes",
          "No",
          "Yes",
          "No",
          "Yes",
          "No",
          "No",
          "Yes",
          "Yes",
          "Yes",
          "Yes",
          "Yes",
          "Yes",
          "Yes",
          "No",
          "Yes",
          "Yes",
          "Yes",
          "Yes",
          "Yes",
          "Yes",
          "Yes",
          "Yes",
          "Yes",
          "No",
          "No",
          "Yes",
          "Yes",
          "Yes",
          "No",
          "Yes",
          "No",
          "No",
          "No",
          "Yes",
          "Yes",
          "Yes",
          "Yes",
          "Yes",
          "Yes",
          "No",
          "Yes",
          "Yes",
          "Yes",
          "Yes",
          "Yes",
          "No",
          "Yes",
          "Yes",
          "Yes",
          "Yes",
          "Yes",
          "Yes",
          "Yes",
          "No",
          "No",
          "No",
          "Yes",
          "Yes",
          "Yes",
          "Yes",
          "Yes",
          "Yes",
          "Yes",
          "No",
          "No",
          "Yes",
          "Yes",
          "Yes",
          "Yes",
          "No",
          "No",
          "Yes",
          "No",
          "Yes",
          "Yes",
          "Yes",
          "No",
          "Yes",
          "No",
          "Yes",
          "Yes",
          "Yes",
          "Yes",
          "Yes",
          "Yes",
          "No",
          "Yes",
          "No",
          "Yes",
          "No",
          "Yes",
          "Yes",
          "Yes",
          "No",
          "No",
          "Yes",
          "Yes",
          "No",
          "No",
          "No",
          "No",
          "Yes",
          "No",
          "Yes",
          "Yes",
          "Yes",
          "Yes",
          "No",
          "No",
          "Yes",
          "Yes",
          "No",
          "No",
          "No",
          "No",
          "No",
          "No",
          "Yes",
          "Yes",
          "Yes",
          "No",
          "No",
          "Yes",
          "Yes",
          "Yes",
          "Yes",
          "Yes",
          "Yes",
          "Yes",
          "Yes",
          "Yes",
          "Yes",
          "Yes",
          "No",
          "No",
          "Yes",
          "Yes",
          "No",
          "Yes",
          "Yes",
          "Yes",
          "Yes",
          "Yes",
          "Yes",
          "No",
          "Yes",
          "No",
          "No",
          "Yes",
          "Yes",
          "No",
          "No",
          "No",
          "No",
          "Yes",
          "No",
          "No",
          "Yes",
          "No",
          "No",
          "Yes",
          "Yes",
          "Yes",
          "Yes",
          "Yes",
          "Yes",
          "No",
          "Yes",
          "Yes",
          "Yes",
          "Yes",
          "Yes",
          "No",
          "No",
          "Yes",
          "Yes",
          "Yes",
          "No",
          "No",
          "Yes",
          "Yes",
          "No"
         ],
         "xaxis": "x",
         "y": [
          158,
          349,
          116,
          151,
          191,
          122,
          120,
          114,
          144,
          110,
          134,
          144,
          100,
          120,
          112,
          97,
          96,
          116,
          258,
          136,
          97,
          81,
          95,
          187,
          180,
          130,
          111,
          146.36762225969645,
          265,
          136,
          99,
          104,
          175,
          131,
          188,
          122,
          25,
          137,
          50,
          115,
          131,
          151,
          146.36762225969645,
          94,
          139,
          146.36762225969645,
          118,
          154,
          44,
          137,
          81,
          70,
          25,
          102,
          290,
          242,
          175,
          122,
          100,
          125,
          600,
          255,
          98,
          121,
          63,
          200,
          187,
          87,
          495,
          116,
          73,
          260,
          108,
          120,
          164,
          76,
          170,
          113,
          90,
          166,
          124,
          120,
          127,
          214,
          128,
          100,
          131,
          72,
          127,
          116,
          144,
          175,
          128,
          210,
          158,
          104,
          280,
          140,
          96,
          123,
          123,
          201,
          279,
          128,
          134,
          155,
          128,
          150,
          150,
          90,
          115,
          207,
          436,
          112,
          99,
          115,
          127,
          172,
          200,
          105,
          84,
          111,
          120,
          112,
          115,
          124,
          184,
          98,
          70,
          71,
          74,
          160,
          259,
          228,
          130,
          200,
          81,
          236,
          96,
          175,
          55,
          155,
          130,
          128,
          296,
          132,
          113,
          135,
          103,
          103,
          53,
          115,
          152,
          62,
          178,
          138,
          96,
          133,
          150,
          405,
          143,
          146.36762225969645,
          50,
          187,
          148,
          152,
          190,
          84,
          96,
          160,
          160,
          132,
          98,
          110,
          98,
          162,
          100,
          230,
          132,
          86,
          128,
          234,
          246,
          160,
          96,
          225,
          105,
          95,
          100,
          208,
          124,
          250,
          70,
          113,
          123,
          185,
          45,
          55,
          146.36762225969645,
          110,
          161,
          94,
          130,
          196,
          107,
          140,
          99,
          95,
          102,
          80,
          103,
          26,
          260,
          162,
          182,
          108,
          600,
          132,
          187,
          150,
          136,
          205,
          36,
          70,
          94,
          106,
          56,
          205,
          292,
          88,
          496,
          173,
          133
         ],
         "yaxis": "y"
        }
       ],
       "layout": {
        "legend": {
         "title": {
          "text": "Property_Area"
         },
         "tracegroupgap": 0
        },
        "margin": {
         "t": 60
        },
        "template": {
         "data": {
          "bar": [
           {
            "error_x": {
             "color": "#2a3f5f"
            },
            "error_y": {
             "color": "#2a3f5f"
            },
            "marker": {
             "line": {
              "color": "#E5ECF6",
              "width": 0.5
             },
             "pattern": {
              "fillmode": "overlay",
              "size": 10,
              "solidity": 0.2
             }
            },
            "type": "bar"
           }
          ],
          "barpolar": [
           {
            "marker": {
             "line": {
              "color": "#E5ECF6",
              "width": 0.5
             },
             "pattern": {
              "fillmode": "overlay",
              "size": 10,
              "solidity": 0.2
             }
            },
            "type": "barpolar"
           }
          ],
          "carpet": [
           {
            "aaxis": {
             "endlinecolor": "#2a3f5f",
             "gridcolor": "white",
             "linecolor": "white",
             "minorgridcolor": "white",
             "startlinecolor": "#2a3f5f"
            },
            "baxis": {
             "endlinecolor": "#2a3f5f",
             "gridcolor": "white",
             "linecolor": "white",
             "minorgridcolor": "white",
             "startlinecolor": "#2a3f5f"
            },
            "type": "carpet"
           }
          ],
          "choropleth": [
           {
            "colorbar": {
             "outlinewidth": 0,
             "ticks": ""
            },
            "type": "choropleth"
           }
          ],
          "contour": [
           {
            "colorbar": {
             "outlinewidth": 0,
             "ticks": ""
            },
            "colorscale": [
             [
              0,
              "#0d0887"
             ],
             [
              0.1111111111111111,
              "#46039f"
             ],
             [
              0.2222222222222222,
              "#7201a8"
             ],
             [
              0.3333333333333333,
              "#9c179e"
             ],
             [
              0.4444444444444444,
              "#bd3786"
             ],
             [
              0.5555555555555556,
              "#d8576b"
             ],
             [
              0.6666666666666666,
              "#ed7953"
             ],
             [
              0.7777777777777778,
              "#fb9f3a"
             ],
             [
              0.8888888888888888,
              "#fdca26"
             ],
             [
              1,
              "#f0f921"
             ]
            ],
            "type": "contour"
           }
          ],
          "contourcarpet": [
           {
            "colorbar": {
             "outlinewidth": 0,
             "ticks": ""
            },
            "type": "contourcarpet"
           }
          ],
          "heatmap": [
           {
            "colorbar": {
             "outlinewidth": 0,
             "ticks": ""
            },
            "colorscale": [
             [
              0,
              "#0d0887"
             ],
             [
              0.1111111111111111,
              "#46039f"
             ],
             [
              0.2222222222222222,
              "#7201a8"
             ],
             [
              0.3333333333333333,
              "#9c179e"
             ],
             [
              0.4444444444444444,
              "#bd3786"
             ],
             [
              0.5555555555555556,
              "#d8576b"
             ],
             [
              0.6666666666666666,
              "#ed7953"
             ],
             [
              0.7777777777777778,
              "#fb9f3a"
             ],
             [
              0.8888888888888888,
              "#fdca26"
             ],
             [
              1,
              "#f0f921"
             ]
            ],
            "type": "heatmap"
           }
          ],
          "heatmapgl": [
           {
            "colorbar": {
             "outlinewidth": 0,
             "ticks": ""
            },
            "colorscale": [
             [
              0,
              "#0d0887"
             ],
             [
              0.1111111111111111,
              "#46039f"
             ],
             [
              0.2222222222222222,
              "#7201a8"
             ],
             [
              0.3333333333333333,
              "#9c179e"
             ],
             [
              0.4444444444444444,
              "#bd3786"
             ],
             [
              0.5555555555555556,
              "#d8576b"
             ],
             [
              0.6666666666666666,
              "#ed7953"
             ],
             [
              0.7777777777777778,
              "#fb9f3a"
             ],
             [
              0.8888888888888888,
              "#fdca26"
             ],
             [
              1,
              "#f0f921"
             ]
            ],
            "type": "heatmapgl"
           }
          ],
          "histogram": [
           {
            "marker": {
             "pattern": {
              "fillmode": "overlay",
              "size": 10,
              "solidity": 0.2
             }
            },
            "type": "histogram"
           }
          ],
          "histogram2d": [
           {
            "colorbar": {
             "outlinewidth": 0,
             "ticks": ""
            },
            "colorscale": [
             [
              0,
              "#0d0887"
             ],
             [
              0.1111111111111111,
              "#46039f"
             ],
             [
              0.2222222222222222,
              "#7201a8"
             ],
             [
              0.3333333333333333,
              "#9c179e"
             ],
             [
              0.4444444444444444,
              "#bd3786"
             ],
             [
              0.5555555555555556,
              "#d8576b"
             ],
             [
              0.6666666666666666,
              "#ed7953"
             ],
             [
              0.7777777777777778,
              "#fb9f3a"
             ],
             [
              0.8888888888888888,
              "#fdca26"
             ],
             [
              1,
              "#f0f921"
             ]
            ],
            "type": "histogram2d"
           }
          ],
          "histogram2dcontour": [
           {
            "colorbar": {
             "outlinewidth": 0,
             "ticks": ""
            },
            "colorscale": [
             [
              0,
              "#0d0887"
             ],
             [
              0.1111111111111111,
              "#46039f"
             ],
             [
              0.2222222222222222,
              "#7201a8"
             ],
             [
              0.3333333333333333,
              "#9c179e"
             ],
             [
              0.4444444444444444,
              "#bd3786"
             ],
             [
              0.5555555555555556,
              "#d8576b"
             ],
             [
              0.6666666666666666,
              "#ed7953"
             ],
             [
              0.7777777777777778,
              "#fb9f3a"
             ],
             [
              0.8888888888888888,
              "#fdca26"
             ],
             [
              1,
              "#f0f921"
             ]
            ],
            "type": "histogram2dcontour"
           }
          ],
          "mesh3d": [
           {
            "colorbar": {
             "outlinewidth": 0,
             "ticks": ""
            },
            "type": "mesh3d"
           }
          ],
          "parcoords": [
           {
            "line": {
             "colorbar": {
              "outlinewidth": 0,
              "ticks": ""
             }
            },
            "type": "parcoords"
           }
          ],
          "pie": [
           {
            "automargin": true,
            "type": "pie"
           }
          ],
          "scatter": [
           {
            "fillpattern": {
             "fillmode": "overlay",
             "size": 10,
             "solidity": 0.2
            },
            "type": "scatter"
           }
          ],
          "scatter3d": [
           {
            "line": {
             "colorbar": {
              "outlinewidth": 0,
              "ticks": ""
             }
            },
            "marker": {
             "colorbar": {
              "outlinewidth": 0,
              "ticks": ""
             }
            },
            "type": "scatter3d"
           }
          ],
          "scattercarpet": [
           {
            "marker": {
             "colorbar": {
              "outlinewidth": 0,
              "ticks": ""
             }
            },
            "type": "scattercarpet"
           }
          ],
          "scattergeo": [
           {
            "marker": {
             "colorbar": {
              "outlinewidth": 0,
              "ticks": ""
             }
            },
            "type": "scattergeo"
           }
          ],
          "scattergl": [
           {
            "marker": {
             "colorbar": {
              "outlinewidth": 0,
              "ticks": ""
             }
            },
            "type": "scattergl"
           }
          ],
          "scattermapbox": [
           {
            "marker": {
             "colorbar": {
              "outlinewidth": 0,
              "ticks": ""
             }
            },
            "type": "scattermapbox"
           }
          ],
          "scatterpolar": [
           {
            "marker": {
             "colorbar": {
              "outlinewidth": 0,
              "ticks": ""
             }
            },
            "type": "scatterpolar"
           }
          ],
          "scatterpolargl": [
           {
            "marker": {
             "colorbar": {
              "outlinewidth": 0,
              "ticks": ""
             }
            },
            "type": "scatterpolargl"
           }
          ],
          "scatterternary": [
           {
            "marker": {
             "colorbar": {
              "outlinewidth": 0,
              "ticks": ""
             }
            },
            "type": "scatterternary"
           }
          ],
          "surface": [
           {
            "colorbar": {
             "outlinewidth": 0,
             "ticks": ""
            },
            "colorscale": [
             [
              0,
              "#0d0887"
             ],
             [
              0.1111111111111111,
              "#46039f"
             ],
             [
              0.2222222222222222,
              "#7201a8"
             ],
             [
              0.3333333333333333,
              "#9c179e"
             ],
             [
              0.4444444444444444,
              "#bd3786"
             ],
             [
              0.5555555555555556,
              "#d8576b"
             ],
             [
              0.6666666666666666,
              "#ed7953"
             ],
             [
              0.7777777777777778,
              "#fb9f3a"
             ],
             [
              0.8888888888888888,
              "#fdca26"
             ],
             [
              1,
              "#f0f921"
             ]
            ],
            "type": "surface"
           }
          ],
          "table": [
           {
            "cells": {
             "fill": {
              "color": "#EBF0F8"
             },
             "line": {
              "color": "white"
             }
            },
            "header": {
             "fill": {
              "color": "#C8D4E3"
             },
             "line": {
              "color": "white"
             }
            },
            "type": "table"
           }
          ]
         },
         "layout": {
          "annotationdefaults": {
           "arrowcolor": "#2a3f5f",
           "arrowhead": 0,
           "arrowwidth": 1
          },
          "autotypenumbers": "strict",
          "coloraxis": {
           "colorbar": {
            "outlinewidth": 0,
            "ticks": ""
           }
          },
          "colorscale": {
           "diverging": [
            [
             0,
             "#8e0152"
            ],
            [
             0.1,
             "#c51b7d"
            ],
            [
             0.2,
             "#de77ae"
            ],
            [
             0.3,
             "#f1b6da"
            ],
            [
             0.4,
             "#fde0ef"
            ],
            [
             0.5,
             "#f7f7f7"
            ],
            [
             0.6,
             "#e6f5d0"
            ],
            [
             0.7,
             "#b8e186"
            ],
            [
             0.8,
             "#7fbc41"
            ],
            [
             0.9,
             "#4d9221"
            ],
            [
             1,
             "#276419"
            ]
           ],
           "sequential": [
            [
             0,
             "#0d0887"
            ],
            [
             0.1111111111111111,
             "#46039f"
            ],
            [
             0.2222222222222222,
             "#7201a8"
            ],
            [
             0.3333333333333333,
             "#9c179e"
            ],
            [
             0.4444444444444444,
             "#bd3786"
            ],
            [
             0.5555555555555556,
             "#d8576b"
            ],
            [
             0.6666666666666666,
             "#ed7953"
            ],
            [
             0.7777777777777778,
             "#fb9f3a"
            ],
            [
             0.8888888888888888,
             "#fdca26"
            ],
            [
             1,
             "#f0f921"
            ]
           ],
           "sequentialminus": [
            [
             0,
             "#0d0887"
            ],
            [
             0.1111111111111111,
             "#46039f"
            ],
            [
             0.2222222222222222,
             "#7201a8"
            ],
            [
             0.3333333333333333,
             "#9c179e"
            ],
            [
             0.4444444444444444,
             "#bd3786"
            ],
            [
             0.5555555555555556,
             "#d8576b"
            ],
            [
             0.6666666666666666,
             "#ed7953"
            ],
            [
             0.7777777777777778,
             "#fb9f3a"
            ],
            [
             0.8888888888888888,
             "#fdca26"
            ],
            [
             1,
             "#f0f921"
            ]
           ]
          },
          "colorway": [
           "#636efa",
           "#EF553B",
           "#00cc96",
           "#ab63fa",
           "#FFA15A",
           "#19d3f3",
           "#FF6692",
           "#B6E880",
           "#FF97FF",
           "#FECB52"
          ],
          "font": {
           "color": "#2a3f5f"
          },
          "geo": {
           "bgcolor": "white",
           "lakecolor": "white",
           "landcolor": "#E5ECF6",
           "showlakes": true,
           "showland": true,
           "subunitcolor": "white"
          },
          "hoverlabel": {
           "align": "left"
          },
          "hovermode": "closest",
          "mapbox": {
           "style": "light"
          },
          "paper_bgcolor": "white",
          "plot_bgcolor": "#E5ECF6",
          "polar": {
           "angularaxis": {
            "gridcolor": "white",
            "linecolor": "white",
            "ticks": ""
           },
           "bgcolor": "#E5ECF6",
           "radialaxis": {
            "gridcolor": "white",
            "linecolor": "white",
            "ticks": ""
           }
          },
          "scene": {
           "xaxis": {
            "backgroundcolor": "#E5ECF6",
            "gridcolor": "white",
            "gridwidth": 2,
            "linecolor": "white",
            "showbackground": true,
            "ticks": "",
            "zerolinecolor": "white"
           },
           "yaxis": {
            "backgroundcolor": "#E5ECF6",
            "gridcolor": "white",
            "gridwidth": 2,
            "linecolor": "white",
            "showbackground": true,
            "ticks": "",
            "zerolinecolor": "white"
           },
           "zaxis": {
            "backgroundcolor": "#E5ECF6",
            "gridcolor": "white",
            "gridwidth": 2,
            "linecolor": "white",
            "showbackground": true,
            "ticks": "",
            "zerolinecolor": "white"
           }
          },
          "shapedefaults": {
           "line": {
            "color": "#2a3f5f"
           }
          },
          "ternary": {
           "aaxis": {
            "gridcolor": "white",
            "linecolor": "white",
            "ticks": ""
           },
           "baxis": {
            "gridcolor": "white",
            "linecolor": "white",
            "ticks": ""
           },
           "bgcolor": "#E5ECF6",
           "caxis": {
            "gridcolor": "white",
            "linecolor": "white",
            "ticks": ""
           }
          },
          "title": {
           "x": 0.05
          },
          "xaxis": {
           "automargin": true,
           "gridcolor": "white",
           "linecolor": "white",
           "ticks": "",
           "title": {
            "standoff": 15
           },
           "zerolinecolor": "white",
           "zerolinewidth": 2
          },
          "yaxis": {
           "automargin": true,
           "gridcolor": "white",
           "linecolor": "white",
           "ticks": "",
           "title": {
            "standoff": 15
           },
           "zerolinecolor": "white",
           "zerolinewidth": 2
          }
         }
        },
        "xaxis": {
         "anchor": "y",
         "domain": [
          0,
          1
         ],
         "title": {
          "text": "Married"
         }
        },
        "yaxis": {
         "anchor": "x",
         "domain": [
          0,
          1
         ],
         "title": {
          "text": "LoanAmount"
         }
        }
       }
      }
     },
     "metadata": {},
     "output_type": "display_data"
    }
   ],
   "source": [
    "loan_area = px.area(loan_data, x='Married', y='LoanAmount', color='Property_Area',  pattern_shape_sequence=['.','_','+'])\n",
    "loan_area.show()"
   ]
  },
  {
   "cell_type": "code",
   "execution_count": null,
   "metadata": {},
   "outputs": [],
   "source": []
  }
 ],
 "metadata": {
  "kernelspec": {
   "display_name": "base",
   "language": "python",
   "name": "python3"
  },
  "language_info": {
   "codemirror_mode": {
    "name": "ipython",
    "version": 3
   },
   "file_extension": ".py",
   "mimetype": "text/x-python",
   "name": "python",
   "nbconvert_exporter": "python",
   "pygments_lexer": "ipython3",
   "version": "3.11.4"
  }
 },
 "nbformat": 4,
 "nbformat_minor": 2
}
